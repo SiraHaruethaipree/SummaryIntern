{
 "cells": [
  {
   "cell_type": "markdown",
   "metadata": {},
   "source": [
    "https://python.langchain.com/docs/modules/data_connection/retrievers/vectorstore"
   ]
  },
  {
   "cell_type": "code",
   "execution_count": 45,
   "metadata": {},
   "outputs": [],
   "source": [
    "from langchain.vectorstores import FAISS\n",
    "from langchain.embeddings import HuggingFaceEmbeddings"
   ]
  },
  {
   "cell_type": "code",
   "execution_count": 48,
   "metadata": {},
   "outputs": [],
   "source": [
    "DB_FAISS_PATH = \"/home/sira/sira_project/meta-Llama2/vectorstores_clean_doc_gte-base/db_faiss\"\n",
    "embeddings = HuggingFaceEmbeddings(model_name = \"thenlper/gte-base\",\n",
    "                                model_kwargs = {'device': 'cpu'})\n",
    "db = FAISS.load_local(DB_FAISS_PATH, embeddings)"
   ]
  },
  {
   "cell_type": "markdown",
   "metadata": {},
   "source": [
    "# Top k"
   ]
  },
  {
   "cell_type": "code",
   "execution_count": 62,
   "metadata": {},
   "outputs": [],
   "source": [
    "question = \"Which role is Gregory in?\"\n",
    "docs_ss = db.similarity_search(question,k=5)"
   ]
  },
  {
   "cell_type": "code",
   "execution_count": 63,
   "metadata": {},
   "outputs": [
    {
     "data": {
      "text/plain": [
       "[Document(page_content='Gregory Binger\\n\\nChairman, Chief Operating Officer, Co-Founder\\n\\nGregory Binger has been a senior officer, board member, senior counsel or adviser to many of the world’s best-known Internet brands, technology, communications, media and entertainment companies. His positions have included Senior Counsel and Management Board for at Yahoo! UK & Ireland, Executive Vice President & General Counsel at Lycos Asia, Acting Senior Corporate Counsel at nineMSN Australia, and Acting Corporate Counsel Europe at CompuServe.\\n\\nHe has taken a hands-on approach in securing successful deals on a wide range of issues relating to technology and media licensing and procurement, intellectual property, information technology, technology outsourcing, systems integration, electronic, online and mobile content, games and applications, animation and video postproduction, VoIP, WiFi, and online betting and gaming.', metadata={'source': 'omniscien.com/about-us/company/index.html'}),\n",
       " Document(page_content='Far from being an ivory tower academic, Greg has excelled at managing and achieving successful results from multi-disciplinary teams of all sizes dealing with marketing, business development and corporate governance. He has significant experience managing companies in Asia. For example at Lycos Asia, he had oversight management of the company secretarial function for the primary holding company and 23 affiliated companies around the world.\\n\\nGreg has been a frequent speaker and publisher of articles on such diverse topics as hyper-linking risks, copyright and information distribution on computer networks, data security, information privacy, content supply, resale and distribution, intellectual property and technology convergence. He co-authored Computer Evidence: A Forensic Investigations Handbook, a book that deals with covert electronic surveillance, legal and ethical hacking and evidence gathering and preservation techniques.\\n\\nDion Wiggins\\n\\nChief Technology Officer, Co-Founder', metadata={'source': 'omniscien.com/about-us/company/index.html'}),\n",
       " Document(page_content='GGaussian Mixture Model (GMM)GDI SignalGDPRGeneral Data Protection Regulation (GDPR)Generic Speech RecognitionGlobal Data Input Signal (GDI Signal)Glottal ExcitationGMMGoogle ActionGoogle AssistantGoogle HomeGrammarGrammar XML (grXML)Grapheme-to-Phoneme (G2P)Gricean Maxims (The)grXML\\n\\nRelated Links\\n\\nLanguage Studio offers a wide range of speech processing features\\n\\nTranscribe in 48 languages\\n\\nAdvanced Media Processing (AMP)\\n\\nTranslate Subtitles and Captions in Real-Time\\n\\nLive News and Sports Streaming\\n\\nDictate Microsoft Office Documents\\n\\nTranscribe Video and Audio Files into Captions and Subtitles\\n\\nMulti-Language Interviews\\n\\nReal-Time transcription of Video Conferences, Calls and Webinars\\n\\nCustomized Speech Recognition via Domain Adaptation\\n\\nCheck out our recent webinars about ASR and TTS\\n\\nRedefining Domain Adaptation for Machine Translation and Voice Recognition – An Essential Primer', metadata={'source': 'omniscien.com/blog/speech-recognition-and-speech-synthesis-glossary-terminology-that-you-should-know/index.html'}),\n",
       " Document(page_content='Omniscien Technologies products and technologies are deployed globally to a wide variety of customers including governments, multinationals, language service providers, e-commerce providers, media organizations and some of the world’s leading companies and best-known global brands.\\n\\nCovering nearly 600 global language pairs and with several industry-specific solutions, Omniscien Technologies remains the partner of choice for customers with complex, high-volume bespoke data processing and machine translation needs.\\n\\nFounded in 2007, Omniscien Technologies Headquarters are located in Singapore, with R&D based out of Bangkok, Thailand, and a commercial presence in several locations in Europe and North America.\\n\\nTeam\\n\\nThe Omniscien team comes from a broad set of complementary backgrounds that empower the organization and bridge the cultural and language barriers that define the cross-border and language industries.\\n\\nGregory Binger\\n\\nChairman, Chief Operating Officer, Co-Founder', metadata={'source': 'omniscien.com/about-us/company/index.html'}),\n",
       " Document(page_content='Subtitle\\n\\nA subtitle is a written text displayed on the screen that provides a translation or transcription of the spoken language in a video. Subtitles are commonly used in movies or TV shows to provide translations of foreign language dialogue, or to help viewers who are hard of hearing or have difficulty understanding the spoken language. Subtitles are usually positioned at the bottom of the screen and are typically added as a separate file, similar to closed captions. Unlike closed captions, however, subtitles are not necessarily intended to provide a full transcription of all the audio content and may only display key dialogue or important information.\\n\\nSee also Caption, Closed Caption, Open Caption.\\n\\nSupervised Learning', metadata={'source': 'omniscien.com/blog/speech-recognition-speech-synthesis-glossary-o-u/index.html'})]"
      ]
     },
     "execution_count": 63,
     "metadata": {},
     "output_type": "execute_result"
    }
   ],
   "source": [
    "docs_ss"
   ]
  },
  {
   "cell_type": "code",
   "execution_count": 64,
   "metadata": {},
   "outputs": [],
   "source": [
    "score = db.similarity_search_with_score(question, k=20)"
   ]
  },
  {
   "cell_type": "code",
   "execution_count": 65,
   "metadata": {},
   "outputs": [
    {
     "name": "stdout",
     "output_type": "stream",
     "text": [
      "{'source': 'omniscien.com/about-us/company/index.html'} 0.3711669\n",
      "{'source': 'omniscien.com/about-us/company/index.html'} 0.41423225\n",
      "{'source': 'omniscien.com/blog/speech-recognition-and-speech-synthesis-glossary-terminology-that-you-should-know/index.html'} 0.46924442\n",
      "{'source': 'omniscien.com/about-us/company/index.html'} 0.4727887\n",
      "{'source': 'omniscien.com/blog/speech-recognition-speech-synthesis-glossary-o-u/index.html'} 0.48094168\n",
      "{'source': 'omniscien.com/blog/speech-recognition-and-speech-synthesis-glossary-terminology-that-you-should-know/index.html'} 0.48192027\n",
      "{'source': 'omniscien.com/technology/index.html'} 0.48200208\n",
      "{'source': 'omniscien.com/blog/speech-recognition-and-speech-synthesis-glossary-terminology-that-you-should-know/index.html'} 0.484687\n",
      "{'source': 'omniscien.com/blog/speech-recognition-and-speech-synthesis-glossary-terminology-that-you-should-know/index.html'} 0.48496088\n",
      "{'source': 'omniscien.com/lsev6/features/amp/advanced-media-processing-overview/index.html'} 0.4871538\n",
      "{'source': 'omniscien.com/blog/speech-recognition-and-speech-synthesis-glossary-terminology-that-you-should-know/index.html'} 0.4888402\n",
      "{'source': 'omniscien.com/category/case-studies/index.html'} 0.4889298\n",
      "{'source': 'omniscien.com/blog/speech-recognition-and-speech-synthesis-glossary-terminology-that-you-should-know/index.html'} 0.48975396\n",
      "{'source': 'omniscien.com/lsev6/features/amp/advanced-media-processing-overview/index.html'} 0.4909305\n",
      "{'source': 'omniscien.com/blog/speech-recognition-speech-synthesis-glossary-o-u/index.html'} 0.49165395\n",
      "{'source': 'omniscien.com/lsev6/features/nlp/index.html'} 0.4917631\n",
      "{'source': 'omniscien.com/lsev6/features/nlp/index.html'} 0.49230024\n",
      "{'source': 'omniscien.com/lsev6/features/asr/automatic-speech-recognition-technical-features/index.html'} 0.49426404\n",
      "{'source': 'omniscien.com/blog/speech-recognition-and-speech-synthesis-glossary-terminology-that-you-should-know/index.html'} 0.49433506\n",
      "{'source': 'omniscien.com/blog/speech-recognition-speech-synthesis-glossary-v-z/index.html'} 0.49491525\n"
     ]
    }
   ],
   "source": [
    "for i in score :\n",
    "    print(i[0].metadata, i[1])"
   ]
  },
  {
   "cell_type": "code",
   "execution_count": 66,
   "metadata": {},
   "outputs": [
    {
     "data": {
      "text/plain": [
       "0.3711669"
      ]
     },
     "execution_count": 66,
     "metadata": {},
     "output_type": "execute_result"
    }
   ],
   "source": [
    "score[0][1]"
   ]
  },
  {
   "cell_type": "markdown",
   "metadata": {},
   "source": [
    "# Maximum Marginal Relevance Retrieval"
   ]
  },
  {
   "cell_type": "code",
   "execution_count": 126,
   "metadata": {},
   "outputs": [],
   "source": [
    "docs_mmr = db.max_marginal_relevance_search(question,k=5, fetch_k=10)"
   ]
  },
  {
   "cell_type": "code",
   "execution_count": 127,
   "metadata": {},
   "outputs": [
    {
     "data": {
      "text/plain": [
       "[Document(page_content='Euromatrix and\\n\\nCASMACAT. Koehn’s research has been funded by the\\n\\nEuropean Union,\\n\\nDARPA,\\n\\nGoogle,\\n\\nFacebook,\\n\\nAmazon,\\n\\nBloomberg, and several other funding agencies. Koehn received his PhD in 2003 from the\\n\\nUniversity of Southern California and was a postdoctoral research associate at\\n\\nMIT. He was a finalist for the\\n\\nEuropean Patent Office’s European Inventor Award in 2013 and received the Award of Honor from the International Association of Machine Translation in 2015.\\n\\nAt Omniscien, Koehn refined machine translation technology for use in real-world deployments and helped develop methods for data acquisition and refinement. Koehn continues to drive innovation and technological development at Omniscien.\\n\\nSee how Omniscien can helpsolve your unique language and document processing challenges\\n\\nRequest a Demo\\n\\nContact Us\\n\\nSubscribe to our Mailing List\\n\\nProducts\\n\\nLanguage Studio\\n\\nMedia Studio\\n\\nServices\\n\\nCustom MT Engines\\n\\nCustom Workflows\\n\\nConsulting\\n\\nMachine Translation\\n\\nMachine Translation Overview\\n\\nDetailed Features\\n\\nIndustry Domain MT Engines\\n\\nCustom MT Engines\\n\\nData Creation Tools\\n\\nWays to Translate\\n\\nHybrid NMT/SMT Engines\\n\\nHuman Language Technology (HLT)\\n\\nArtificial Intelligence & Machine Learning\\n\\nState-of-the-Art Machine Translation\\n\\nNeural Machine Translation (NMT)\\n\\nStatistical Machine Translation (SMT)\\n\\nHybrid Deep NMT/SMT\\n\\nMachine Translation Engine Training\\n\\nData Synthesis, and Data Creation\\n\\nData Cleaning\\n\\nMeasurement\\n\\nNatural Language Processing (NLP)\\n\\nWorkflow Automation\\n\\nSubtitle, Video, Audio, and Media\\n\\nData Source and Integration\\n\\nData Conversion\\n\\nResources\\n\\nSupport\\n\\nFrequently Asked Questions\\n\\nBlog\\n\\nWebinars\\n\\nIntegrated Solution Partners\\n\\nTechnology Partners\\n\\nSupported Languages\\n\\nSupported Document Formats\\n\\nData Security and Privacy\\n\\nDeployment Models\\n\\nAbout Us\\n\\nCompany\\n\\nCareers\\n\\nInternships\\n\\nNews\\n\\nOffice Locations\\n\\nLegal\\n\\nConnect\\n\\nFollow\\n\\nFollow\\n\\nFollow\\n\\nContact Us\\n\\nRequest a Demo\\n\\nSubscribe to Mailing List', metadata={'source': 'omniscien.com/about-us/company/index.html'}),\n",
       " Document(page_content='Formats such as PDF can be challenging to convert to editable formats such as Microsoft Word as all the editing information has been removed and therefore must be reverse engineered in order to produce an editable document. Language Studio uses AI to determine the structure of table borders, page margins, headers, footers, and other document structural elements.\\n\\nOther Microsoft Office formats are also supported, including Presentations and Spreadsheets.\\n\\nCHM\\n\\nCompiled HTML Format\\n\\nDOC\\n\\nMicrosoft Word DOC Format\\n\\nDOCM\\n\\nMicrosoft Word DOC Format Macro enabled\\n\\nDOCX\\n\\nMicrosoft Word DOCX Format\\n\\nDOT\\n\\nMicrosoft Word DOC Template files\\n\\nDOTX\\n\\nMicrosoft Word DOCX Template files\\n\\nHTML\\n\\nHypertext Markup Langauge\\n\\nMD\\n\\nMarkDown Documentation\\n\\nMHTML\\n\\nMIME HTML\\n\\nODT\\n\\nOpenDocument Text File format\\n\\nOPC\\n\\nFlatOPC\\n\\nOTT\\n\\nTemplate Documents in compliance with OASIS’ OpenDocument Standard Format\\n\\nPCL\\n\\nPrinter Command Language\\n\\nPDF\\n\\nPortable Document Format\\n\\nPortable Document Format -Standard\\n\\nPS\\n\\nPostScript (a general purpose page description langauge)\\n\\nPUB\\n\\nMicrosoft Publisher Document\\n\\nRTF\\n\\nRich Text Format\\n\\nTEX\\n\\nLaTeX Document Format\\n\\nWP/WP6/WP7\\n\\nWord Perfect Format\\n\\nWPT\\n\\nWord Perfect Template\\n\\nXHTML\\n\\nText Based File with Markup in XML\\n\\nXPS\\n\\nXML Paper Specification\\n\\neBook\\n\\nAn eBook (short for electronic book), also known as an e-book or an ebook, is a book publication made available in digital form, consisting of text, images, or both, readable on the flat-panel display of a computer or other electronic device. Although sometimes defined as “an electronic version of a printed book”, some eBooks exist without a printed equivalent. eBooks can be read on dedicated e-reader devices, but also on any computer device that features a controllable viewing screen, including desktop computers, laptops, tablets and smartphones.\\n\\nEPUB\\n\\nElectronic Publisher Format\\n\\nMOBI\\n\\nMobipocket eBook\\n\\nEmail', metadata={'source': 'omniscien.com/lsev6/features/convert/convert-file-formats-file-types/index.html'}),\n",
       " Document(page_content='Previously Dion was Vice President and Research Director for Gartner based in Hong Kong, where he was the most senior and highly-respected analyst based in all of Asia. Dion’s research reports on ICT in China helped change the way the world views this market.\\n\\nDion is also a well-known pioneer of the Asian Internet Industry, being the founder of one of Asia’s first ever ISPs (Asia Online in Hong Kong). In his role at Gartner and in various other consulting positions prior to that, Dion advised literally hundreds of enterprises on their ICT strategy.\\n\\nDion was a founder of The ActiveX Factory, where he was the recipient of the Chairman’s Commendation Award presented by Microsoft’s Bill Gates for the best showcase of software developed in the Philippines. The US Government has recognized Dion as being in the top 5% of his field worldwide and he is a former holder of a US O1 Extraordinary Ability Visa.\\n\\nPhilipp Koehn\\n\\nChief Scientist\\n\\nBehind many of the tools design is Omniscien’s Chief Scientist, Professor Philipp Koehn who leads our team of researchers and developers. Philipp is a pioneer in the machine translation space, his books on Statistical Machine Translation and Neural Machine Translation are the leading academic textbooks globally on machine translation. Both books are available now from Amazon.com or leading book stores.\\n\\nPhilipp Koehn is a Professor of Computer Science at Johns Hopkins University and also holds the Chair for Machine Translation in the School of Informatics at the University of Edinburgh. Philipp Koehn is a leader in the field of statistical machine translation and neural machine translation research with over 100 publications. He is the author of several textbooks and online training courses in the field.\\n\\nopen source Moses system that, prior to NMT, became the de-facto standard toolkit for statistical machine translation in research and commercial deployment. Koehn led international research projects such as\\n\\nEuromatrix and', metadata={'source': 'omniscien.com/about-us/company/index.html'}),\n",
       " Document(page_content='Success Story with eCommerce\\n\\nSuccess Story with Ecommerce\\nIntroduction\\nE-Commerce is a global, fast moving and challenging business, specifically in consumer markets such as ...\\n\\nRead More\\n\\nSajan – Multinational IT Company Technical Documentation\\n\\nCustomer Success Story: Sajan – Multinational IT Company Technical DocumentationOne of Sajan’s many clients is a large multinational corporation ...\\n\\nRead More\\n\\nOptical Character Recognition, Language ID and Machine Translation for Invoice Automation\\n\\nA German retailer receives 20,000+ invoices per month from providers all around the world. Many of the invoices are not in German making it very ...\\n\\nRead More\\n\\nLanguage Studio: Securing Data Privacy and Compliance in AI Adoption\\n\\nLaunched in November 2022, ChatGPT 3.5 revolutionized the AI landscape by offering powerful, user-friendly AI capabilities at little-to-no cost. ...\\n\\nRead More\\n\\nCustomer Success Story: Omnilingua – Automotive Manuals\\n\\nCustomer Success Story:\\xa0Omnilingua – Automotive ManualsOne of the major challenges that enterprises have in the use of increased automation in ...\\n\\nRead More\\n\\nCustomer Success Story: LexisNexis Univentio – Enabling Unprecedented Insights in Intellectual Property\\n\\nCustomer Success Story: LexisNexis Univentio – Enabling Unprecedented Insight in Intellectual PropertyLexisNexis Univentio is a leading global ...\\n\\nRead More\\n\\nCustomer Success Story: IOLAR – German-Slovenian Technical Engineering\\n\\nCustomer Success Story: IOLAR – German-Slovenian Technical EngineeringIOLAR was interested to build a custom machine translation engine to ...\\n\\nRead More\\n\\nCustomer Success Story: iflix – Seamless Workflow for Subtitling\\n\\niflix is a leading subscription video-on-demand service. It serves as a digital hosting and distribution platform, offering users unlimited ...\\n\\nRead More\\n\\nCustomer Success Story: Astro Subtitle Processes Automation', metadata={'source': 'omniscien.com/solutions/index.html'}),\n",
       " Document(page_content='Licensing a packaged version of #2 above and installing it on your own computer systems.\\n\\nAll of these solutions are based on the Moses open source machine translation system, a project that was created by and is maintained under the guidance of Professor Philipp Koehn. Professor Koehn is also the Chief Scientist and one of the shareholders in Omniscien Technologies.\\n\\nProfessor Koehn worked with many others contributors to develop the Moses decoder including Hieu Hoang, Chris Dyer, Josh Schroeder, Marcello Federico, Richard Zens, and Wade Shen. The Moses decoder has progressively matured and is the de facto benchmark for research in the field. However, Moses was not intended to be a commercial machine translation offering. There are considerable amounts of additional functionality, beyond providing a web based user interface for Moses, that are not included in Moses that are essential in order to offer a strong and innovative commercial machine translation platform.\\n\\nWhen conceiving the idea of Moses, the primary goal was to foster research and advance the state of MT in academia by providing a de facto base from which to innovate from.\\xa0Currently the vast majority of interesting MT research and advancements still takes place in academia. Without open source toolkits such as Moses, all the exciting work would be done by the Google’s and Microsoft’s of the world, as is the case in related fields such as information retrieval or automatic speech recognition.\\n\\nAs a platform for academic research, Moses provides a strong foundation. However, Moses was not intended to be a commercial MT offering. There are considerable amounts of additional functionality, beyond providing a web based user interface for Moses, that are not included in Moses that are essential in order to offer a strong and innovative commercial MT platform.\\n\\nProfessor Philipp Koehn,  Chief Scientist, Omniscien Technologies', metadata={'source': 'omniscien.com/blog/speech-recognition-speech-synthesis-glossary-v-z/faq/what-is-do-it-yourself-machine-translation/index.html'})]"
      ]
     },
     "execution_count": 127,
     "metadata": {},
     "output_type": "execute_result"
    }
   ],
   "source": [
    "docs_mmr"
   ]
  },
  {
   "cell_type": "code",
   "execution_count": 92,
   "metadata": {},
   "outputs": [],
   "source": [
    "embedded_query = embeddings.embed_query(question)\n",
    "docs_mmr_vector = db.max_marginal_relevance_search_by_vector(embedded_query,k=5, fetch_k=20)"
   ]
  },
  {
   "cell_type": "code",
   "execution_count": 93,
   "metadata": {},
   "outputs": [
    {
     "data": {
      "text/plain": [
       "[Document(page_content='Dion was a founder of The ActiveX Factory, where he was the recipient of the Chairman’s Commendation Award presented by Microsoft’s Bill Gates for the best showcase of software developed in the Philippines. The US Government has recognized Dion as being in the top 5% of his field worldwide and he is a former holder of a US O1 Extraordinary Ability Visa.\\n\\nPhilipp Koehn\\n\\nChief Scientist\\n\\nBehind many of the tools design is Omniscien’s Chief Scientist, Professor Philipp Koehn who leads our team of researchers and developers. Philipp is a pioneer in the machine translation space, his books on Statistical Machine Translation and Neural Machine Translation are the leading academic textbooks globally on machine translation. Both books are available now from Amazon.com or leading book stores.', metadata={'source': 'omniscien.com/about-us/company/index.html'}),\n",
       " Document(page_content='Related Links\\n\\n→ Index', metadata={'source': 'omniscien.com/blog/localization-glossary-terminology-that-you-should-know/index.html'}),\n",
       " Document(page_content='Customizing ASR to your specific use case is a fast process and can be done in just a few days or even a few hours. Customization reinforces context and adds new vocabulary.\\n\\nOmniscien is preparing a number of off-the-shelf domains that have been pre-customized to specific use cases such as news, finance, medical, etc. This will help to bias the ASR to specific vocabulary and also to teach it quickly new vocabulary.\\n\\nBut sometimes a general domain is not specific enough and may require more specific adaptation. Consider the two news announcements below where the context changes based on the country, but all other words are identical:\\n\\nEngland Context:\\n\\nPrime Minister Boris Johnson went to Wembley today to meet with members of the Weybridge City Council after the recent policy meetings in Cambridge.\\n\\nMalaysia Context:\\n\\nPrime Minister Ismail Sabri Yaakob went to Bukit Timah today to meet with members of the Ipoh City Council after the recent policy meetings in Putrajaya.', metadata={'source': 'omniscien.com/lsev6/features/asr/automatic-speech-recognition-accuracy-and-customization/index.html'}),\n",
       " Document(page_content='“Last week employees in Statoil discovered that text that had been typed in on the web site could be found by anyone conducting a search. ” … “We found notices of dismissal, plans of workforce reductions and outsourcing, passwords, code information and contracts.” … “When we sat down and googled we just thought: ‘Wow! What is this?’ This was information from organizations, private companies, government agencies,” – Learn More >>\\n\\n“We exploited Facebook to harvest millions of people’s profiles\\xa0and built models to exploit what we knew about them and target their inner demons. That was the basis the entire company was built on.” – Learn More >>', metadata={'source': 'omniscien.com/lsev6/data-privacy-security-and-compliance/index.html'}),\n",
       " Document(page_content='Redirecting... Click here to redirect manually.\\n\\nFREE WEBINAR:  The Future of Language Related AI for Enterprises: Local Agents and Fine-Tuned Large Language Models (LLMs)\\n\\nWatch the Replay', metadata={'source': 'omniscien.com/lsev6/features/convert/index.html'})]"
      ]
     },
     "execution_count": 93,
     "metadata": {},
     "output_type": "execute_result"
    }
   ],
   "source": [
    "docs_mmr_vector"
   ]
  },
  {
   "cell_type": "markdown",
   "metadata": {},
   "source": [
    "# Similarity Score Threshold Retrieval"
   ]
  },
  {
   "cell_type": "code",
   "execution_count": 100,
   "metadata": {},
   "outputs": [
    {
     "name": "stderr",
     "output_type": "stream",
     "text": [
      "/home/sira/anaconda3/envs/lang-lama/lib/python3.9/site-packages/langchain/vectorstores/base.py:269: UserWarning: No relevant docs were retrieved using the relevance score threshold 0.3\n",
      "  warnings.warn(\n"
     ]
    }
   ],
   "source": [
    "retriever = db.as_retriever(search_type=\"similarity_score_threshold\", search_kwargs={\"score_threshold\": 0.3})\n",
    "docs_threshold = retriever.get_relevant_documents(question)"
   ]
  },
  {
   "cell_type": "code",
   "execution_count": 101,
   "metadata": {},
   "outputs": [
    {
     "data": {
      "text/plain": [
       "[]"
      ]
     },
     "execution_count": 101,
     "metadata": {},
     "output_type": "execute_result"
    }
   ],
   "source": [
    "docs_threshold"
   ]
  },
  {
   "cell_type": "markdown",
   "metadata": {},
   "source": [
    "Empty list when use this method."
   ]
  },
  {
   "cell_type": "markdown",
   "metadata": {},
   "source": [
    "# -------------------------------------------------------------------------"
   ]
  },
  {
   "cell_type": "code",
   "execution_count": 77,
   "metadata": {},
   "outputs": [
    {
     "data": {
      "text/plain": [
       "{'e13dcc41-cdec-4520-aa67-1c46d88bdac3': Document(page_content='Home\\n\\nProducts Private and Secure Artificial Intelligence Tools for EnterpriseOverview\\xa0\\xa0\\xa0|\\xa0\\xa0\\xa0FeaturesEditionsSecure CloudEnterprise Project Management, Editing & Subtitle Data ProcessingOverview\\xa0\\xa0\\xa0|\\xa0\\xa0\\xa0FeaturesEditionsProject Management and Editing PlatformData Processing Platform Data Workflow Automation & Natural Language ProcessingOverview\\xa0\\xa0\\xa0|\\xa0\\xa0\\xa0Features\\xa0Learn aboutMachine TranslationCustom MT EnginesIndustry DomainsLanguagesDocument FormatsDeployment ModelsWays to TranslateHuman Language Technology Enhanced by Artificial Intelligence\\n\\nServices\\n\\nSolutions\\n\\nTechnology\\n\\nResourcesAbout UsCompanyCareersInternshipsNewsOffice LocationsLegalContact UsFrequently Asked Questions (FAQ)SupportOmniscien BlogWebinarsEvents and ConferencesAI, MT and Language Processing SymposiumCase StudiesTestimonialsIntegrated Solution PartnersTechnology PartnersLanguage Pairs – Machine TranslationSupported Document FormatsWays to TranslateData Security and Privacy\\n\\nSearch\\n\\nSTART TYPING AND PRESS ENTER TO SEARCH', metadata={'source': 'omniscien.com/index.html'}),\n",
       " '835ae82a-4ee7-4aa7-ba73-e6f9793ed784': Document(page_content='Search\\n\\nSTART TYPING AND PRESS ENTER TO SEARCH\\n\\nHome\\n\\nProducts Private and Secure Artificial Intelligence Tools for EnterpriseOverview\\xa0\\xa0\\xa0|\\xa0\\xa0\\xa0FeaturesEditionsSecure CloudEnterprise Project Management, Editing & Subtitle Data ProcessingOverview\\xa0\\xa0\\xa0|\\xa0\\xa0\\xa0FeaturesEditionsProject Management and Editing PlatformData Processing Platform Data Workflow Automation & Natural Language ProcessingOverview\\xa0\\xa0\\xa0|\\xa0\\xa0\\xa0Features\\xa0Learn aboutMachine TranslationCustom MT EnginesIndustry DomainsLanguagesDocument FormatsDeployment ModelsWays to TranslateHuman Language Technology Enhanced by Artificial Intelligence\\n\\nServices\\n\\nSolutions\\n\\nTechnology', metadata={'source': 'omniscien.com/index.html'}),\n",
       " '1d554ae2-4f44-4fe7-a848-745158835694': Document(page_content=\"Services\\n\\nSolutions\\n\\nTechnology\\n\\nResourcesAbout UsCompanyCareersInternshipsNewsOffice LocationsLegalContact UsFrequently Asked Questions (FAQ)SupportOmniscien BlogWebinarsEvents and ConferencesAI, MT and Language Processing SymposiumCase StudiesTestimonialsIntegrated Solution PartnersTechnology PartnersLanguage Pairs – Machine TranslationSupported Document FormatsWays to TranslateData Security and Privacy\\n\\nSearch\\n\\nHuman Language Technology\\n\\nHuman Language Technology\\n\\nAutomation Technologies that Augment Human Intelligence\\n\\nMachine learning enables machines to work more like humans so that humans don't have to work more like machines\\n\\nLearn More\\n\\nApp\\n\\nProject Management,\\n\\nArtificial Intelligence applied to media processing workflows increases productivity, accuracy and throughput.\\n\\nLearn More\\n\\nRequest a Demo\\n\\nWeb\\n\\nHybrid Deep Neural\\n\\nOn-Premises or in the Cloud, Language Studio offers unprecedented translation quality, flexibility and security.\", metadata={'source': 'omniscien.com/index.html'}),\n",
       " 'e0ae6588-2178-4e2c-ad9f-2f0af6686000': Document(page_content='Learn More\\n\\nRequest a Demo\\n\\nWeb\\n\\nHybrid Deep Neural\\n\\nOn-Premises or in the Cloud, Language Studio offers unprecedented translation quality, flexibility and security.\\n\\nTranslate via REST API, Intranet Portal, Hosted Web Portal, Microsoft Office, popular Translation Management Systems and partner software.\\n\\nLearn More\\n\\nRequest a Demo\\n\\nWeb\\n\\nData Workflow Automation and\\n\\nHigh-performance, scalable, big-data workflow technologies that integrate language processing and analytics, data-mining and data cleaning into a single, seamless platform.\\n\\nLearn More\\n\\nBook a Demo\\n\\nWeb\\n\\nCustomize your own Machine Translation Engine\\n\\nControl writing style, vocabulary choice, terminology, context and much more. Other MT systems try to produce output that is understandable for \"gist\" purposes. Omniscien engines are designed produce output that requires the least amount of human effort in order to publish.\\n\\nLearn More\\n\\nIntroducing   Omniscien Technologies', metadata={'source': 'omniscien.com/index.html'}),\n",
       " '0462e7c5-2f68-45c5-a430-5da3188f7e4e': Document(page_content='Learn More\\n\\nIntroducing   Omniscien Technologies\\n\\nEnterprise-Class Neural Machine\\xa0Translation and Language\\xa0Processing Technologies\\n\\nHuman Language Technology Enhanced by Artificial Intelligence\\n\\nOmniscien products, automation technologies, and language processing solutions augment human Intelligence. Underpinned by state-of-the-art machine learning and artificial intelligence, we enable machines to work more like humans so that humans don’t have to work more like machines. Omniscien’s Enterprise Machine Translation software provides a core architecture for neural machine translation and custom machine translation engines that are adapted and optimized for specific purposes such as subtitles, captions, patents, automotive, and life sciences.\\n\\nLanguage Studio Enterprise – Overview\\n\\nAccessing the latest Artificial Intelligence (AI) tools should be  easy. secure. multilingual. integrated. seamless. available for everyone. private.', metadata={'source': 'omniscien.com/index.html'}),\n",
       " '175c4fe8-5025-42c6-a99c-e5590ae680ff': Document(page_content='Language Studio Enterprise – Overview\\n\\nAccessing the latest Artificial Intelligence (AI) tools should be  easy. secure. multilingual. integrated. seamless. available for everyone. private.\\n\\nThe first on-premise / private cloud server platform that focuses on data-privacy and compliance while offering the most advanced artificial intelligence powered software, tools and features.\\n\\nSlide\\n\\nBroad Language and Document Format Support\\n\\nTranslate\\n\\n0+\\n\\nMachine Translation (MT) Language Pairs\\n\\nTranscribe\\n\\nAutonomous Speech Recognition (ASR) Languages\\n\\nRecognize\\n\\n0+\\n\\nOptical Character Recognition (OCR) Languages\\n\\nConvert\\n\\n0+\\n\\nFile and Document Conversion Formats\\n\\nProcess\\n\\n0+\\n\\nDocument & Natural Language Processing (NLP) Tools\\n\\nHTML5\\n\\nRelying on public cloud services may put your\\n\\ndata at risk\\n\\nAI-powered tools are needed by modern organizations but not at the cost of data privacy.\\n\\nLearn More\\n\\nBook a Demo\\n\\nSlide 1\\n\\nfaster\\n\\ncheaper\\n\\nhigher quality\\n\\nmore consistent', metadata={'source': 'omniscien.com/index.html'}),\n",
       " '5f2f4f4b-0433-4bf8-b869-3328faaa9f81': Document(page_content='data at risk\\n\\nAI-powered tools are needed by modern organizations but not at the cost of data privacy.\\n\\nLearn More\\n\\nBook a Demo\\n\\nSlide 1\\n\\nfaster\\n\\ncheaper\\n\\nhigher quality\\n\\nmore consistent\\n\\nMachine translation is not a replacement for humans. It is a productivity and quality enhancer that lets skilled professionals focus on the more important elements of subtitle translations.\\n\\nTranslators, Editors, Reviewers and Project Managers all work collaboratively on the same file at the same time.\\n\\nStart Trading\\n\\nLearn More\\n\\nHey! Did you know that you can more than double your productivity with machine translation when it is optimized for purpose? 👍👍👍\\n\\nArtificial Intelligence Built for   Smart Language Processing\\n\\nArtificial Intelligence Built for   Smart Language Processing\\n\\nData is the Fuel    that Powers Artificial Intelligence\\n\\nData is the Fuel    thatPowers Artificial Intelligence', metadata={'source': 'omniscien.com/index.html'}),\n",
       " 'ad0f51ef-afa4-43c2-aa75-fb2568f82ab7': Document(page_content='Artificial Intelligence Built for   Smart Language Processing\\n\\nData is the Fuel    that Powers Artificial Intelligence\\n\\nData is the Fuel    thatPowers Artificial Intelligence\\n\\nBuilt on the world’s leading translation, language processing, workflow automation, and artificial intelligence technologies.\\n\\nTranslation and language processing technologies have evolved substantially over the last decade. The Omniscien team has been at the forefront of research and development, leading the way with a comprehensive set of integrated tools, features, and technologies that are powered by and drive artificial intelligence and machine learning.', metadata={'source': 'omniscien.com/index.html'}),\n",
       " '1cb5f43d-318a-4bc2-9ccb-a67285aeeb09': Document(page_content='Naturally, Omniscien tools and technologies are heavily reliant on high-quality specialized data to power our platform and technologies. Because we understand the importance of high-quality data, the Omniscien team is dedicated to breaking new ground with novel research and approaches to creating, mining, harvesting, synthesizing, and manufacturing data. Omniscien has built a variety of powerful tools for data creation, preparation, and analysis.\\n\\nBehind many of the tools design is Omniscien’s Chief Scientist, Professor Philipp Koehn who leads our team of researchers and developers. Philipp is a pioneer in the machine translation space, his books on Statistical Machine Translation and Neural Machine Translation are the leading academic textbooks globally on machine translation. Both books are available now from Amazon.com or leading book stores.\\n\\nProfessor Philipp Koehn,Chief Scientist,Omniscien Technologies.\\n\\nState-of-the-Art   Machine Translation', metadata={'source': 'omniscien.com/index.html'}),\n",
       " 'cf37b00a-6ede-44ee-901f-0fc2be7d284e': Document(page_content='Professor Philipp Koehn,Chief Scientist,Omniscien Technologies.\\n\\nState-of-the-Art   Machine Translation\\n\\nSecure Cloud, On-Premises, and Data Center scalability.\\n\\nAt the heart of all of Omniscien’s tools and products is state-of-the-art machine translation technology. Developed and refined for over 14 years, the Omniscien team has continually strived to innovate and deliver the highest quality translation output and most flexible machine translation platform.\\n\\nLanguage Studio provides specialized machine translation engines for use in Media Studio and Workflow Studio that are optimized for a specific purpose such as subtitle translation. The complexity and power of these purpose-optimized workflows and machine translation engines are hidden away with easy use tools and user interfaces.\\n\\nPerforming a translation is simple and easy. However, when you want to take control, Language Studio provides workflow scripting and many more features that place you in the driving seat.', metadata={'source': 'omniscien.com/index.html'}),\n",
       " '15b75716-28e0-4bfc-9f6b-c6ced435e24d': Document(page_content='Performing a translation is simple and easy. However, when you want to take control, Language Studio provides workflow scripting and many more features that place you in the driving seat.\\n\\nNo matter your performance and scalability need Language Studio has a platform edition to match. Language Studio provides a wide range of machine translation options and features to cover even the most complex of business use cases.\\n\\nLearn More\\n\\nCustom    Machine Translation Engines\\n\\nCustomize to your own writing style, vocabulary, and context.\\n\\nGeneric translation systems such as Google are designed to deliver a gist or general meaning for anything, anytime, and anyone so that text can be understood.\\n\\nBeing able to understand is just not good enough at Omniscien!!', metadata={'source': 'omniscien.com/index.html'}),\n",
       " '9a37a9d1-7c3e-4a0e-ba42-be7e33b8cf2d': Document(page_content='Being able to understand is just not good enough at Omniscien!!\\n\\nOur goal is quite different with a much higher quality bar. Omniscien customized machine translation engines are designed to deliver a translation output that requires the least amount of human effort in order to publish. When translation quality directly impacts the bottom line and accuracy is important, a custom MT engine will always deliver the highest quality translation output.\\n\\nLearn More\\n\\nSpecialized   Industry Domains\\n\\nQuality is delivered by a better understanding of context.\\n\\nUnlike a human, machines cannot understand context (yet). The simple phrase “I caught a virus” could refer to your personal health or to your computer. Context can change the meaning to something totally different. Industry domains provide the context needed for higher quality translations.', metadata={'source': 'omniscien.com/index.html'}),\n",
       " 'f1d7d748-b824-406a-9839-1a84f5c78f08': Document(page_content='By training MT engines with the high-quality bilingual data that contains the correct context, the context of the resulting translations is conveyed and the quality of the translation is notably better.\\n\\nLearn More\\n\\nSpecialized Workflows Driven by  Artificial Intelligence   and Natural Language Processing\\n\\nDifferent business requirements can only be optimized by specialized workflows and adaptation of tools and processes.\\n\\nOmniscien products, such as Media Studio and Language Studio, are optimized and built for purpose. The tools that we use are available and can be readily adapted to meet many different business needs. Our expansive library of language processing tools, workflow automation technologies and artificial intelligence solutions provide a unique platform from which to build specialized solutions.', metadata={'source': 'omniscien.com/index.html'}),\n",
       " 'a2baee59-c6e7-4fe3-a9bb-ee8feb3ed468': Document(page_content='The Omniscien team will work with you to build workflows for language processing, voice recognition, optical character recognition (OCR), data mining, data analysis, and data automation or you can leverage our technologies to build your own solutions.\\n\\nLearn More\\n\\nSee how Omniscien can helpsolve your unique language and document processing challenges\\n\\nRequest a Demo\\n\\nContact Us\\n\\nSubscribe to our Mailing List\\n\\nProducts\\n\\nLanguage Studio\\n\\nMedia Studio\\n\\nServices\\n\\nCustom MT Engines\\n\\nCustom Workflows\\n\\nConsulting\\n\\nMachine Translation\\n\\nMachine Translation Overview\\n\\nDetailed Features\\n\\nIndustry Domain MT Engines\\n\\nCustom MT Engines\\n\\nData Creation Tools\\n\\nWays to Translate\\n\\nHybrid NMT/SMT Engines\\n\\nHuman Language Technology (HLT)\\n\\nArtificial Intelligence & Machine Learning\\n\\nState-of-the-Art Machine Translation\\n\\nNeural Machine Translation (NMT)\\n\\nStatistical Machine Translation (SMT)\\n\\nHybrid Deep NMT/SMT\\n\\nMachine Translation Engine Training\\n\\nData Synthesis, and Data Creation\\n\\nData Cleaning', metadata={'source': 'omniscien.com/index.html'}),\n",
       " 'be413fa6-5a44-4d24-b482-d9db631ab530': Document(page_content='Neural Machine Translation (NMT)\\n\\nStatistical Machine Translation (SMT)\\n\\nHybrid Deep NMT/SMT\\n\\nMachine Translation Engine Training\\n\\nData Synthesis, and Data Creation\\n\\nData Cleaning\\n\\nMeasurement\\n\\nNatural Language Processing (NLP)\\n\\nWorkflow Automation\\n\\nSubtitle, Video, Audio, and Media\\n\\nData Source and Integration\\n\\nData Conversion\\n\\nResources\\n\\nSupport\\n\\nFrequently Asked Questions\\n\\nBlog\\n\\nWebinars\\n\\nIntegrated Solution Partners\\n\\nTechnology Partners\\n\\nSupported Languages\\n\\nSupported Document Formats\\n\\nData Security and Privacy\\n\\nDeployment Models\\n\\nAbout Us\\n\\nCompany\\n\\nCareers\\n\\nInternships\\n\\nNews\\n\\nOffice Locations\\n\\nLegal\\n\\nConnect\\n\\nFollow\\n\\nFollow\\n\\nFollow\\n\\nContact Us\\n\\nRequest a Demo\\n\\nSubscribe to Mailing List\\n\\nCopyright © 2023 Omniscien Technologies. All Rights Reserved.\\xa0\\xa0\\xa0\\xa0\\xa0\\xa0\\n\\nLegal\\n\\nFREE WEBINAR:  The Future of Language Related AI for Enterprises: Local Agents and Fine-Tuned Large Language Models (LLMs)\\n\\nWatch the Replay', metadata={'source': 'omniscien.com/index.html'}),\n",
       " 'f5636526-ddd2-4f61-83fc-2a5b962f8ed9': Document(page_content='Home\\n\\nProducts Private and Secure Artificial Intelligence Tools for EnterpriseOverview\\xa0\\xa0\\xa0|\\xa0\\xa0\\xa0FeaturesEditionsSecure CloudEnterprise Project Management, Editing & Subtitle Data ProcessingOverview\\xa0\\xa0\\xa0|\\xa0\\xa0\\xa0FeaturesEditionsProject Management and Editing PlatformData Processing Platform Data Workflow Automation & Natural Language ProcessingOverview\\xa0\\xa0\\xa0|\\xa0\\xa0\\xa0Features\\xa0Learn aboutMachine TranslationCustom MT EnginesIndustry DomainsLanguagesDocument FormatsDeployment ModelsWays to TranslateHuman Language Technology Enhanced by Artificial Intelligence\\n\\nServices\\n\\nSolutions\\n\\nTechnology\\n\\nResourcesAbout UsCompanyCareersInternshipsNewsOffice LocationsLegalContact UsFrequently Asked Questions (FAQ)SupportOmniscien BlogWebinarsEvents and ConferencesAI, MT and Language Processing SymposiumCase StudiesTestimonialsIntegrated Solution PartnersTechnology PartnersLanguage Pairs – Machine TranslationSupported Document FormatsWays to TranslateData Security and Privacy\\n\\nSearch\\n\\nSTART TYPING AND PRESS ENTER TO SEARCH', metadata={'source': 'omniscien.com/machine-translation/index.html'}),\n",
       " 'e73a4bfa-748b-4085-a8b3-88e37083a6e4': Document(page_content='Search\\n\\nSTART TYPING AND PRESS ENTER TO SEARCH\\n\\nHome\\n\\nProducts Private and Secure Artificial Intelligence Tools for EnterpriseOverview\\xa0\\xa0\\xa0|\\xa0\\xa0\\xa0FeaturesEditionsSecure CloudEnterprise Project Management, Editing & Subtitle Data ProcessingOverview\\xa0\\xa0\\xa0|\\xa0\\xa0\\xa0FeaturesEditionsProject Management and Editing PlatformData Processing Platform Data Workflow Automation & Natural Language ProcessingOverview\\xa0\\xa0\\xa0|\\xa0\\xa0\\xa0Features\\xa0Learn aboutMachine TranslationCustom MT EnginesIndustry DomainsLanguagesDocument FormatsDeployment ModelsWays to TranslateHuman Language Technology Enhanced by Artificial Intelligence\\n\\nServices\\n\\nSolutions\\n\\nTechnology', metadata={'source': 'omniscien.com/machine-translation/index.html'}),\n",
       " '71f9da16-fa21-4c22-8a47-50b0bbe14dcf': Document(page_content='Services\\n\\nSolutions\\n\\nTechnology\\n\\nResourcesAbout UsCompanyCareersInternshipsNewsOffice LocationsLegalContact UsFrequently Asked Questions (FAQ)SupportOmniscien BlogWebinarsEvents and ConferencesAI, MT and Language Processing SymposiumCase StudiesTestimonialsIntegrated Solution PartnersTechnology PartnersLanguage Pairs – Machine TranslationSupported Document FormatsWays to TranslateData Security and Privacy\\n\\nSearch\\n\\nWeb\\n\\nMachine Translation\\n\\nState-of-the-Art enterprise-class hybrid neural  machine translation\\n\\nAffordable custom and industry domain machine translation engines\\n\\nRequest a Demo\\n\\nWeb\\n\\nMachine Translation\\n\\nState-of-the-Art enterprise-class hybrid neural  machine translation\\n\\nAffordable custom and industry domain machine translation engines\\n\\nRequest a Demo\\n\\nOmniscien » Machine Translation\\n\\nIntroduction to   Machine Translation    at Omniscien', metadata={'source': 'omniscien.com/machine-translation/index.html'}),\n",
       " '01bd45c0-ca26-4145-8e4b-71b57889a46b': Document(page_content='Affordable custom and industry domain machine translation engines\\n\\nRequest a Demo\\n\\nOmniscien » Machine Translation\\n\\nIntroduction to   Machine Translation    at Omniscien\\n\\nAt the heart of all of Omniscien’s tools and products is state-of-the-art machine translation technology. Developed and refined for over 14 years, the Omniscien team has continually strived to innovate so as to deliver the highest quality translation output and most flexible machine translation platform.\\n\\nLanguage Studio provides specialized machine translation engines for use in Media Studio and Workflow Studio that are optimized for a specific purpose such as subtitle translation. The complexity and power of these purpose-optimized workflows and machine translation engines are hidden away with easy use tools and user interfaces.', metadata={'source': 'omniscien.com/machine-translation/index.html'}),\n",
       " '7c1ef9a3-c84a-4be7-8db8-bd2d05c5458c': Document(page_content='While machine translation is progressively improving, the Omniscien team recognizes that machine translation is not a replacement for professional human translations. Our technology is designed to augment human intelligence and increase their productivity by using a variety of technologies together. Our pre- and post-processing, and workflow technologies that are optimized for specific tasks and document formats further increase productivity, enforce styles and customer rules, and automate time-consuming tasks. This allows expensive human resources to focus on higher-value tasks while processing more content each day without any compromise on quality.', metadata={'source': 'omniscien.com/machine-translation/index.html'})}"
      ]
     },
     "execution_count": 77,
     "metadata": {},
     "output_type": "execute_result"
    }
   ],
   "source": [
    "first_two = dict(list(db.docstore._dict.items())[:20])\n",
    "first_two"
   ]
  },
  {
   "cell_type": "code",
   "execution_count": 34,
   "metadata": {},
   "outputs": [],
   "source": [
    "string1 = \"Speakers:\\n\\nDr Joseph SweeneyIndustry Analyst,Intelligent Business Research Services (IBRS)\\n\\nGuest Speaker Bio\\n\\nDr. Joseph Sweeney, is a seasoned advisor and consultant at Intelligent Business Research Services (IBRS), where he specializes in business and technology strategy, emphasizing AI, data privacy, and compliance. He helps organizations navigate the complex landscape of emerging technologies, with deep expertise in education, the public sector, and Microsoft technologies. Dr. Sweeney’s background in AI, cloud computing, and technology trends enables him to offer valuable insights for developing strategic solutions. As a sought-after advisor, he guides organizations through digital transformation, market research, and the integration of cutting-edge technologies.\\n\\nRedefining Domain Adaptation for Machine Translation and Voice Recognition – An Essential Primer\\n\\nThursday 16 February 2023\\n\\nWatch the Replay\"\n",
    "string2 = \"Omniscien Technologies products and technologies are deployed globally to a wide variety of customers including governments, multinationals, language service providers, e-commerce providers, media organizations and some of the world’s leading companies and best-known global brands.\\n\\nCovering nearly 600 global language pairs and with several industry-specific solutions, Omniscien Technologies remains the partner of choice for customers with complex, high-volume bespoke data processing and machine translation needs.\\n\\nFounded in 2007, Omniscien Technologies Headquarters are located in Singapore, with R&D based out of Bangkok, Thailand, and a commercial presence in several locations in Europe and North America.\\n\\nTeam\\n\\nThe Omniscien team comes from a broad set of complementary backgrounds that empower the organization and bridge the cultural and language barriers that define the cross-border and language industries.\\n\\nGregory Binger\\n\\nChairman, Chief Operating Officer, Co-Founder\"\n",
    "string3 = \"Far from being an ivory tower academic, Greg has excelled at managing and achieving successful results from multi-disciplinary teams of all sizes dealing with marketing, business development and corporate governance. He has significant experience managing companies in Asia. For example at Lycos Asia, he had oversight management of the company secretarial function for the primary holding company and 23 affiliated companies around the world.\\n\\nGreg has been a frequent speaker and publisher of articles on such diverse topics as hyper-linking risks, copyright and information distribution on computer networks, data security, information privacy, content supply, resale and distribution, intellectual property and technology convergence. He co-authored Computer Evidence: A Forensic Investigations Handbook, a book that deals with covert electronic surveillance, legal and ethical hacking and evidence gathering and preservation techniques.\\n\\nDion Wiggins\\n\\nChief Technology Officer, Co-Founder\"\n",
    "string4 = \"\"\"Join Omniscien\\'s Chief Scientist, Professor Philipp Koehn, a leading researcher in the field of AI and MT, along with Dion Wiggins, Omniscien’s CTO, for an hour of information sharing and insights.\\n\\nThis is Part 2 of a 2 part series. Part 1 is titled \"Advances in Artificial Intelligence and Machine Translation: 2022 and Beyond\" and is on Wednesday 17 November 2021. See above for registration details.\\n\\nWatch the Replay\\n\\nAdvances in Artificial Intelligence and Machine Translation: 2022 and Beyond\\n\\nWednesday , November 17, 2021\"\"\""
   ]
  },
  {
   "cell_type": "code",
   "execution_count": 35,
   "metadata": {},
   "outputs": [
    {
     "name": "stdout",
     "output_type": "stream",
     "text": [
      "921\n",
      "987\n",
      "993\n",
      "530\n"
     ]
    }
   ],
   "source": [
    "print(len(string1))\n",
    "print(len(string2))\n",
    "print(len(string3))\n",
    "print(len(string4))"
   ]
  },
  {
   "cell_type": "code",
   "execution_count": 40,
   "metadata": {},
   "outputs": [],
   "source": [
    "docs_score = db.similarity_search_with_score(question, k=5)"
   ]
  },
  {
   "cell_type": "code",
   "execution_count": 41,
   "metadata": {},
   "outputs": [
    {
     "data": {
      "text/plain": [
       "[(Document(page_content='Gregory Binger\\n\\nChairman, Chief Operating Officer, Co-Founder\\n\\nGregory Binger has been a senior officer, board member, senior counsel or adviser to many of the world’s best-known Internet brands, technology, communications, media and entertainment companies. His positions have included Senior Counsel and Management Board for at Yahoo! UK & Ireland, Executive Vice President & General Counsel at Lycos Asia, Acting Senior Corporate Counsel at nineMSN Australia, and Acting Corporate Counsel Europe at CompuServe.\\n\\nHe has taken a hands-on approach in securing successful deals on a wide range of issues relating to technology and media licensing and procurement, intellectual property, information technology, technology outsourcing, systems integration, electronic, online and mobile content, games and applications, animation and video postproduction, VoIP, WiFi, and online betting and gaming.', metadata={'source': 'omniscien.com/about-us/company/index.html'}),\n",
       "  0.6695856),\n",
       " (Document(page_content='Far from being an ivory tower academic, Greg has excelled at managing and achieving successful results from multi-disciplinary teams of all sizes dealing with marketing, business development and corporate governance. He has significant experience managing companies in Asia. For example at Lycos Asia, he had oversight management of the company secretarial function for the primary holding company and 23 affiliated companies around the world.\\n\\nGreg has been a frequent speaker and publisher of articles on such diverse topics as hyper-linking risks, copyright and information distribution on computer networks, data security, information privacy, content supply, resale and distribution, intellectual property and technology convergence. He co-authored Computer Evidence: A Forensic Investigations Handbook, a book that deals with covert electronic surveillance, legal and ethical hacking and evidence gathering and preservation techniques.\\n\\nDion Wiggins\\n\\nChief Technology Officer, Co-Founder', metadata={'source': 'omniscien.com/about-us/company/index.html'}),\n",
       "  1.420473),\n",
       " (Document(page_content='Dion Wiggins\\n\\nChief Technology Officer, Co-Founder\\n\\nDion Wiggins is a highly experienced ICT industry visionary, entrepreneur, analyst, and consultant. He has an impressive knowledge in the fields of software development, architecture, and management, as well as an in-depth understanding of Asian ICT markets. He is an accomplished speaker and has a high media profile for his perceptive analysis of ICT in Asia/Pacific.\\n\\nPreviously Dion was Vice President and Research Director for Gartner based in Hong Kong, where he was the most senior and highly-respected analyst based in all of Asia. Dion’s research reports on ICT in China helped change the way the world views this market.\\n\\nDion is also a well-known pioneer of the Asian Internet Industry, being the founder of one of Asia’s first ever ISPs (Asia Online in Hong Kong). In his role at Gartner and in various other consulting positions prior to that, Dion advised literally hundreds of enterprises on their ICT strategy.', metadata={'source': 'omniscien.com/about-us/company/index.html'}),\n",
       "  1.5027788),\n",
       " (Document(page_content='Speakers:\\n\\nDr Joseph SweeneyIndustry Analyst,Intelligent Business Research Services (IBRS)\\n\\nGuest Speaker Bio\\n\\nDr. Joseph Sweeney, is a seasoned advisor and consultant at Intelligent Business Research Services (IBRS), where he specializes in business and technology strategy, emphasizing AI, data privacy, and compliance. He helps organizations navigate the complex landscape of emerging technologies, with deep expertise in education, the public sector, and Microsoft technologies. Dr. Sweeney’s background in AI, cloud computing, and technology trends enables him to offer valuable insights for developing strategic solutions. As a sought-after advisor, he guides organizations through digital transformation, market research, and the integration of cutting-edge technologies.\\n\\nRedefining Domain Adaptation for Machine Translation and Voice Recognition – An Essential Primer\\n\\nThursday 16 February 2023\\n\\nWatch the Replay', metadata={'source': 'omniscien.com/resources/webinars.html'}),\n",
       "  1.5454806),\n",
       " (Document(page_content='Redefining Domain Adaptation for Machine Translation and Voice Recognition – An Essential Primer\\n\\nThursday 16 February 2023\\n\\nWatch the Replay\\n\\nJoin Omniscien’s Chief Scientist, Professor Philipp Koehn, a leading researcher in the field of AI and MT, along with Dion Wiggins, Omniscien’s CTO, for an hour of information sharing and insights where we will demonstrate the tools and technologies to arm you with the essential knowledge on how to perform domain adaptation on modern AI systems.\\n\\nWe will look at trends in Artificial Intelligence, Neural Machine Translation, Speech Recognition, Data Synthesis, Natural Language Processing, Machine Learning, Data Mining, Text Analytics, and more.\\n\\nSpeakers\\n\\nProfessor Philipp Koehn Chief Scientist, Omniscien Technologies\\n\\nDion Wiggins CTO, Co-Founder, Omniscien Technologies', metadata={'source': 'omniscien.com/resources/webinars.html'}),\n",
       "  1.558699)]"
      ]
     },
     "execution_count": 41,
     "metadata": {},
     "output_type": "execute_result"
    }
   ],
   "source": [
    "docs_score"
   ]
  },
  {
   "cell_type": "code",
   "execution_count": 54,
   "metadata": {},
   "outputs": [
    {
     "data": {
      "text/plain": [
       "<langchain.vectorstores.faiss.FAISS at 0x7fdf3a690f70>"
      ]
     },
     "execution_count": 54,
     "metadata": {},
     "output_type": "execute_result"
    }
   ],
   "source": [
    "db"
   ]
  },
  {
   "cell_type": "markdown",
   "metadata": {},
   "source": [
    "# Pre filter "
   ]
  },
  {
   "cell_type": "code",
   "execution_count": 23,
   "metadata": {},
   "outputs": [],
   "source": [
    "from langchain.embeddings.openai import OpenAIEmbeddings\n",
    "from langchain.text_splitter import CharacterTextSplitter\n",
    "from langchain.vectorstores import FAISS\n",
    "from langchain.document_loaders import TextLoader\n",
    "from langchain.document_loaders import DirectoryLoader\n",
    "from langchain.text_splitter import RecursiveCharacterTextSplitter\n",
    "from langchain.embeddings import HuggingFaceEmbeddings"
   ]
  },
  {
   "cell_type": "code",
   "execution_count": 24,
   "metadata": {},
   "outputs": [
    {
     "name": "stdout",
     "output_type": "stream",
     "text": [
      "huggingface/tokenizers: The current process just got forked, after parallelism has already been used. Disabling parallelism to avoid deadlocks...\n",
      "To disable this warning, you can either:\n",
      "\t- Avoid using `tokenizers` before the fork if possible\n",
      "\t- Explicitly set the environment variable TOKENIZERS_PARALLELISM=(true | false)\n",
      "huggingface/tokenizers: The current process just got forked, after parallelism has already been used. Disabling parallelism to avoid deadlocks...\n",
      "To disable this warning, you can either:\n",
      "\t- Avoid using `tokenizers` before the fork if possible\n",
      "\t- Explicitly set the environment variable TOKENIZERS_PARALLELISM=(true | false)\n"
     ]
    }
   ],
   "source": [
    "def load_docs(docs_path):\n",
    "    loader = DirectoryLoader(docs_path, glob=\"**/*.html\")\n",
    "    documents = loader.load()\n",
    "    return documents\n",
    "\n",
    "documents = load_docs('omniscien.com')"
   ]
  },
  {
   "cell_type": "code",
   "execution_count": 25,
   "metadata": {},
   "outputs": [],
   "source": [
    "def clean_duplicate(documents):\n",
    "    content_unique = []\n",
    "    index_unique = []\n",
    "    content_duplicate = []\n",
    "    index_duplicate = []\n",
    "    for index, doc in enumerate(documents):\n",
    "        if doc.page_content not in content_unique:\n",
    "            content_unique.append(doc.page_content)\n",
    "            index_unique.append(index)\n",
    "        else :\n",
    "            content_duplicate.append(doc.page_content)\n",
    "            index_duplicate.append(index)\n",
    "    documents_clean = [item for index, item in enumerate(documents) if index in index_unique]\n",
    "    return documents_clean\n",
    "documents_clean = clean_duplicate(documents)"
   ]
  },
  {
   "cell_type": "code",
   "execution_count": 28,
   "metadata": {},
   "outputs": [
    {
     "data": {
      "text/plain": [
       "118"
      ]
     },
     "execution_count": 28,
     "metadata": {},
     "output_type": "execute_result"
    }
   ],
   "source": [
    "len(documents_clean)"
   ]
  },
  {
   "cell_type": "code",
   "execution_count": 4,
   "metadata": {},
   "outputs": [],
   "source": [
    "def split_docs(documents,chunk_size=2000,chunk_overlap=200):\n",
    "    text_splitter = RecursiveCharacterTextSplitter(chunk_size=chunk_size, chunk_overlap=chunk_overlap)\n",
    "    sp_docs = text_splitter.split_documents(documents)\n",
    "    return sp_docs\n",
    "sp_docs = split_docs(documents_clean)"
   ]
  },
  {
   "cell_type": "code",
   "execution_count": 22,
   "metadata": {},
   "outputs": [
    {
     "ename": "NameError",
     "evalue": "name 'sp_docs' is not defined",
     "output_type": "error",
     "traceback": [
      "\u001b[0;31m---------------------------------------------------------------------------\u001b[0m",
      "\u001b[0;31mNameError\u001b[0m                                 Traceback (most recent call last)",
      "Cell \u001b[0;32mIn[22], line 3\u001b[0m\n\u001b[1;32m      1\u001b[0m embeddings \u001b[39m=\u001b[39m HuggingFaceEmbeddings(model_name \u001b[39m=\u001b[39m \u001b[39m\"\u001b[39m\u001b[39msentence-transformers/all-MiniLM-L6-v2\u001b[39m\u001b[39m\"\u001b[39m,\n\u001b[1;32m      2\u001b[0m                                 model_kwargs \u001b[39m=\u001b[39m {\u001b[39m'\u001b[39m\u001b[39mdevice\u001b[39m\u001b[39m'\u001b[39m: \u001b[39m'\u001b[39m\u001b[39mcpu\u001b[39m\u001b[39m'\u001b[39m})\n\u001b[0;32m----> 3\u001b[0m db \u001b[39m=\u001b[39m FAISS\u001b[39m.\u001b[39mfrom_documents(sp_docs, embeddings)\n",
      "\u001b[0;31mNameError\u001b[0m: name 'sp_docs' is not defined"
     ]
    }
   ],
   "source": [
    "embeddings = HuggingFaceEmbeddings(model_name = \"sentence-transformers/all-MiniLM-L6-v2\",\n",
    "                                model_kwargs = {'device': 'cpu'})\n",
    "db = FAISS.from_documents(sp_docs, embeddings)"
   ]
  },
  {
   "cell_type": "code",
   "execution_count": 27,
   "metadata": {},
   "outputs": [
    {
     "data": {
      "text/plain": [
       "[Document(page_content='Previously Dion was Vice President and Research Director for Gartner based in Hong Kong, where he was the most senior and highly-respected analyst based in all of Asia. Dion’s research reports on ICT in China helped change the way the world views this market.\\n\\nDion is also a well-known pioneer of the Asian Internet Industry, being the founder of one of Asia’s first ever ISPs (Asia Online in Hong Kong). In his role at Gartner and in various other consulting positions prior to that, Dion advised literally hundreds of enterprises on their ICT strategy.\\n\\nDion was a founder of The ActiveX Factory, where he was the recipient of the Chairman’s Commendation Award presented by Microsoft’s Bill Gates for the best showcase of software developed in the Philippines. The US Government has recognized Dion as being in the top 5% of his field worldwide and he is a former holder of a US O1 Extraordinary Ability Visa.\\n\\nPhilipp Koehn\\n\\nChief Scientist\\n\\nBehind many of the tools design is Omniscien’s Chief Scientist, Professor Philipp Koehn who leads our team of researchers and developers. Philipp is a pioneer in the machine translation space, his books on Statistical Machine Translation and Neural Machine Translation are the leading academic textbooks globally on machine translation. Both books are available now from Amazon.com or leading book stores.\\n\\nPhilipp Koehn is a Professor of Computer Science at Johns Hopkins University and also holds the Chair for Machine Translation in the School of Informatics at the University of Edinburgh. Philipp Koehn is a leader in the field of statistical machine translation and neural machine translation research with over 100 publications. He is the author of several textbooks and online training courses in the field.\\n\\nopen source Moses system that, prior to NMT, became the de-facto standard toolkit for statistical machine translation in research and commercial deployment. Koehn led international research projects such as\\n\\nEuromatrix and', metadata={'source': 'omniscien.com/about-us/company/index.html'}),\n",
       " Document(page_content='Search\\n\\nRiding the Machine Translation Hype Cycle – From SMT to NMT to Deep NMT by Dion Wiggins\\n\\nThere is a running joke in the translation industry that machine translation will be a solved problem in 5 years. This has been updated every 5 years since the 1950’s. The promise was always there, but the technology of the day simply could not deliver.\\n\\nHowever, there has undoubtedly been progress. When we started our company over 10 years ago, MT was considered a joke and ridiculed. At the time, we looked to purchase MT technology, but were unable to find any technology that could rise to the challenges that we needed to address. At the time we had the formidable task of translating all of Wikipedia and other high volume and very mixed content domains from English into mostly second or third-tier Asian languages.\\n\\nTo find a way to address that problem, we flew in Philipp Koehn to introduce him to our concepts and ideas. Philipp at the time was a promising researcher in Statistical Machine Translation (SMT) and recently created a large corpus of bilingual content derived from European Parliament documents and had just released the first version of the Moses SMT decoder which in the meantime has become the de-facto platform for SMT. Soon after, Philipp joined our team as Chief Scientist and has been driving research and development efforts ever since. Philipp joining the team gave us the in-depth knowledge of MT that few had at the time and allowed us to stay ahead of the competition from a technical perspective. While Philipp was the father of the Moses decoder, his Master’s thesis in the 1990’s was on Neural Networks before they become practical for machine translation.', metadata={'source': 'omniscien.com/blog/riding-machine-translation-hype-cycle/index.html'}),\n",
       " Document(page_content='Licensing a packaged version of #2 above and installing it on your own computer systems.\\n\\nAll of these solutions are based on the Moses open source machine translation system, a project that was created by and is maintained under the guidance of Professor Philipp Koehn. Professor Koehn is also the Chief Scientist and one of the shareholders in Omniscien Technologies.\\n\\nProfessor Koehn worked with many others contributors to develop the Moses decoder including Hieu Hoang, Chris Dyer, Josh Schroeder, Marcello Federico, Richard Zens, and Wade Shen. The Moses decoder has progressively matured and is the de facto benchmark for research in the field. However, Moses was not intended to be a commercial machine translation offering. There are considerable amounts of additional functionality, beyond providing a web based user interface for Moses, that are not included in Moses that are essential in order to offer a strong and innovative commercial machine translation platform.\\n\\nWhen conceiving the idea of Moses, the primary goal was to foster research and advance the state of MT in academia by providing a de facto base from which to innovate from.\\xa0Currently the vast majority of interesting MT research and advancements still takes place in academia. Without open source toolkits such as Moses, all the exciting work would be done by the Google’s and Microsoft’s of the world, as is the case in related fields such as information retrieval or automatic speech recognition.\\n\\nAs a platform for academic research, Moses provides a strong foundation. However, Moses was not intended to be a commercial MT offering. There are considerable amounts of additional functionality, beyond providing a web based user interface for Moses, that are not included in Moses that are essential in order to offer a strong and innovative commercial MT platform.\\n\\nProfessor Philipp Koehn,  Chief Scientist, Omniscien Technologies', metadata={'source': 'omniscien.com/blog/speech-recognition-speech-synthesis-glossary-v-z/faq/what-is-do-it-yourself-machine-translation/index.html'}),\n",
       " Document(page_content='Euromatrix and\\n\\nCASMACAT. Koehn’s research has been funded by the\\n\\nEuropean Union,\\n\\nDARPA,\\n\\nGoogle,\\n\\nFacebook,\\n\\nAmazon,\\n\\nBloomberg, and several other funding agencies. Koehn received his PhD in 2003 from the\\n\\nUniversity of Southern California and was a postdoctoral research associate at\\n\\nMIT. He was a finalist for the\\n\\nEuropean Patent Office’s European Inventor Award in 2013 and received the Award of Honor from the International Association of Machine Translation in 2015.\\n\\nAt Omniscien, Koehn refined machine translation technology for use in real-world deployments and helped develop methods for data acquisition and refinement. Koehn continues to drive innovation and technological development at Omniscien.\\n\\nSee how Omniscien can helpsolve your unique language and document processing challenges\\n\\nRequest a Demo\\n\\nContact Us\\n\\nSubscribe to our Mailing List\\n\\nProducts\\n\\nLanguage Studio\\n\\nMedia Studio\\n\\nServices\\n\\nCustom MT Engines\\n\\nCustom Workflows\\n\\nConsulting\\n\\nMachine Translation\\n\\nMachine Translation Overview\\n\\nDetailed Features\\n\\nIndustry Domain MT Engines\\n\\nCustom MT Engines\\n\\nData Creation Tools\\n\\nWays to Translate\\n\\nHybrid NMT/SMT Engines\\n\\nHuman Language Technology (HLT)\\n\\nArtificial Intelligence & Machine Learning\\n\\nState-of-the-Art Machine Translation\\n\\nNeural Machine Translation (NMT)\\n\\nStatistical Machine Translation (SMT)\\n\\nHybrid Deep NMT/SMT\\n\\nMachine Translation Engine Training\\n\\nData Synthesis, and Data Creation\\n\\nData Cleaning\\n\\nMeasurement\\n\\nNatural Language Processing (NLP)\\n\\nWorkflow Automation\\n\\nSubtitle, Video, Audio, and Media\\n\\nData Source and Integration\\n\\nData Conversion\\n\\nResources\\n\\nSupport\\n\\nFrequently Asked Questions\\n\\nBlog\\n\\nWebinars\\n\\nIntegrated Solution Partners\\n\\nTechnology Partners\\n\\nSupported Languages\\n\\nSupported Document Formats\\n\\nData Security and Privacy\\n\\nDeployment Models\\n\\nAbout Us\\n\\nCompany\\n\\nCareers\\n\\nInternships\\n\\nNews\\n\\nOffice Locations\\n\\nLegal\\n\\nConnect\\n\\nFollow\\n\\nFollow\\n\\nFollow\\n\\nContact Us\\n\\nRequest a Demo\\n\\nSubscribe to Mailing List', metadata={'source': 'omniscien.com/about-us/company/index.html'}),\n",
       " Document(page_content='Formats such as PDF can be challenging to convert to editable formats such as Microsoft Word as all the editing information has been removed and therefore must be reverse engineered in order to produce an editable document. Language Studio uses AI to determine the structure of table borders, page margins, headers, footers, and other document structural elements.\\n\\nOther Microsoft Office formats are also supported, including Presentations and Spreadsheets.\\n\\nCHM\\n\\nCompiled HTML Format\\n\\nDOC\\n\\nMicrosoft Word DOC Format\\n\\nDOCM\\n\\nMicrosoft Word DOC Format Macro enabled\\n\\nDOCX\\n\\nMicrosoft Word DOCX Format\\n\\nDOT\\n\\nMicrosoft Word DOC Template files\\n\\nDOTX\\n\\nMicrosoft Word DOCX Template files\\n\\nHTML\\n\\nHypertext Markup Langauge\\n\\nMD\\n\\nMarkDown Documentation\\n\\nMHTML\\n\\nMIME HTML\\n\\nODT\\n\\nOpenDocument Text File format\\n\\nOPC\\n\\nFlatOPC\\n\\nOTT\\n\\nTemplate Documents in compliance with OASIS’ OpenDocument Standard Format\\n\\nPCL\\n\\nPrinter Command Language\\n\\nPDF\\n\\nPortable Document Format\\n\\nPortable Document Format -Standard\\n\\nPS\\n\\nPostScript (a general purpose page description langauge)\\n\\nPUB\\n\\nMicrosoft Publisher Document\\n\\nRTF\\n\\nRich Text Format\\n\\nTEX\\n\\nLaTeX Document Format\\n\\nWP/WP6/WP7\\n\\nWord Perfect Format\\n\\nWPT\\n\\nWord Perfect Template\\n\\nXHTML\\n\\nText Based File with Markup in XML\\n\\nXPS\\n\\nXML Paper Specification\\n\\neBook\\n\\nAn eBook (short for electronic book), also known as an e-book or an ebook, is a book publication made available in digital form, consisting of text, images, or both, readable on the flat-panel display of a computer or other electronic device. Although sometimes defined as “an electronic version of a printed book”, some eBooks exist without a printed equivalent. eBooks can be read on dedicated e-reader devices, but also on any computer device that features a controllable viewing screen, including desktop computers, laptops, tablets and smartphones.\\n\\nEPUB\\n\\nElectronic Publisher Format\\n\\nMOBI\\n\\nMobipocket eBook\\n\\nEmail', metadata={'source': 'omniscien.com/lsev6/features/convert/convert-file-formats-file-types/index.html'}),\n",
       " Document(page_content='At Omniscien, we firmly believe that SMT still has a considerable role to play in the machine translation space. SMT produces higher quality translations than NMT in a number of scenarios. For this reason we create a unique Hybrid NMT/SMT model that leverages the strengths of both technologies.\\n\\nBehind many of the tools design is Omniscien’s Chief Scientist, Professor Philipp Koehn who leads our team of researchers and developers. Philipp is a pioneer in the machine translation space, his books on Statistical Machine Translation and Neural Machine Translation are the leading academic textbooks globally on machine translation. Both books are available now from Amazon.com or leading book stores.\\n\\nProfessor Philipp Koehn,Chief Scientist,Omniscien Technologies.\\n\\nProfessor Koehn has also been the instigator and driving force behind the popular open-source Moses Statistical Machine Translation software. Philipp along with a large number of others in the open source community have built Moses into a robust platform that is the defacto platform for SMT research. Included on the Moses website is a great article on the background of SMT.\\n\\nRelated Links\\n\\nPages\\n\\nIntroduction to Machine Translation at Omniscien\\n\\nHybrid Neural and Statistical Machine Translation\\n\\nCustom Machine Translation Engines\\n\\nPowerful Tools for Data Creation, Preparation, and Analysis\\n\\nClean Data Machine Translation\\n\\nIndustry Domains\\n\\nWays to Translate\\n\\nSupported Languages\\n\\nSupported Document Formats\\n\\nDeployment Models\\n\\nData Security & Privacy\\n\\nSecure by Design\\n\\nLocalization Glossary - Terms that you should know\\n\\nProducts\\n\\nLanguage Studio Enterprise-class private and secure machine translation.\\n\\nMedia Studio Media and Subtitle Translation, Project Management and Data Processing\\n\\nWorkflow Studio Enterprise-class private and secure machine translation.\\n\\nFAQ\\n\\nFAQ Home Page\\n\\nPrimer; Different Types of Machine Translation\\n\\nWhat is Custom Machine Translation?\\n\\nWhat is Generic Machine Translation?', metadata={'source': 'omniscien.com/faq/what-is-statistical-machine-translation/index.html'}),\n",
       " Document(page_content='read more\\n\\nAcrolinx\\n\\nAcrolinx Acrolinx provides enterprise solutions to connect content and communication for organizations of all sizes. Whether it is corporate messaging, outsourced content development, or user-generated information about a company’s products and services, Acrolinx drives enhanced productivity, enabling companies to communicate with a single, unified voice from every corner of the globe. Built on a strong linguistic foundation, the sophisticated Acrolinx technology enables you...\\n\\nread more\\n\\nKeenCorp\\n\\nKeenCorp Knowing daily how your employees are feeling. KeenCorp provides a 24/7, real-time measure of employee engagement through software that combines an artificial intelligence platform with psycholinguistic analysis to detect tension variations in written communications. Its revolutionary approach to measuring employee engagement opens up opportunities across a number of business areas ranging from Employee Engagement to Change and Integration, Governance and Risk right...\\n\\nread more\\n\\nBasis Technology\\n\\nBasis Technology Basis Technology has been at the forefront of natural language processing for over 20 years. With its robust toolkit for processing language, documents, and names, Rosette®, Basis Technology provides text analytics, information extraction, and deep intelligence to global customers in government, finance, eDiscovery, search, social media, and beyond. From the joint collaboration between Basis Technology and Omniscien Technologies comes out a fully integrated...\\n\\nread more\\n\\nSee how Omniscien can helpsolve your unique language and document processing challenges\\n\\nRequest a Demo\\n\\nContact Us\\n\\nSubscribe to our Mailing List\\n\\nProducts\\n\\nLanguage Studio\\n\\nMedia Studio\\n\\nServices\\n\\nCustom MT Engines\\n\\nCustom Workflows\\n\\nConsulting\\n\\nMachine Translation\\n\\nMachine Translation Overview\\n\\nDetailed Features\\n\\nIndustry Domain MT Engines\\n\\nCustom MT Engines\\n\\nData Creation Tools\\n\\nWays to Translate\\n\\nHybrid NMT/SMT Engines\\n\\nHuman Language Technology (HLT)', metadata={'source': 'omniscien.com/resources/technology-partners/index.html'}),\n",
       " Document(page_content='See Techopedia for a more detailed definition.\\n\\nGPU\\n\\nSee Graphical Processing Unit\\n\\nGUI\\n\\nSee Graphics User Interface\\n\\nHigh Quality Translation\\n\\nA high-quality translation output should be comprehensible and targeted to a specific audience. Translations that follow all grammatical conventions, adhere to rules for line breaks, punctuation, alignment and capitalization are easier to read – resulting in improved understanding of an original message. This is the basic fundamentals of high-quality translation. However, every use case has different requirements and there are tradeoffs between translation quality, speed of translation, time and effort to translate, amount of human review and post-editing, and the cost or budget for the tasks.\\n\\nIn many cases, a high quality translation should also be specifically adapted for a target audience, writing style, industry domain and purpose. A body of text may be translated perfectly, but totally unsuitable for the target audience. The graphic below shows an example of Business style (i.e., Forbes, Economist), and a second example of Children’s Books (i.e., Harry Potter). The Business style would be totally unsuitable for childrens books.\\n\\nHITL\\n\\nSee Human-In-The-Loop\\n\\nHuman-In-The-Loop\\n\\nHuman-in-the-loop (HITL) is a branch of artificial intelligence that leverages both human and machine intelligence to create machine learning models. In a traditional human-in-the-loop approach, people are involved in training, tuning, and testing a particular algorithm.\\n\\nHuman-in-the-loop approaches allow to solve several important problems in machine learning: Allowing humans to incorporate their subject matter expertise while using AI; Recognizing that AI is an integral component of human decision making, not something separate.\\n\\nI18n\\n\\nShort for Internationalization. “I” is followed by 18 letters ending with “N”.\\n\\nIn-Context Translation', metadata={'source': 'omniscien.com/blog/localization-glossary-terminology-that-you-should-know/index.html'}),\n",
       " Document(page_content='Blog\\n\\nWebinars\\n\\nIntegrated Solution Partners\\n\\nTechnology Partners\\n\\nSupported Languages\\n\\nSupported Document Formats\\n\\nData Security and Privacy\\n\\nDeployment Models\\n\\nAbout Us\\n\\nCompany\\n\\nCareers\\n\\nInternships\\n\\nNews\\n\\nOffice Locations\\n\\nLegal\\n\\nConnect\\n\\nFollow\\n\\nFollow\\n\\nFollow\\n\\nContact Us\\n\\nRequest a Demo\\n\\nSubscribe to Mailing List\\n\\nCopyright © 2023 Omniscien Technologies. All Rights Reserved.\\xa0\\xa0\\xa0\\xa0\\xa0\\xa0\\n\\nLegal\\n\\nFREE WEBINAR:  The Future of Language Related AI for Enterprises: Local Agents and Fine-Tuned Large Language Models (LLMs)\\n\\nWatch the Replay', metadata={'source': 'omniscien.com/machine-translation/supported-document-formats/index.html'}),\n",
       " Document(page_content='Blog\\n\\nWebinars\\n\\nIntegrated Solution Partners\\n\\nTechnology Partners\\n\\nSupported Languages\\n\\nSupported Document Formats\\n\\nData Security and Privacy\\n\\nDeployment Models\\n\\nAbout Us\\n\\nCompany\\n\\nCareers\\n\\nInternships\\n\\nNews\\n\\nOffice Locations\\n\\nLegal\\n\\nConnect\\n\\nFollow\\n\\nFollow\\n\\nFollow\\n\\nContact Us\\n\\nRequest a Demo\\n\\nSubscribe to Mailing List\\n\\nCopyright © 2023 Omniscien Technologies. All Rights Reserved.\\xa0\\xa0\\xa0\\xa0\\xa0\\xa0\\n\\nLegal\\n\\nFREE WEBINAR:  The Future of Language Related AI for Enterprises: Local Agents and Fine-Tuned Large Language Models (LLMs)\\n\\nWatch the Replay', metadata={'source': 'omniscien.com/support/index.html'})]"
      ]
     },
     "execution_count": 27,
     "metadata": {},
     "output_type": "execute_result"
    }
   ],
   "source": [
    "query = \"Which book are Philipp writing?\"\n",
    "docs = db.similarity_search(query, k = 10)\n",
    "docs"
   ]
  },
  {
   "cell_type": "code",
   "execution_count": null,
   "metadata": {},
   "outputs": [],
   "source": [
    "embeddings = HuggingFaceEmbeddings(model_name = \"sentence-transformers/all-MiniLM-L6-v2\",\n",
    "                                model_kwargs = {'device': 'cpu'})\n",
    "db = FAISS.from_documents(sp_docs, embeddings)"
   ]
  },
  {
   "cell_type": "code",
   "execution_count": null,
   "metadata": {},
   "outputs": [],
   "source": [
    "from transformers import pipeline\n",
    "\n",
    "classifier = pipeline(\"token-classification\", model = \"vblagoje/bert-english-uncased-finetuned-pos\")\n",
    "classifier(\"Hello I'm Omar and I live in Zürich.\")"
   ]
  },
  {
   "cell_type": "code",
   "execution_count": null,
   "metadata": {},
   "outputs": [],
   "source": [
    "classifier(\"Which book are Philipp writing?\")"
   ]
  },
  {
   "cell_type": "code",
   "execution_count": 31,
   "metadata": {},
   "outputs": [
    {
     "name": "stderr",
     "output_type": "stream",
     "text": [
      "Downloading (…)9c8a9/.gitattributes: 100%|██████████| 1.52k/1.52k [00:00<00:00, 337kB/s]\n",
      "Downloading (…)_Pooling/config.json: 100%|██████████| 190/190 [00:00<00:00, 250kB/s]\n",
      "Downloading (…)db4ec9c8a9/README.md: 100%|██████████| 68.1k/68.1k [00:00<00:00, 12.0MB/s]\n",
      "Downloading (…)4ec9c8a9/config.json: 100%|██████████| 618/618 [00:00<00:00, 690kB/s]\n",
      "Downloading (…)8a9/onnx/config.json: 100%|██████████| 630/630 [00:00<00:00, 986kB/s]\n",
      "Downloading model.onnx: 100%|██████████| 436M/436M [02:13<00:00, 3.27MB/s] \n",
      "Downloading (…)cial_tokens_map.json: 100%|██████████| 125/125 [00:00<00:00, 204kB/s]\n",
      "Downloading (…)/onnx/tokenizer.json: 100%|██████████| 712k/712k [00:00<00:00, 731kB/s]\n",
      "Downloading (…)okenizer_config.json: 100%|██████████| 314/314 [00:00<00:00, 493kB/s]\n",
      "Downloading (…)9c8a9/onnx/vocab.txt: 100%|██████████| 232k/232k [00:00<00:00, 861kB/s]\n",
      "Downloading pytorch_model.bin: 100%|██████████| 219M/219M [01:07<00:00, 3.26MB/s] \n",
      "Downloading (…)nce_bert_config.json: 100%|██████████| 57.0/57.0 [00:00<00:00, 79.2kB/s]\n",
      "Downloading (…)cial_tokens_map.json: 100%|██████████| 125/125 [00:00<00:00, 197kB/s]\n",
      "Downloading (…)9c8a9/tokenizer.json: 100%|██████████| 712k/712k [00:00<00:00, 954kB/s]\n",
      "Downloading (…)okenizer_config.json: 100%|██████████| 314/314 [00:00<00:00, 528kB/s]\n",
      "Downloading (…)db4ec9c8a9/vocab.txt: 100%|██████████| 232k/232k [00:00<00:00, 3.65MB/s]\n",
      "Downloading (…)ec9c8a9/modules.json: 100%|██████████| 385/385 [00:00<00:00, 624kB/s]\n"
     ]
    }
   ],
   "source": [
    "embeddings = HuggingFaceEmbeddings(model_name = \"thenlper/gte-base\",\n",
    "                                model_kwargs = {'device': 'cpu'})\n",
    "db_gte = FAISS.from_documents(sp_docs, embeddings)"
   ]
  },
  {
   "cell_type": "code",
   "execution_count": 32,
   "metadata": {},
   "outputs": [
    {
     "data": {
      "text/plain": [
       "[Document(page_content='Search\\n\\nThe Omniscien Advantage – We wrote the leading academic machine translation textbooks!!\\n\\nNov 11, 2022\\n\\nBuilt on the world’s leading translation, language processing, workflow automation, and artificial intelligence technologies.\\n\\nTranslation and language processing technologies have evolved substantially over the last decade. The Omniscien team has been at the forefront of research and development, leading the way with a comprehensive set of integrated tools, features, and technologies that are powered by and drive artificial intelligence and machine learning.\\n\\nNaturally, Omniscien tools and technologies are heavily reliant on high-quality specialized data to power our platform and technologies. Because we understand the importance of high-quality data, the Omniscien team is dedicated to breaking new ground with novel research and approaches to creating, mining, harvesting, synthesizing, and manufacturing data. Omniscien has built a variety of powerful tools for data creation, preparation, and analysis.\\n\\nBehind many of the tools design is Omniscien’s Chief Scientist, Professor Philipp Koehn who leads our team of researchers and developers. Philipp is a pioneer in the machine translation space, his books on Statistical Machine Translation and Neural Machine Translation are the leading academic textbooks globally on machine translation. Both books are available now from Amazon.com or leading book stores.\\n\\nProfessor Philipp Koehn,Chief Scientist,Omniscien Technologies.\\n\\nRelated Links\\n\\nWhat is Rules-Based Machine Translation?\\n\\nWhat is Syntax-Based Machine Translation?\\n\\nWhat is Neural Machine Translation?\\n\\nIntroduction to Machine Translation at Omniscien\\n\\nHybrid NMT/SMT Translation\\n\\nSee how Omniscien can helpsolve your unique language and document processing challenges\\n\\nRequest a Demo\\n\\nContact Us\\n\\nSubscribe to our Mailing List\\n\\nProducts\\n\\nLanguage Studio\\n\\nMedia Studio\\n\\nServices\\n\\nCustom MT Engines\\n\\nCustom Workflows\\n\\nConsulting\\n\\nMachine Translation', metadata={'source': 'omniscien.com/blog/the-omniscien-advantage-we-wrote-the-book/index.html'}),\n",
       " Document(page_content='Behind many of the tools design is Omniscien’s Chief Scientist, Professor Philipp Koehn who leads our team of researchers and developers. Philipp is a pioneer in the machine translation space, his books on Statistical Machine Translation and Neural Machine Translation are the leading academic textbooks globally on machine translation. Both books are available now from Amazon.com or leading book stores.\\n\\nProfessor Philipp Koehn,Chief Scientist,Omniscien Technologies.\\n\\nState-of-the-Art   Machine Translation\\n\\nSecure Cloud, On-Premises, and Data Center scalability.\\n\\nAt the heart of all of Omniscien’s tools and products is state-of-the-art machine translation technology. Developed and refined for over 14 years, the Omniscien team has continually strived to innovate and deliver the highest quality translation output and most flexible machine translation platform.\\n\\nLanguage Studio provides specialized machine translation engines for use in Media Studio and Workflow Studio that are optimized for a specific purpose such as subtitle translation. The complexity and power of these purpose-optimized workflows and machine translation engines are hidden away with easy use tools and user interfaces.\\n\\nPerforming a translation is simple and easy. However, when you want to take control, Language Studio provides workflow scripting and many more features that place you in the driving seat.\\n\\nNo matter your performance and scalability need Language Studio has a platform edition to match. Language Studio provides a wide range of machine translation options and features to cover even the most complex of business use cases.\\n\\nLearn More\\n\\nCustom    Machine Translation Engines\\n\\nCustomize to your own writing style, vocabulary, and context.\\n\\nGeneric translation systems such as Google are designed to deliver a gist or general meaning for anything, anytime, and anyone so that text can be understood.\\n\\nBeing able to understand is just not good enough at Omniscien!!', metadata={'source': 'omniscien.com/index.html'}),\n",
       " Document(page_content='At Omniscien, we firmly believe that SMT still has a considerable role to play in the machine translation space. SMT produces higher quality translations than NMT in a number of scenarios. For this reason we create a unique Hybrid NMT/SMT model that leverages the strengths of both technologies.\\n\\nBehind many of the tools design is Omniscien’s Chief Scientist, Professor Philipp Koehn who leads our team of researchers and developers. Philipp is a pioneer in the machine translation space, his books on Statistical Machine Translation and Neural Machine Translation are the leading academic textbooks globally on machine translation. Both books are available now from Amazon.com or leading book stores.\\n\\nProfessor Philipp Koehn,Chief Scientist,Omniscien Technologies.\\n\\nProfessor Koehn has also been the instigator and driving force behind the popular open-source Moses Statistical Machine Translation software. Philipp along with a large number of others in the open source community have built Moses into a robust platform that is the defacto platform for SMT research. Included on the Moses website is a great article on the background of SMT.\\n\\nRelated Links\\n\\nPages\\n\\nIntroduction to Machine Translation at Omniscien\\n\\nHybrid Neural and Statistical Machine Translation\\n\\nCustom Machine Translation Engines\\n\\nPowerful Tools for Data Creation, Preparation, and Analysis\\n\\nClean Data Machine Translation\\n\\nIndustry Domains\\n\\nWays to Translate\\n\\nSupported Languages\\n\\nSupported Document Formats\\n\\nDeployment Models\\n\\nData Security & Privacy\\n\\nSecure by Design\\n\\nLocalization Glossary - Terms that you should know\\n\\nProducts\\n\\nLanguage Studio Enterprise-class private and secure machine translation.\\n\\nMedia Studio Media and Subtitle Translation, Project Management and Data Processing\\n\\nWorkflow Studio Enterprise-class private and secure machine translation.\\n\\nFAQ\\n\\nFAQ Home Page\\n\\nPrimer; Different Types of Machine Translation\\n\\nWhat is Custom Machine Translation?\\n\\nWhat is Generic Machine Translation?', metadata={'source': 'omniscien.com/faq/what-is-statistical-machine-translation/index.html'}),\n",
       " Document(page_content='Previously Dion was Vice President and Research Director for Gartner based in Hong Kong, where he was the most senior and highly-respected analyst based in all of Asia. Dion’s research reports on ICT in China helped change the way the world views this market.\\n\\nDion is also a well-known pioneer of the Asian Internet Industry, being the founder of one of Asia’s first ever ISPs (Asia Online in Hong Kong). In his role at Gartner and in various other consulting positions prior to that, Dion advised literally hundreds of enterprises on their ICT strategy.\\n\\nDion was a founder of The ActiveX Factory, where he was the recipient of the Chairman’s Commendation Award presented by Microsoft’s Bill Gates for the best showcase of software developed in the Philippines. The US Government has recognized Dion as being in the top 5% of his field worldwide and he is a former holder of a US O1 Extraordinary Ability Visa.\\n\\nPhilipp Koehn\\n\\nChief Scientist\\n\\nBehind many of the tools design is Omniscien’s Chief Scientist, Professor Philipp Koehn who leads our team of researchers and developers. Philipp is a pioneer in the machine translation space, his books on Statistical Machine Translation and Neural Machine Translation are the leading academic textbooks globally on machine translation. Both books are available now from Amazon.com or leading book stores.\\n\\nPhilipp Koehn is a Professor of Computer Science at Johns Hopkins University and also holds the Chair for Machine Translation in the School of Informatics at the University of Edinburgh. Philipp Koehn is a leader in the field of statistical machine translation and neural machine translation research with over 100 publications. He is the author of several textbooks and online training courses in the field.\\n\\nopen source Moses system that, prior to NMT, became the de-facto standard toolkit for statistical machine translation in research and commercial deployment. Koehn led international research projects such as\\n\\nEuromatrix and', metadata={'source': 'omniscien.com/about-us/company/index.html'}),\n",
       " Document(page_content='Professor Philipp Koehn,  Chief Scientist, Omniscien Technologies\\n\\nTo develop a full featured enterprise class translation platform that addresses the shortcomings of the DIY machine translation approach, Professor Koehn has worked with the Omniscien Technologies team of linguists, researchers and developers for many years to build a translation and language processing solution that is truly innovative – Language Studio. The innovation goes beyond software into the entire process around the customization of a high quality translation engine. This process has been captured in the Clean Data SMT model and is not available as part of any of the DIY machine translation solutions.\\n\\nSome DIY vendors are copying some of the features that Language Studio has had for many years, but still only a subset of the overall functionality is provided by any DIY solution in the market today. Omniscien Technologies continues to innovate and add new features and functionality on a regular basis. Working with Professor Philipp Koehn and other world leaders in the field of machine translation research ensures that Language Studio has the latest advances in commercial and enterprise-class machine translation technologies.\\n\\nRelated Links\\n\\nPages\\n\\nIntroduction to Machine Translation at Omniscien\\n\\nHybrid Neural and Statistical Machine Translation\\n\\nCustom Machine Translation Engines\\n\\nPowerful Tools for Data Creation, Preparation, and Analysis\\n\\nClean Data Machine Translation\\n\\nIndustry Domains\\n\\nWays to Translate\\n\\nSupported Languages\\n\\nSupported Document Formats\\n\\nDeployment Models\\n\\nData Security & Privacy\\n\\nSecure by Design\\n\\nLocalization Glossary - Terms that you should know\\n\\nProducts\\n\\nLanguage Studio Enterprise-class private and secure machine translation.\\n\\nMedia Studio Media and Subtitle Translation, Project Management and Data Processing\\n\\nWorkflow Studio Enterprise-class private and secure machine translation.\\n\\nFAQ\\n\\nFAQ Home Page\\n\\nPrimer; Different Types of Machine Translation', metadata={'source': 'omniscien.com/blog/speech-recognition-speech-synthesis-glossary-v-z/faq/what-is-do-it-yourself-machine-translation/index.html'}),\n",
       " Document(page_content='As can be seen in the chart above, SMT performs better in that NMT in some scenarios. Irrespective of translation technology, the highest quality translations are always produced by customizing machine translation for a purpose and domain.\\n\\nAs with all machine learning technologies, the right data will deliver better translation quality\\xa0results. Language Studio includes the tools and technologies to process, gather, and synthesize the data needed for training. With sufficient in-domain data\\xa0Neural MT is able to “think” more like the human brain when producing translations. Unlike SMT, this can be in excess of 50 million bilingual sentences as just the starting point. Omniscien provides much of this data, and mines and synthesizes millions of new bilingual sentences for each engine.\\n\\nBehind many of the tools design is Omniscien’s Chief Scientist, Professor Philipp Koehn who leads our team of researchers and developers. Philipp is a pioneer in the machine translation space. His books on Statistical Machine Translation and Neural Machine Translation are the leading academic textbooks globally on machine translation. Both books are available now from Amazon.com or leading book stores.\\n\\nLanguage Studio provides state-of-the-art neural machine translation tools\\n\\n600+ Language Pairs\\n\\nReal-Time: 2,000 words per second\\n\\nState-of-the-art Deep Neural Machine Translation\\n\\nDocument Level translation for higher accuracy and better context.\\n\\nCustom machine translation engines with advanced domain adaptation processing.\\n\\nLearn More\\n\\nCheck out our recent webinars about neural machine translation\\n\\nRedefining Domain Adaptation for Machine Translation and Voice Recognition – An Essential Primer\\n\\nAI, NLP, Speech Recognition and Machine Translation: Predicting the next chapter with real-world use cases\\n\\nAdvances in Artificial Intelligence and Language Technology: 2023 and Beyond\\n\\nUnderstand Terminology\\n\\nOur detailed glossaries are the most comprehensive on the web.', metadata={'source': 'omniscien.com/faq/what-is-neural-machine-translation/index.html'}),\n",
       " Document(page_content='Search\\n\\nRiding the Machine Translation Hype Cycle – From SMT to NMT to Deep NMT by Dion Wiggins\\n\\nThere is a running joke in the translation industry that machine translation will be a solved problem in 5 years. This has been updated every 5 years since the 1950’s. The promise was always there, but the technology of the day simply could not deliver.\\n\\nHowever, there has undoubtedly been progress. When we started our company over 10 years ago, MT was considered a joke and ridiculed. At the time, we looked to purchase MT technology, but were unable to find any technology that could rise to the challenges that we needed to address. At the time we had the formidable task of translating all of Wikipedia and other high volume and very mixed content domains from English into mostly second or third-tier Asian languages.\\n\\nTo find a way to address that problem, we flew in Philipp Koehn to introduce him to our concepts and ideas. Philipp at the time was a promising researcher in Statistical Machine Translation (SMT) and recently created a large corpus of bilingual content derived from European Parliament documents and had just released the first version of the Moses SMT decoder which in the meantime has become the de-facto platform for SMT. Soon after, Philipp joined our team as Chief Scientist and has been driving research and development efforts ever since. Philipp joining the team gave us the in-depth knowledge of MT that few had at the time and allowed us to stay ahead of the competition from a technical perspective. While Philipp was the father of the Moses decoder, his Master’s thesis in the 1990’s was on Neural Networks before they become practical for machine translation.', metadata={'source': 'omniscien.com/blog/riding-machine-translation-hype-cycle/index.html'}),\n",
       " Document(page_content='Euromatrix and\\n\\nCASMACAT. Koehn’s research has been funded by the\\n\\nEuropean Union,\\n\\nDARPA,\\n\\nGoogle,\\n\\nFacebook,\\n\\nAmazon,\\n\\nBloomberg, and several other funding agencies. Koehn received his PhD in 2003 from the\\n\\nUniversity of Southern California and was a postdoctoral research associate at\\n\\nMIT. He was a finalist for the\\n\\nEuropean Patent Office’s European Inventor Award in 2013 and received the Award of Honor from the International Association of Machine Translation in 2015.\\n\\nAt Omniscien, Koehn refined machine translation technology for use in real-world deployments and helped develop methods for data acquisition and refinement. Koehn continues to drive innovation and technological development at Omniscien.\\n\\nSee how Omniscien can helpsolve your unique language and document processing challenges\\n\\nRequest a Demo\\n\\nContact Us\\n\\nSubscribe to our Mailing List\\n\\nProducts\\n\\nLanguage Studio\\n\\nMedia Studio\\n\\nServices\\n\\nCustom MT Engines\\n\\nCustom Workflows\\n\\nConsulting\\n\\nMachine Translation\\n\\nMachine Translation Overview\\n\\nDetailed Features\\n\\nIndustry Domain MT Engines\\n\\nCustom MT Engines\\n\\nData Creation Tools\\n\\nWays to Translate\\n\\nHybrid NMT/SMT Engines\\n\\nHuman Language Technology (HLT)\\n\\nArtificial Intelligence & Machine Learning\\n\\nState-of-the-Art Machine Translation\\n\\nNeural Machine Translation (NMT)\\n\\nStatistical Machine Translation (SMT)\\n\\nHybrid Deep NMT/SMT\\n\\nMachine Translation Engine Training\\n\\nData Synthesis, and Data Creation\\n\\nData Cleaning\\n\\nMeasurement\\n\\nNatural Language Processing (NLP)\\n\\nWorkflow Automation\\n\\nSubtitle, Video, Audio, and Media\\n\\nData Source and Integration\\n\\nData Conversion\\n\\nResources\\n\\nSupport\\n\\nFrequently Asked Questions\\n\\nBlog\\n\\nWebinars\\n\\nIntegrated Solution Partners\\n\\nTechnology Partners\\n\\nSupported Languages\\n\\nSupported Document Formats\\n\\nData Security and Privacy\\n\\nDeployment Models\\n\\nAbout Us\\n\\nCompany\\n\\nCareers\\n\\nInternships\\n\\nNews\\n\\nOffice Locations\\n\\nLegal\\n\\nConnect\\n\\nFollow\\n\\nFollow\\n\\nFollow\\n\\nContact Us\\n\\nRequest a Demo\\n\\nSubscribe to Mailing List', metadata={'source': 'omniscien.com/about-us/company/index.html'}),\n",
       " Document(page_content='REPLAYS\\n\\nDon’t Miss a Session\\n\\nVideo replays and presentation slide downloads are now available.\\n\\nSpeakers From:\\n\\nDay 1 – Wednesday 24 June 2020\\n\\nKEYNOTE\\n\\nW1 – Found in Translation – Language Meets Technology\\n\\nDion Wiggins – Omniscien Technologies\\n\\nView Session Overview, Speaker Bio, Video Replay and Download Presentation Slides\\n\\nW2 – Leadership Effectiveness Enabled by Artificial Intelligence\\n\\nViktor Morovic – KeenCorp\\n\\nView Session Overview, Speaker Bio, Video Replay and Download Presentation Slides\\n\\nW3 – On-Premises Secure Translation and Workflow Automation\\n\\nMartine Massiera – Omniscien Technologies\\n\\nView Session Overview, Speaker Bio, Video Replay and Download Presentation Slides\\n\\nW4 – Research in Translation – What Is Exciting and Shows Promise Ahead?\\n\\nPhilipp Koehn – Omniscien Technologies / Johns Hopkins University\\n\\nView Session Overview, Speaker Bio, Video Replay and Download Presentation Slides\\n\\nEXPERT PANEL W5\\xa0– The Evolving Requirements of the Localisation Industry Media & Entertainment Industry Alliance (MESA) Members Hosted by MESA and joined by Scott Rose – SDI Media, Greg Taieb – Deluxe Entertainment and Julian Day – Zoo Digital\\n\\nView Session Overview, Speaker Bio and Video Replay\\n\\nW6 – AI Meets Media Processing and Workflows – Media Studio 2.0 Preview\\n\\nDion Wiggins – Omniscien TechnologiesAlphie Larrieu – Astro (Case Study)\\n\\nView Session Overview, Speaker Bio, Video Replay and Download Presentation Slides\\n\\nDay 2 – Thursday 25 June 2020\\n\\nKEYNOTE\\n\\nT1 – The AI-Fueled Organisation\\n\\nBob Hayward – Deloitte Development LLC\\n\\nView Session Overview, Speaker Bio, Video Replay and Download Presentation Slides\\n\\nT2 – Secrets to Customizing a High Quality Machine Translation Engine\\n\\nDion Wiggins – Omniscien Technologies, Philipp Koehn – Omniscien Technologies / Johns Hopkins University\\n\\nView Session Overview, Speaker Bio, Video Replay and Download Presentation Slides\\n\\nT3 – The Role of Machine Translation in Customer Support Scenarios\\n\\nRenato Beninatto – Nimdzi', metadata={'source': 'omniscien.com/symposium/index.html'}),\n",
       " Document(page_content='Did you know that the latest MT engines are built on more than 1 billion bilingual sentences? We will go step-by-step through the process of how the latest document context technologies are used in the MT engine creation process. We will show how much effort that you need to put in and how data is created on such a large scale.\\n\\nJoin Omniscien\\'s Chief Scientist, Professor Philipp Koehn, a leading researcher in the field of AI and MT, along with Dion Wiggins, Omniscien’s CTO, for an hour of information sharing and insights.\\n\\nThis is Part 2 of a 2 part series. Part 1 is titled \"Advances in Artificial Intelligence and Machine Translation: 2022 and Beyond\" and is on Wednesday 17 November 2021. See above for registration details.\\n\\nWatch the Replay\\n\\nAdvances in Artificial Intelligence and Machine Translation: 2022 and Beyond\\n\\nWednesday , November 17, 2021\\n\\nAs 2021 draws to a close, we look at some of the major advances in the last year and to what 2022 has in store for language-related Artificial Intelligence (AI) and Machine Translation (MT). MT and more broadly natural language processing have become essential parts of the global technological leadership race in AI. Research in this area has skyrocketed, and many groundbreaking achievements continue to be made. This fast-evolving technology field is changing the way people work, play, and understand data.\\n\\nJoin Omniscien\\'s Chief Scientist, Professor Philipp Koehn, a leading researcher in the field of AI and MT, along with Dion Wiggins, Omniscien’s CTO, for an hour of information sharing and insights on what 2022 will likely bring. We will look at trends in Neural Machine Translation, Natural Language Processing, Artificial Intelligence, Machine Learning, Data Mining, Text Analytics, and more.\\n\\nWe will also have a live demo of the latest features in Language Studio 6, Omniscien\\'s latest AI based machine translation product where many of the advances can be seen in action.', metadata={'source': 'omniscien.com/resources/webinars.html'})]"
      ]
     },
     "execution_count": 32,
     "metadata": {},
     "output_type": "execute_result"
    }
   ],
   "source": [
    "query = \"Which book are Philipp writing?\"\n",
    "docs = db_gte.similarity_search(query, k = 10)\n",
    "docs"
   ]
  },
  {
   "cell_type": "code",
   "execution_count": null,
   "metadata": {},
   "outputs": [],
   "source": []
  }
 ],
 "metadata": {
  "kernelspec": {
   "display_name": "lang-lama",
   "language": "python",
   "name": "python3"
  },
  "language_info": {
   "codemirror_mode": {
    "name": "ipython",
    "version": 3
   },
   "file_extension": ".py",
   "mimetype": "text/x-python",
   "name": "python",
   "nbconvert_exporter": "python",
   "pygments_lexer": "ipython3",
   "version": "3.9.16"
  },
  "orig_nbformat": 4
 },
 "nbformat": 4,
 "nbformat_minor": 2
}
