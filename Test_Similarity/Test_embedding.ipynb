{
 "cells": [
  {
   "cell_type": "code",
   "execution_count": 1,
   "metadata": {},
   "outputs": [],
   "source": [
    "from langchain.embeddings.openai import OpenAIEmbeddings\n",
    "from langchain.text_splitter import CharacterTextSplitter\n",
    "from langchain.vectorstores import FAISS\n",
    "from langchain.document_loaders import TextLoader\n",
    "from langchain.document_loaders import DirectoryLoader\n",
    "from langchain.text_splitter import RecursiveCharacterTextSplitter\n",
    "from langchain.embeddings import HuggingFaceEmbeddings"
   ]
  },
  {
   "cell_type": "code",
   "execution_count": 2,
   "metadata": {},
   "outputs": [],
   "source": [
    "def load_docs(docs_path):\n",
    "    loader = DirectoryLoader(docs_path, glob=\"**/*.html\")\n",
    "    documents = loader.load()\n",
    "    return documents\n",
    "\n",
    "documents = load_docs('omniscien.com')"
   ]
  },
  {
   "cell_type": "code",
   "execution_count": 3,
   "metadata": {},
   "outputs": [],
   "source": [
    "def clean_duplicate(documents):\n",
    "    content_unique = []\n",
    "    index_unique = []\n",
    "    content_duplicate = []\n",
    "    index_duplicate = []\n",
    "    for index, doc in enumerate(documents):\n",
    "        if doc.page_content not in content_unique:\n",
    "            content_unique.append(doc.page_content)\n",
    "            index_unique.append(index)\n",
    "        else :\n",
    "            content_duplicate.append(doc.page_content)\n",
    "            index_duplicate.append(index)\n",
    "    documents_clean = [item for index, item in enumerate(documents) if index in index_unique]\n",
    "    return documents_clean\n",
    "documents_clean = clean_duplicate(documents)"
   ]
  },
  {
   "cell_type": "code",
   "execution_count": 4,
   "metadata": {},
   "outputs": [],
   "source": [
    "def split_docs(documents,chunk_size=1000,chunk_overlap=200):\n",
    "    text_splitter = RecursiveCharacterTextSplitter(chunk_size=chunk_size, chunk_overlap=chunk_overlap)\n",
    "    sp_docs = text_splitter.split_documents(documents)\n",
    "    return sp_docs\n",
    "sp_docs = split_docs(documents_clean)"
   ]
  },
  {
   "cell_type": "markdown",
   "metadata": {},
   "source": [
    "Current Embbeding (all-MiniLM-L6-v2)"
   ]
  },
  {
   "cell_type": "code",
   "execution_count": 18,
   "metadata": {},
   "outputs": [],
   "source": [
    "embeddings = HuggingFaceEmbeddings(model_name = \"sentence-transformers/all-MiniLM-L6-v2\",\n",
    "                                model_kwargs = {'device': 'cpu'})\n",
    "db = FAISS.from_documents(sp_docs, embeddings)"
   ]
  },
  {
   "cell_type": "code",
   "execution_count": 19,
   "metadata": {},
   "outputs": [
    {
     "data": {
      "text/plain": [
       "[Document(page_content='Dion was a founder of The ActiveX Factory, where he was the recipient of the Chairman’s Commendation Award presented by Microsoft’s Bill Gates for the best showcase of software developed in the Philippines. The US Government has recognized Dion as being in the top 5% of his field worldwide and he is a former holder of a US O1 Extraordinary Ability Visa.\\n\\nPhilipp Koehn\\n\\nChief Scientist\\n\\nBehind many of the tools design is Omniscien’s Chief Scientist, Professor Philipp Koehn who leads our team of researchers and developers. Philipp is a pioneer in the machine translation space, his books on Statistical Machine Translation and Neural Machine Translation are the leading academic textbooks globally on machine translation. Both books are available now from Amazon.com or leading book stores.', metadata={'source': 'omniscien.com/about-us/company/index.html'}),\n",
       " Document(page_content='To find a way to address that problem, we flew in Philipp Koehn to introduce him to our concepts and ideas. Philipp at the time was a promising researcher in Statistical Machine Translation (SMT) and recently created a large corpus of bilingual content derived from European Parliament documents and had just released the first version of the Moses SMT decoder which in the meantime has become the de-facto platform for SMT. Soon after, Philipp joined our team as Chief Scientist and has been driving research and development efforts ever since. Philipp joining the team gave us the in-depth knowledge of MT that few had at the time and allowed us to stay ahead of the competition from a technical perspective. While Philipp was the father of the Moses decoder, his Master’s thesis in the 1990’s was on Neural Networks before they become practical for machine translation.', metadata={'source': 'omniscien.com/blog/riding-machine-translation-hype-cycle/index.html'}),\n",
       " Document(page_content='RTF\\n\\nRich Text Format\\n\\nTEX\\n\\nLaTeX Document Format\\n\\nWP/WP6/WP7\\n\\nWord Perfect Format\\n\\nWPT\\n\\nWord Perfect Template\\n\\nXHTML\\n\\nText Based File with Markup in XML\\n\\nXPS\\n\\nXML Paper Specification\\n\\neBook\\n\\nAn eBook (short for electronic book), also known as an e-book or an ebook, is a book publication made available in digital form, consisting of text, images, or both, readable on the flat-panel display of a computer or other electronic device. Although sometimes defined as “an electronic version of a printed book”, some eBooks exist without a printed equivalent. eBooks can be read on dedicated e-reader devices, but also on any computer device that features a controllable viewing screen, including desktop computers, laptops, tablets and smartphones.\\n\\nEPUB\\n\\nElectronic Publisher Format\\n\\nMOBI\\n\\nMobipocket eBook\\n\\nEmail', metadata={'source': 'omniscien.com/lsev6/features/convert/convert-file-formats-file-types/index.html'}),\n",
       " Document(page_content='Hybrid NMT/SMT Engines\\n\\nDetailed Features\\n\\nSupported Languages\\n\\nDocument Formats\\n\\nDeployment Models\\n\\nData Security & Privacy\\n\\nSecure by Design\\n\\nLanguge Studio Secure CloudHosted by Omniscien\\n\\nLanguage Studo EnterpriseOn-premises or private cloud - Portal and APIs\\n\\nRequest a Demo\\n\\nWriting Style\\n\\nIn addition to customizing for domain and context, one of the major benefits of a Professional Guided MT Engine is the ability to influence writing style.\\n\\nIn the diagram, a Spanish sentence is translated using two different machine translation engines. The first was customized for English Business and reads more like the Economist or Forbes style of writing. The second was customized for English Children’s Books and reads more like Harry Potter.', metadata={'source': 'omniscien.com/machine-translation/custom-mt-engines/index.html'}),\n",
       " Document(page_content='OPC\\n\\nFlatOPC\\n\\nOTT\\n\\nTemplate Documents in compliance with OASIS’ OpenDocument Standard Format\\n\\nPCL\\n\\nPrinter Command Language\\n\\nPDF\\n\\nPortable Document Format\\n\\nPortable Document Format -Standard\\n\\nPS\\n\\nPostScript (a general purpose page description langauge)\\n\\nPUB\\n\\nMicrosoft Publisher Document\\n\\nRTF\\n\\nRich Text Format\\n\\nTEX\\n\\nLaTeX Document Format\\n\\nWP/WP6/WP7\\n\\nWord Perfect Format\\n\\nWPT\\n\\nWord Perfect Template\\n\\nXHTML\\n\\nText Based File with Markup in XML\\n\\nXPS\\n\\nXML Paper Specification\\n\\neBook', metadata={'source': 'omniscien.com/lsev6/features/convert/convert-file-formats-file-types/index.html'}),\n",
       " Document(page_content='Philipp Koehn is a Professor of Computer Science at Johns Hopkins University and also holds the Chair for Machine Translation in the School of Informatics at the University of Edinburgh. Philipp Koehn is a leader in the field of statistical machine translation and neural machine translation research with over 100 publications. He is the author of several textbooks and online training courses in the field.\\n\\nopen source Moses system that, prior to NMT, became the de-facto standard toolkit for statistical machine translation in research and commercial deployment. Koehn led international research projects such as\\n\\nEuromatrix and\\n\\nCASMACAT. Koehn’s research has been funded by the\\n\\nEuropean Union,\\n\\nDARPA,\\n\\nGoogle,\\n\\nFacebook,\\n\\nAmazon,\\n\\nBloomberg, and several other funding agencies. Koehn received his PhD in 2003 from the\\n\\nUniversity of Southern California and was a postdoctoral research associate at\\n\\nMIT. He was a finalist for the', metadata={'source': 'omniscien.com/about-us/company/index.html'}),\n",
       " Document(page_content='Naturally, Omniscien tools and technologies are heavily reliant on high-quality specialized data to power our platform and technologies. Because we understand the importance of high-quality data, the Omniscien team is dedicated to breaking new ground with novel research and approaches to creating, mining, harvesting, synthesizing, and manufacturing data. Omniscien has built a variety of powerful tools for data creation, preparation, and analysis.\\n\\nBehind many of the tools design is Omniscien’s Chief Scientist, Professor Philipp Koehn who leads our team of researchers and developers. Philipp is a pioneer in the machine translation space, his books on Statistical Machine Translation and Neural Machine Translation are the leading academic textbooks globally on machine translation. Both books are available now from Amazon.com or leading book stores.\\n\\nProfessor Philipp Koehn,Chief Scientist,Omniscien Technologies.\\n\\nState-of-the-Art   Machine Translation', metadata={'source': 'omniscien.com/index.html'}),\n",
       " Document(page_content='In many cases, a high quality translation should also be specifically adapted for a target audience, writing style, industry domain and purpose. A body of text may be translated perfectly, but totally unsuitable for the target audience. The graphic below shows an example of Business style (i.e., Forbes, Economist), and a second example of Children’s Books (i.e., Harry Potter). The Business style would be totally unsuitable for childrens books.\\n\\nHITL\\n\\nSee Human-In-The-Loop\\n\\nHuman-In-The-Loop\\n\\nHuman-in-the-loop (HITL) is a branch of artificial intelligence that leverages both human and machine intelligence to create machine learning models. In a traditional human-in-the-loop approach, people are involved in training, tuning, and testing a particular algorithm.', metadata={'source': 'omniscien.com/blog/localization-glossary-terminology-that-you-should-know/index.html'}),\n",
       " Document(page_content='Dion Wiggins\\n\\nChief Technology Officer, Co-Founder\\n\\nDion Wiggins is a highly experienced ICT industry visionary, entrepreneur, analyst, and consultant. He has an impressive knowledge in the fields of software development, architecture, and management, as well as an in-depth understanding of Asian ICT markets. He is an accomplished speaker and has a high media profile for his perceptive analysis of ICT in Asia/Pacific.\\n\\nPreviously Dion was Vice President and Research Director for Gartner based in Hong Kong, where he was the most senior and highly-respected analyst based in all of Asia. Dion’s research reports on ICT in China helped change the way the world views this market.\\n\\nDion is also a well-known pioneer of the Asian Internet Industry, being the founder of one of Asia’s first ever ISPs (Asia Online in Hong Kong). In his role at Gartner and in various other consulting positions prior to that, Dion advised literally hundreds of enterprises on their ICT strategy.', metadata={'source': 'omniscien.com/about-us/company/index.html'}),\n",
       " Document(page_content='Join Omniscien\\'s Chief Scientist, Professor Philipp Koehn, a leading researcher in the field of AI and MT, along with Dion Wiggins, Omniscien’s CTO, for an hour of information sharing and insights.\\n\\nThis is Part 2 of a 2 part series. Part 1 is titled \"Advances in Artificial Intelligence and Machine Translation: 2022 and Beyond\" and is on Wednesday 17 November 2021. See above for registration details.\\n\\nWatch the Replay\\n\\nAdvances in Artificial Intelligence and Machine Translation: 2022 and Beyond\\n\\nWednesday , November 17, 2021', metadata={'source': 'omniscien.com/resources/webinars.html'})]"
      ]
     },
     "execution_count": 19,
     "metadata": {},
     "output_type": "execute_result"
    }
   ],
   "source": [
    "query = \"Which book are Philipp writing?\"\n",
    "docs = db.similarity_search(query, k = 10)\n",
    "docs"
   ]
  },
  {
   "cell_type": "markdown",
   "metadata": {},
   "source": [
    "# bge-small-en"
   ]
  },
  {
   "cell_type": "code",
   "execution_count": 7,
   "metadata": {},
   "outputs": [],
   "source": [
    "embeddings = HuggingFaceEmbeddings(model_name = \"BAAI/bge-small-en\",\n",
    "                                model_kwargs = {'device': 'cpu'})\n",
    "db_gte = FAISS.from_documents(sp_docs, embeddings)"
   ]
  },
  {
   "cell_type": "code",
   "execution_count": 8,
   "metadata": {},
   "outputs": [
    {
     "data": {
      "text/plain": [
       "[Document(page_content='To find a way to address that problem, we flew in Philipp Koehn to introduce him to our concepts and ideas. Philipp at the time was a promising researcher in Statistical Machine Translation (SMT) and recently created a large corpus of bilingual content derived from European Parliament documents and had just released the first version of the Moses SMT decoder which in the meantime has become the de-facto platform for SMT. Soon after, Philipp joined our team as Chief Scientist and has been driving research and development efforts ever since. Philipp joining the team gave us the in-depth knowledge of MT that few had at the time and allowed us to stay ahead of the competition from a technical perspective. While Philipp was the father of the Moses decoder, his Master’s thesis in the 1990’s was on Neural Networks before they become practical for machine translation.', metadata={'source': 'omniscien.com/blog/riding-machine-translation-hype-cycle/index.html'}),\n",
       " Document(page_content='Behind many of the tools design is Omniscien’s Chief Scientist, Professor Philipp Koehn who leads our team of researchers and developers. Philipp is a pioneer in the machine translation space, his books on Statistical Machine Translation and Neural Machine Translation are the leading academic textbooks globally on machine translation. Both books are available now from Amazon.com or leading book stores.\\n\\nProfessor Philipp Koehn,Chief Scientist,Omniscien Technologies.\\n\\nProfessor Koehn has also been the instigator and driving force behind the popular open-source Moses Statistical Machine Translation software. Philipp along with a large number of others in the open source community have built Moses into a robust platform that is the defacto platform for SMT research. Included on the Moses website is a great article on the background of SMT.\\n\\nRelated Links\\n\\nPages\\n\\nIntroduction to Machine Translation at Omniscien\\n\\nHybrid Neural and Statistical Machine Translation', metadata={'source': 'omniscien.com/faq/what-is-statistical-machine-translation/index.html'}),\n",
       " Document(page_content='Dion was a founder of The ActiveX Factory, where he was the recipient of the Chairman’s Commendation Award presented by Microsoft’s Bill Gates for the best showcase of software developed in the Philippines. The US Government has recognized Dion as being in the top 5% of his field worldwide and he is a former holder of a US O1 Extraordinary Ability Visa.\\n\\nPhilipp Koehn\\n\\nChief Scientist\\n\\nBehind many of the tools design is Omniscien’s Chief Scientist, Professor Philipp Koehn who leads our team of researchers and developers. Philipp is a pioneer in the machine translation space, his books on Statistical Machine Translation and Neural Machine Translation are the leading academic textbooks globally on machine translation. Both books are available now from Amazon.com or leading book stores.', metadata={'source': 'omniscien.com/about-us/company/index.html'}),\n",
       " Document(page_content='Professor Philipp Koehn,  Chief Scientist, Omniscien Technologies\\n\\nTo develop a full featured enterprise class translation platform that addresses the shortcomings of the DIY machine translation approach, Professor Koehn has worked with the Omniscien Technologies team of linguists, researchers and developers for many years to build a translation and language processing solution that is truly innovative – Language Studio. The innovation goes beyond software into the entire process around the customization of a high quality translation engine. This process has been captured in the Clean Data SMT model and is not available as part of any of the DIY machine translation solutions.', metadata={'source': 'omniscien.com/blog/speech-recognition-speech-synthesis-glossary-v-z/faq/what-is-do-it-yourself-machine-translation/index.html'}),\n",
       " Document(page_content='Naturally, Omniscien tools and technologies are heavily reliant on high-quality specialized data to power our platform and technologies. Because we understand the importance of high-quality data, the Omniscien team is dedicated to breaking new ground with novel research and approaches to creating, mining, harvesting, synthesizing, and manufacturing data. Omniscien has built a variety of powerful tools for data creation, preparation, and analysis.\\n\\nBehind many of the tools design is Omniscien’s Chief Scientist, Professor Philipp Koehn who leads our team of researchers and developers. Philipp is a pioneer in the machine translation space, his books on Statistical Machine Translation and Neural Machine Translation are the leading academic textbooks globally on machine translation. Both books are available now from Amazon.com or leading book stores.\\n\\nProfessor Philipp Koehn,Chief Scientist,Omniscien Technologies.\\n\\nRelated Links\\n\\nWhat is Rules-Based Machine Translation?', metadata={'source': 'omniscien.com/blog/the-omniscien-advantage-we-wrote-the-book/index.html'}),\n",
       " Document(page_content='Professor Koehn worked with many others contributors to develop the Moses decoder including Hieu Hoang, Chris Dyer, Josh Schroeder, Marcello Federico, Richard Zens, and Wade Shen. The Moses decoder has progressively matured and is the de facto benchmark for research in the field. However, Moses was not intended to be a commercial machine translation offering. There are considerable amounts of additional functionality, beyond providing a web based user interface for Moses, that are not included in Moses that are essential in order to offer a strong and innovative commercial machine translation platform.', metadata={'source': 'omniscien.com/blog/speech-recognition-speech-synthesis-glossary-v-z/faq/what-is-do-it-yourself-machine-translation/index.html'}),\n",
       " Document(page_content='Naturally, Omniscien tools and technologies are heavily reliant on high-quality specialized data to power our platform and technologies. Because we understand the importance of high-quality data, the Omniscien team is dedicated to breaking new ground with novel research and approaches to creating, mining, harvesting, synthesizing, and manufacturing data. Omniscien has built a variety of powerful tools for data creation, preparation, and analysis.\\n\\nBehind many of the tools design is Omniscien’s Chief Scientist, Professor Philipp Koehn who leads our team of researchers and developers. Philipp is a pioneer in the machine translation space, his books on Statistical Machine Translation and Neural Machine Translation are the leading academic textbooks globally on machine translation. Both books are available now from Amazon.com or leading book stores.\\n\\nProfessor Philipp Koehn,Chief Scientist,Omniscien Technologies.\\n\\nState-of-the-Art   Machine Translation', metadata={'source': 'omniscien.com/index.html'}),\n",
       " Document(page_content='Join Omniscien\\'s Chief Scientist, Professor Philipp Koehn, a leading researcher in the field of AI and MT, along with Dion Wiggins, Omniscien’s CTO, for an hour of information sharing and insights.\\n\\nThis is Part 2 of a 2 part series. Part 1 is titled \"Advances in Artificial Intelligence and Machine Translation: 2022 and Beyond\" and is on Wednesday 17 November 2021. See above for registration details.\\n\\nWatch the Replay\\n\\nAdvances in Artificial Intelligence and Machine Translation: 2022 and Beyond\\n\\nWednesday , November 17, 2021', metadata={'source': 'omniscien.com/resources/webinars.html'}),\n",
       " Document(page_content=\"Join Omniscien's Chief Scientist Professor Philipp Koehn, a leading researcher in the field of AI and MT, along with Dion Wiggins, Omniscien’s CTO, for an hour of information sharing and insights on what 2021 will likely bring. We will look at trends in Neural Machine Translation, Natural Language Processing, Artificial Intelligence, Machine Learning, Data Mining, Text Analytics, and more.\\n\\nWatch the Replay\\n\\n2020 Webinar Week    October 13-14 2020\\n\\nmachine translation,\\n\\nmedia and subtitle processing, and\\n\\nworkflow automation\\n\\nproducts. Currently being finalized and in beta test ahead of their upcoming release, we are excited to announce a series of new products and product updates.\\n\\nJoin the Omniscien team for 3 presentations, including 2 new product preview webinars, and a comprehensive deep dive into the latest advances in data gathering, data synthesis, data cleaning, and best practices for customizing a high-quality translation engine.\", metadata={'source': 'omniscien.com/resources/webinars.html'}),\n",
       " Document(page_content='These statements are vague and often misleading. A group of 4 humans evaluating text is not at all meaningful. The margin of error is substantial and while it might be indicative, it is not scientific. But moving beyond the number of linguists in the sample, there are a number of other variables that are not transparent in such simplistic statements. There is usually no background or other information on the linguists their qualifications, biases (i.e. who they work for could change their views, mother tongue, domain expertise, skill level or what side of bed they got up on that morning. In other words, such vague and unqualified statements should be seen as nothing but marketing.', metadata={'source': 'omniscien.com/blog/riding-machine-translation-hype-cycle/index.html'})]"
      ]
     },
     "execution_count": 8,
     "metadata": {},
     "output_type": "execute_result"
    }
   ],
   "source": [
    "query = \"Which book are Philipp writing?\"\n",
    "docs = db_gte.similarity_search(query, k = 10)\n",
    "docs"
   ]
  },
  {
   "cell_type": "markdown",
   "metadata": {},
   "source": [
    "# gte-base"
   ]
  },
  {
   "cell_type": "code",
   "execution_count": 16,
   "metadata": {},
   "outputs": [],
   "source": [
    "embeddings = HuggingFaceEmbeddings(model_name = \"thenlper/gte-base\",\n",
    "                                model_kwargs = {'device': 'cpu'})\n",
    "db_gte = FAISS.from_documents(sp_docs, embeddings)"
   ]
  },
  {
   "cell_type": "code",
   "execution_count": 17,
   "metadata": {},
   "outputs": [
    {
     "data": {
      "text/plain": [
       "[Document(page_content='Naturally, Omniscien tools and technologies are heavily reliant on high-quality specialized data to power our platform and technologies. Because we understand the importance of high-quality data, the Omniscien team is dedicated to breaking new ground with novel research and approaches to creating, mining, harvesting, synthesizing, and manufacturing data. Omniscien has built a variety of powerful tools for data creation, preparation, and analysis.\\n\\nBehind many of the tools design is Omniscien’s Chief Scientist, Professor Philipp Koehn who leads our team of researchers and developers. Philipp is a pioneer in the machine translation space, his books on Statistical Machine Translation and Neural Machine Translation are the leading academic textbooks globally on machine translation. Both books are available now from Amazon.com or leading book stores.\\n\\nProfessor Philipp Koehn,Chief Scientist,Omniscien Technologies.\\n\\nRelated Links\\n\\nWhat is Rules-Based Machine Translation?', metadata={'source': 'omniscien.com/blog/the-omniscien-advantage-we-wrote-the-book/index.html'}),\n",
       " Document(page_content='Naturally, Omniscien tools and technologies are heavily reliant on high-quality specialized data to power our platform and technologies. Because we understand the importance of high-quality data, the Omniscien team is dedicated to breaking new ground with novel research and approaches to creating, mining, harvesting, synthesizing, and manufacturing data. Omniscien has built a variety of powerful tools for data creation, preparation, and analysis.\\n\\nBehind many of the tools design is Omniscien’s Chief Scientist, Professor Philipp Koehn who leads our team of researchers and developers. Philipp is a pioneer in the machine translation space, his books on Statistical Machine Translation and Neural Machine Translation are the leading academic textbooks globally on machine translation. Both books are available now from Amazon.com or leading book stores.\\n\\nProfessor Philipp Koehn,Chief Scientist,Omniscien Technologies.\\n\\nState-of-the-Art   Machine Translation', metadata={'source': 'omniscien.com/index.html'}),\n",
       " Document(page_content='Behind many of the tools design is Omniscien’s Chief Scientist, Professor Philipp Koehn who leads our team of researchers and developers. Philipp is a pioneer in the machine translation space, his books on Statistical Machine Translation and Neural Machine Translation are the leading academic textbooks globally on machine translation. Both books are available now from Amazon.com or leading book stores.\\n\\nProfessor Philipp Koehn,Chief Scientist,Omniscien Technologies.\\n\\nProfessor Koehn has also been the instigator and driving force behind the popular open-source Moses Statistical Machine Translation software. Philipp along with a large number of others in the open source community have built Moses into a robust platform that is the defacto platform for SMT research. Included on the Moses website is a great article on the background of SMT.\\n\\nRelated Links\\n\\nPages\\n\\nIntroduction to Machine Translation at Omniscien\\n\\nHybrid Neural and Statistical Machine Translation', metadata={'source': 'omniscien.com/faq/what-is-statistical-machine-translation/index.html'}),\n",
       " Document(page_content='Philipp Koehn is a Professor of Computer Science at Johns Hopkins University and also holds the Chair for Machine Translation in the School of Informatics at the University of Edinburgh. Philipp Koehn is a leader in the field of statistical machine translation and neural machine translation research with over 100 publications. He is the author of several textbooks and online training courses in the field.\\n\\nopen source Moses system that, prior to NMT, became the de-facto standard toolkit for statistical machine translation in research and commercial deployment. Koehn led international research projects such as\\n\\nEuromatrix and\\n\\nCASMACAT. Koehn’s research has been funded by the\\n\\nEuropean Union,\\n\\nDARPA,\\n\\nGoogle,\\n\\nFacebook,\\n\\nAmazon,\\n\\nBloomberg, and several other funding agencies. Koehn received his PhD in 2003 from the\\n\\nUniversity of Southern California and was a postdoctoral research associate at\\n\\nMIT. He was a finalist for the', metadata={'source': 'omniscien.com/about-us/company/index.html'}),\n",
       " Document(page_content='As with all machine learning technologies, the right data will deliver better translation quality\\xa0results. Language Studio includes the tools and technologies to process, gather, and synthesize the data needed for training. With sufficient in-domain data\\xa0Neural MT is able to “think” more like the human brain when producing translations. Unlike SMT, this can be in excess of 50 million bilingual sentences as just the starting point. Omniscien provides much of this data, and mines and synthesizes millions of new bilingual sentences for each engine.\\n\\nBehind many of the tools design is Omniscien’s Chief Scientist, Professor Philipp Koehn who leads our team of researchers and developers. Philipp is a pioneer in the machine translation space. His books on Statistical Machine Translation and Neural Machine Translation are the leading academic textbooks globally on machine translation. Both books are available now from Amazon.com or leading book stores.', metadata={'source': 'omniscien.com/faq/what-is-neural-machine-translation/index.html'}),\n",
       " Document(page_content='Professor Philipp Koehn,Chief Scientist,Omniscien Technologies.\\n\\nRelated Links\\n\\nWhat is Rules-Based Machine Translation?\\n\\nWhat is Syntax-Based Machine Translation?\\n\\nWhat is Neural Machine Translation?\\n\\nIntroduction to Machine Translation at Omniscien\\n\\nHybrid NMT/SMT Translation\\n\\nSee how Omniscien can helpsolve your unique language and document processing challenges\\n\\nRequest a Demo\\n\\nContact Us\\n\\nSubscribe to our Mailing List\\n\\nProducts\\n\\nLanguage Studio\\n\\nMedia Studio\\n\\nServices\\n\\nCustom MT Engines\\n\\nCustom Workflows\\n\\nConsulting\\n\\nMachine Translation\\n\\nMachine Translation Overview\\n\\nDetailed Features\\n\\nIndustry Domain MT Engines\\n\\nCustom MT Engines\\n\\nData Creation Tools\\n\\nWays to Translate\\n\\nHybrid NMT/SMT Engines\\n\\nHuman Language Technology (HLT)\\n\\nArtificial Intelligence & Machine Learning\\n\\nState-of-the-Art Machine Translation\\n\\nNeural Machine Translation (NMT)\\n\\nStatistical Machine Translation (SMT)\\n\\nHybrid Deep NMT/SMT\\n\\nMachine Translation Engine Training\\n\\nData Synthesis, and Data Creation', metadata={'source': 'omniscien.com/blog/the-omniscien-advantage-we-wrote-the-book/index.html'}),\n",
       " Document(page_content='To find a way to address that problem, we flew in Philipp Koehn to introduce him to our concepts and ideas. Philipp at the time was a promising researcher in Statistical Machine Translation (SMT) and recently created a large corpus of bilingual content derived from European Parliament documents and had just released the first version of the Moses SMT decoder which in the meantime has become the de-facto platform for SMT. Soon after, Philipp joined our team as Chief Scientist and has been driving research and development efforts ever since. Philipp joining the team gave us the in-depth knowledge of MT that few had at the time and allowed us to stay ahead of the competition from a technical perspective. While Philipp was the father of the Moses decoder, his Master’s thesis in the 1990’s was on Neural Networks before they become practical for machine translation.', metadata={'source': 'omniscien.com/blog/riding-machine-translation-hype-cycle/index.html'}),\n",
       " Document(page_content='Philipp Koehn – Omniscien Technologies / Johns Hopkins University\\n\\nView Session Overview, Speaker Bio, Video Replay and Download Presentation Slides\\n\\nEXPERT PANEL W5\\xa0– The Evolving Requirements of the Localisation Industry Media & Entertainment Industry Alliance (MESA) Members Hosted by MESA and joined by Scott Rose – SDI Media, Greg Taieb – Deluxe Entertainment and Julian Day – Zoo Digital\\n\\nView Session Overview, Speaker Bio and Video Replay\\n\\nW6 – AI Meets Media Processing and Workflows – Media Studio 2.0 Preview\\n\\nDion Wiggins – Omniscien TechnologiesAlphie Larrieu – Astro (Case Study)\\n\\nView Session Overview, Speaker Bio, Video Replay and Download Presentation Slides\\n\\nDay 2 – Thursday 25 June 2020\\n\\nKEYNOTE\\n\\nT1 – The AI-Fueled Organisation\\n\\nBob Hayward – Deloitte Development LLC\\n\\nView Session Overview, Speaker Bio, Video Replay and Download Presentation Slides\\n\\nT2 – Secrets to Customizing a High Quality Machine Translation Engine', metadata={'source': 'omniscien.com/symposium/index.html'}),\n",
       " Document(page_content='Professor Philipp Koehn,  Chief Scientist, Omniscien Technologies\\n\\nTo develop a full featured enterprise class translation platform that addresses the shortcomings of the DIY machine translation approach, Professor Koehn has worked with the Omniscien Technologies team of linguists, researchers and developers for many years to build a translation and language processing solution that is truly innovative – Language Studio. The innovation goes beyond software into the entire process around the customization of a high quality translation engine. This process has been captured in the Clean Data SMT model and is not available as part of any of the DIY machine translation solutions.', metadata={'source': 'omniscien.com/blog/speech-recognition-speech-synthesis-glossary-v-z/faq/what-is-do-it-yourself-machine-translation/index.html'}),\n",
       " Document(page_content='Dion was a founder of The ActiveX Factory, where he was the recipient of the Chairman’s Commendation Award presented by Microsoft’s Bill Gates for the best showcase of software developed in the Philippines. The US Government has recognized Dion as being in the top 5% of his field worldwide and he is a former holder of a US O1 Extraordinary Ability Visa.\\n\\nPhilipp Koehn\\n\\nChief Scientist\\n\\nBehind many of the tools design is Omniscien’s Chief Scientist, Professor Philipp Koehn who leads our team of researchers and developers. Philipp is a pioneer in the machine translation space, his books on Statistical Machine Translation and Neural Machine Translation are the leading academic textbooks globally on machine translation. Both books are available now from Amazon.com or leading book stores.', metadata={'source': 'omniscien.com/about-us/company/index.html'})]"
      ]
     },
     "execution_count": 17,
     "metadata": {},
     "output_type": "execute_result"
    }
   ],
   "source": [
    "query = \"Which book are Philipp writing?\"\n",
    "docs = db_gte.similarity_search(query, k = 10)\n",
    "docs"
   ]
  },
  {
   "cell_type": "markdown",
   "metadata": {},
   "source": [
    "#  gte-small"
   ]
  },
  {
   "cell_type": "code",
   "execution_count": 11,
   "metadata": {},
   "outputs": [
    {
     "name": "stderr",
     "output_type": "stream",
     "text": [
      "Downloading (…)2e6d8/.gitattributes: 100%|██████████| 1.52k/1.52k [00:00<00:00, 2.63MB/s]\n",
      "Downloading (…)_Pooling/config.json: 100%|██████████| 190/190 [00:00<00:00, 317kB/s]\n",
      "Downloading (…)9e0ce2e6d8/README.md: 100%|██████████| 68.1k/68.1k [00:00<00:00, 257kB/s]\n",
      "Downloading (…)0ce2e6d8/config.json: 100%|██████████| 583/583 [00:00<00:00, 1.06MB/s]\n",
      "Downloading pytorch_model.bin: 100%|██████████| 66.8M/66.8M [00:22<00:00, 2.94MB/s]\n",
      "Downloading (…)nce_bert_config.json: 100%|██████████| 57.0/57.0 [00:00<00:00, 93.0kB/s]\n",
      "Downloading (…)cial_tokens_map.json: 100%|██████████| 125/125 [00:00<00:00, 202kB/s]\n",
      "Downloading (…)2e6d8/tokenizer.json: 100%|██████████| 712k/712k [00:00<00:00, 725kB/s]\n",
      "Downloading (…)okenizer_config.json: 100%|██████████| 394/394 [00:00<00:00, 672kB/s]\n",
      "Downloading (…)9e0ce2e6d8/vocab.txt: 100%|██████████| 232k/232k [00:00<00:00, 4.08MB/s]\n",
      "Downloading (…)ce2e6d8/modules.json: 100%|██████████| 385/385 [00:00<00:00, 542kB/s]\n"
     ]
    }
   ],
   "source": [
    "embeddings = HuggingFaceEmbeddings(model_name = \"thenlper/gte-small\",\n",
    "                                model_kwargs = {'device': 'cpu'})\n",
    "db_gte = FAISS.from_documents(sp_docs, embeddings)"
   ]
  },
  {
   "cell_type": "code",
   "execution_count": 13,
   "metadata": {},
   "outputs": [
    {
     "data": {
      "text/plain": [
       "[Document(page_content='To find a way to address that problem, we flew in Philipp Koehn to introduce him to our concepts and ideas. Philipp at the time was a promising researcher in Statistical Machine Translation (SMT) and recently created a large corpus of bilingual content derived from European Parliament documents and had just released the first version of the Moses SMT decoder which in the meantime has become the de-facto platform for SMT. Soon after, Philipp joined our team as Chief Scientist and has been driving research and development efforts ever since. Philipp joining the team gave us the in-depth knowledge of MT that few had at the time and allowed us to stay ahead of the competition from a technical perspective. While Philipp was the father of the Moses decoder, his Master’s thesis in the 1990’s was on Neural Networks before they become practical for machine translation.', metadata={'source': 'omniscien.com/blog/riding-machine-translation-hype-cycle/index.html'}),\n",
       " Document(page_content='Philipp Koehn is a Professor of Computer Science at Johns Hopkins University and also holds the Chair for Machine Translation in the School of Informatics at the University of Edinburgh. Philipp Koehn is a leader in the field of statistical machine translation and neural machine translation research with over 100 publications. He is the author of several textbooks and online training courses in the field.\\n\\nopen source Moses system that, prior to NMT, became the de-facto standard toolkit for statistical machine translation in research and commercial deployment. Koehn led international research projects such as\\n\\nEuromatrix and\\n\\nCASMACAT. Koehn’s research has been funded by the\\n\\nEuropean Union,\\n\\nDARPA,\\n\\nGoogle,\\n\\nFacebook,\\n\\nAmazon,\\n\\nBloomberg, and several other funding agencies. Koehn received his PhD in 2003 from the\\n\\nUniversity of Southern California and was a postdoctoral research associate at\\n\\nMIT. He was a finalist for the', metadata={'source': 'omniscien.com/about-us/company/index.html'}),\n",
       " Document(page_content='Behind many of the tools design is Omniscien’s Chief Scientist, Professor Philipp Koehn who leads our team of researchers and developers. Philipp is a pioneer in the machine translation space, his books on Statistical Machine Translation and Neural Machine Translation are the leading academic textbooks globally on machine translation. Both books are available now from Amazon.com or leading book stores.\\n\\nProfessor Philipp Koehn,Chief Scientist,Omniscien Technologies.\\n\\nProfessor Koehn has also been the instigator and driving force behind the popular open-source Moses Statistical Machine Translation software. Philipp along with a large number of others in the open source community have built Moses into a robust platform that is the defacto platform for SMT research. Included on the Moses website is a great article on the background of SMT.\\n\\nRelated Links\\n\\nPages\\n\\nIntroduction to Machine Translation at Omniscien\\n\\nHybrid Neural and Statistical Machine Translation', metadata={'source': 'omniscien.com/faq/what-is-statistical-machine-translation/index.html'}),\n",
       " Document(page_content='Professor Philipp Koehn,  Chief Scientist, Omniscien Technologies\\n\\nTo develop a full featured enterprise class translation platform that addresses the shortcomings of the DIY machine translation approach, Professor Koehn has worked with the Omniscien Technologies team of linguists, researchers and developers for many years to build a translation and language processing solution that is truly innovative – Language Studio. The innovation goes beyond software into the entire process around the customization of a high quality translation engine. This process has been captured in the Clean Data SMT model and is not available as part of any of the DIY machine translation solutions.', metadata={'source': 'omniscien.com/blog/speech-recognition-speech-synthesis-glossary-v-z/faq/what-is-do-it-yourself-machine-translation/index.html'}),\n",
       " Document(page_content='Naturally, Omniscien tools and technologies are heavily reliant on high-quality specialized data to power our platform and technologies. Because we understand the importance of high-quality data, the Omniscien team is dedicated to breaking new ground with novel research and approaches to creating, mining, harvesting, synthesizing, and manufacturing data. Omniscien has built a variety of powerful tools for data creation, preparation, and analysis.\\n\\nBehind many of the tools design is Omniscien’s Chief Scientist, Professor Philipp Koehn who leads our team of researchers and developers. Philipp is a pioneer in the machine translation space, his books on Statistical Machine Translation and Neural Machine Translation are the leading academic textbooks globally on machine translation. Both books are available now from Amazon.com or leading book stores.\\n\\nProfessor Philipp Koehn,Chief Scientist,Omniscien Technologies.\\n\\nState-of-the-Art   Machine Translation', metadata={'source': 'omniscien.com/index.html'}),\n",
       " Document(page_content='Naturally, Omniscien tools and technologies are heavily reliant on high-quality specialized data to power our platform and technologies. Because we understand the importance of high-quality data, the Omniscien team is dedicated to breaking new ground with novel research and approaches to creating, mining, harvesting, synthesizing, and manufacturing data. Omniscien has built a variety of powerful tools for data creation, preparation, and analysis.\\n\\nBehind many of the tools design is Omniscien’s Chief Scientist, Professor Philipp Koehn who leads our team of researchers and developers. Philipp is a pioneer in the machine translation space, his books on Statistical Machine Translation and Neural Machine Translation are the leading academic textbooks globally on machine translation. Both books are available now from Amazon.com or leading book stores.\\n\\nProfessor Philipp Koehn,Chief Scientist,Omniscien Technologies.\\n\\nRelated Links\\n\\nWhat is Rules-Based Machine Translation?', metadata={'source': 'omniscien.com/blog/the-omniscien-advantage-we-wrote-the-book/index.html'}),\n",
       " Document(page_content='Dion was a founder of The ActiveX Factory, where he was the recipient of the Chairman’s Commendation Award presented by Microsoft’s Bill Gates for the best showcase of software developed in the Philippines. The US Government has recognized Dion as being in the top 5% of his field worldwide and he is a former holder of a US O1 Extraordinary Ability Visa.\\n\\nPhilipp Koehn\\n\\nChief Scientist\\n\\nBehind many of the tools design is Omniscien’s Chief Scientist, Professor Philipp Koehn who leads our team of researchers and developers. Philipp is a pioneer in the machine translation space, his books on Statistical Machine Translation and Neural Machine Translation are the leading academic textbooks globally on machine translation. Both books are available now from Amazon.com or leading book stores.', metadata={'source': 'omniscien.com/about-us/company/index.html'}),\n",
       " Document(page_content='Professor Philipp Koehn,Chief Scientist,Omniscien Technologies.\\n\\nState-of-the-Art   Machine Translation\\n\\nSecure Cloud, On-Premises, and Data Center scalability.\\n\\nAt the heart of all of Omniscien’s tools and products is state-of-the-art machine translation technology. Developed and refined for over 14 years, the Omniscien team has continually strived to innovate and deliver the highest quality translation output and most flexible machine translation platform.\\n\\nLanguage Studio provides specialized machine translation engines for use in Media Studio and Workflow Studio that are optimized for a specific purpose such as subtitle translation. The complexity and power of these purpose-optimized workflows and machine translation engines are hidden away with easy use tools and user interfaces.\\n\\nPerforming a translation is simple and easy. However, when you want to take control, Language Studio provides workflow scripting and many more features that place you in the driving seat.', metadata={'source': 'omniscien.com/index.html'}),\n",
       " Document(page_content='Professor Koehn worked with many others contributors to develop the Moses decoder including Hieu Hoang, Chris Dyer, Josh Schroeder, Marcello Federico, Richard Zens, and Wade Shen. The Moses decoder has progressively matured and is the de facto benchmark for research in the field. However, Moses was not intended to be a commercial machine translation offering. There are considerable amounts of additional functionality, beyond providing a web based user interface for Moses, that are not included in Moses that are essential in order to offer a strong and innovative commercial machine translation platform.', metadata={'source': 'omniscien.com/blog/speech-recognition-speech-synthesis-glossary-v-z/faq/what-is-do-it-yourself-machine-translation/index.html'}),\n",
       " Document(page_content='Professor Philipp Koehn,Chief Scientist,Omniscien Technologies.\\n\\nRelated Links\\n\\nWhat is Rules-Based Machine Translation?\\n\\nWhat is Syntax-Based Machine Translation?\\n\\nWhat is Neural Machine Translation?\\n\\nIntroduction to Machine Translation at Omniscien\\n\\nHybrid NMT/SMT Translation\\n\\nSee how Omniscien can helpsolve your unique language and document processing challenges\\n\\nRequest a Demo\\n\\nContact Us\\n\\nSubscribe to our Mailing List\\n\\nProducts\\n\\nLanguage Studio\\n\\nMedia Studio\\n\\nServices\\n\\nCustom MT Engines\\n\\nCustom Workflows\\n\\nConsulting\\n\\nMachine Translation\\n\\nMachine Translation Overview\\n\\nDetailed Features\\n\\nIndustry Domain MT Engines\\n\\nCustom MT Engines\\n\\nData Creation Tools\\n\\nWays to Translate\\n\\nHybrid NMT/SMT Engines\\n\\nHuman Language Technology (HLT)\\n\\nArtificial Intelligence & Machine Learning\\n\\nState-of-the-Art Machine Translation\\n\\nNeural Machine Translation (NMT)\\n\\nStatistical Machine Translation (SMT)\\n\\nHybrid Deep NMT/SMT\\n\\nMachine Translation Engine Training\\n\\nData Synthesis, and Data Creation', metadata={'source': 'omniscien.com/blog/the-omniscien-advantage-we-wrote-the-book/index.html'})]"
      ]
     },
     "execution_count": 13,
     "metadata": {},
     "output_type": "execute_result"
    }
   ],
   "source": [
    "query = \"Which book are Philipp writing?\"\n",
    "docs = db_gte.similarity_search(query, k = 10)\n",
    "docs"
   ]
  },
  {
   "cell_type": "markdown",
   "metadata": {},
   "source": [
    "#  e5-base"
   ]
  },
  {
   "cell_type": "code",
   "execution_count": 14,
   "metadata": {},
   "outputs": [
    {
     "name": "stderr",
     "output_type": "stream",
     "text": [
      "Downloading (…)06d6a/.gitattributes: 100%|██████████| 1.48k/1.48k [00:00<00:00, 2.80MB/s]\n",
      "Downloading (…)_Pooling/config.json: 100%|██████████| 200/200 [00:00<00:00, 335kB/s]\n",
      "Downloading (…)20b0006d6a/README.md: 100%|██████████| 67.6k/67.6k [00:00<00:00, 286kB/s]\n",
      "Downloading (…)b0006d6a/config.json: 100%|██████████| 645/645 [00:00<00:00, 1.03MB/s]\n",
      "Downloading model.safetensors: 100%|██████████| 438M/438M [02:30<00:00, 2.91MB/s] \n",
      "Downloading pytorch_model.bin: 100%|██████████| 438M/438M [02:22<00:00, 3.06MB/s] \n",
      "Downloading (…)nce_bert_config.json: 100%|██████████| 57.0/57.0 [00:00<00:00, 75.3kB/s]\n",
      "Downloading (…)cial_tokens_map.json: 100%|██████████| 112/112 [00:00<00:00, 131kB/s]\n",
      "Downloading (…)06d6a/tokenizer.json: 100%|██████████| 466k/466k [00:00<00:00, 931kB/s]\n",
      "Downloading (…)okenizer_config.json: 100%|██████████| 356/356 [00:00<00:00, 558kB/s]\n",
      "Downloading (…)20b0006d6a/vocab.txt: 100%|██████████| 232k/232k [00:00<00:00, 4.79MB/s]\n",
      "Downloading (…)0006d6a/modules.json: 100%|██████████| 387/387 [00:00<00:00, 457kB/s]\n"
     ]
    }
   ],
   "source": [
    "embeddings = HuggingFaceEmbeddings(model_name = \"intfloat/e5-base\",\n",
    "                                model_kwargs = {'device': 'cpu'})\n",
    "db_gte = FAISS.from_documents(sp_docs, embeddings)"
   ]
  },
  {
   "cell_type": "code",
   "execution_count": 15,
   "metadata": {},
   "outputs": [
    {
     "data": {
      "text/plain": [
       "[Document(page_content='To find a way to address that problem, we flew in Philipp Koehn to introduce him to our concepts and ideas. Philipp at the time was a promising researcher in Statistical Machine Translation (SMT) and recently created a large corpus of bilingual content derived from European Parliament documents and had just released the first version of the Moses SMT decoder which in the meantime has become the de-facto platform for SMT. Soon after, Philipp joined our team as Chief Scientist and has been driving research and development efforts ever since. Philipp joining the team gave us the in-depth knowledge of MT that few had at the time and allowed us to stay ahead of the competition from a technical perspective. While Philipp was the father of the Moses decoder, his Master’s thesis in the 1990’s was on Neural Networks before they become practical for machine translation.', metadata={'source': 'omniscien.com/blog/riding-machine-translation-hype-cycle/index.html'}),\n",
       " Document(page_content='Dion was a founder of The ActiveX Factory, where he was the recipient of the Chairman’s Commendation Award presented by Microsoft’s Bill Gates for the best showcase of software developed in the Philippines. The US Government has recognized Dion as being in the top 5% of his field worldwide and he is a former holder of a US O1 Extraordinary Ability Visa.\\n\\nPhilipp Koehn\\n\\nChief Scientist\\n\\nBehind many of the tools design is Omniscien’s Chief Scientist, Professor Philipp Koehn who leads our team of researchers and developers. Philipp is a pioneer in the machine translation space, his books on Statistical Machine Translation and Neural Machine Translation are the leading academic textbooks globally on machine translation. Both books are available now from Amazon.com or leading book stores.', metadata={'source': 'omniscien.com/about-us/company/index.html'}),\n",
       " Document(page_content='Naturally, Omniscien tools and technologies are heavily reliant on high-quality specialized data to power our platform and technologies. Because we understand the importance of high-quality data, the Omniscien team is dedicated to breaking new ground with novel research and approaches to creating, mining, harvesting, synthesizing, and manufacturing data. Omniscien has built a variety of powerful tools for data creation, preparation, and analysis.\\n\\nBehind many of the tools design is Omniscien’s Chief Scientist, Professor Philipp Koehn who leads our team of researchers and developers. Philipp is a pioneer in the machine translation space, his books on Statistical Machine Translation and Neural Machine Translation are the leading academic textbooks globally on machine translation. Both books are available now from Amazon.com or leading book stores.\\n\\nProfessor Philipp Koehn,Chief Scientist,Omniscien Technologies.\\n\\nRelated Links\\n\\nWhat is Rules-Based Machine Translation?', metadata={'source': 'omniscien.com/blog/the-omniscien-advantage-we-wrote-the-book/index.html'}),\n",
       " Document(page_content='Services\\n\\nSolutions\\n\\nTechnology\\n\\nResourcesAbout UsCompanyCareersInternshipsNewsOffice LocationsLegalContact UsFrequently Asked Questions (FAQ)SupportOmniscien BlogWebinarsEvents and ConferencesAI, MT and Language Processing SymposiumCase StudiesTestimonialsIntegrated Solution PartnersTechnology PartnersLanguage Pairs – Machine TranslationSupported Document FormatsWays to TranslateData Security and Privacy\\n\\nSearch\\n\\nThe State of Neural Machine Translation (NMT) by Philipp Koehn', metadata={'source': 'omniscien.com/blog/state-neural-machine-translation-nmt/index.html'}),\n",
       " Document(page_content=\"Join Omniscien's Chief Scientist Professor Philipp Koehn, a leading researcher in the field of AI and MT, along with Dion Wiggins, Omniscien’s CTO, for an hour of information sharing and insights on what 2021 will likely bring. We will look at trends in Neural Machine Translation, Natural Language Processing, Artificial Intelligence, Machine Learning, Data Mining, Text Analytics, and more.\\n\\nWatch the Replay\\n\\n2020 Webinar Week    October 13-14 2020\\n\\nmachine translation,\\n\\nmedia and subtitle processing, and\\n\\nworkflow automation\\n\\nproducts. Currently being finalized and in beta test ahead of their upcoming release, we are excited to announce a series of new products and product updates.\\n\\nJoin the Omniscien team for 3 presentations, including 2 new product preview webinars, and a comprehensive deep dive into the latest advances in data gathering, data synthesis, data cleaning, and best practices for customizing a high-quality translation engine.\", metadata={'source': 'omniscien.com/resources/webinars.html'}),\n",
       " Document(page_content='Services\\n\\nSolutions\\n\\nTechnology\\n\\nResourcesAbout UsCompanyCareersInternshipsNewsOffice LocationsLegalContact UsFrequently Asked Questions (FAQ)SupportOmniscien BlogWebinarsEvents and ConferencesAI, MT and Language Processing SymposiumCase StudiesTestimonialsIntegrated Solution PartnersTechnology PartnersLanguage Pairs – Machine TranslationSupported Document FormatsWays to TranslateData Security and Privacy\\n\\nSearch\\n\\nTestimonials\\n\\nHear what our customers have to say about our products and services.\\n\\nWebinar Review: Rise of the Machines: Balancing Language-Related AI Opportunities and Risks\\n\\nThis was a VERY good webinar! I made a habit of attending one webinar a week and this one really stands out of everything I attended this year.\\n\\nDion & Philip are very complementary. Your warnings were loud and clear, and beyond any doubt true as well. (It’s also what I’ve been telling my team: be careful with whatever you send out to these big companies!)', metadata={'source': 'omniscien.com/testimonials/index.html'}),\n",
       " Document(page_content='Professor Philipp Koehn,  Chief Scientist, Omniscien Technologies\\n\\nTo develop a full featured enterprise class translation platform that addresses the shortcomings of the DIY machine translation approach, Professor Koehn has worked with the Omniscien Technologies team of linguists, researchers and developers for many years to build a translation and language processing solution that is truly innovative – Language Studio. The innovation goes beyond software into the entire process around the customization of a high quality translation engine. This process has been captured in the Clean Data SMT model and is not available as part of any of the DIY machine translation solutions.', metadata={'source': 'omniscien.com/blog/speech-recognition-speech-synthesis-glossary-v-z/faq/what-is-do-it-yourself-machine-translation/index.html'}),\n",
       " Document(page_content='Naturally, Omniscien tools and technologies are heavily reliant on high-quality specialized data to power our platform and technologies. Because we understand the importance of high-quality data, the Omniscien team is dedicated to breaking new ground with novel research and approaches to creating, mining, harvesting, synthesizing, and manufacturing data. Omniscien has built a variety of powerful tools for data creation, preparation, and analysis.\\n\\nBehind many of the tools design is Omniscien’s Chief Scientist, Professor Philipp Koehn who leads our team of researchers and developers. Philipp is a pioneer in the machine translation space, his books on Statistical Machine Translation and Neural Machine Translation are the leading academic textbooks globally on machine translation. Both books are available now from Amazon.com or leading book stores.\\n\\nProfessor Philipp Koehn,Chief Scientist,Omniscien Technologies.\\n\\nState-of-the-Art   Machine Translation', metadata={'source': 'omniscien.com/index.html'}),\n",
       " Document(page_content=\"Watch the Replay\\n\\nApplying New Advances in AI-based Machine Translation to Real World Use Cases\\n\\nThursday, June 17, 2021\\n\\nJoin Omniscien's Chief Scientist Professor Philipp Koehn, a leading researcher in the field of AI and MT, along with Dion Wiggins, Omniscien’s CTO, for 90 minutes of information sharing and insights on what the rest of 2021 and beyond will likely bring. We will look at trends in Neural Machine Translation, Natural Language Processing, Artificial Intelligence, Machine Learning, Data Mining, Text Analytics, and more.\\n\\nThis is a 2-part, 90-minute presentation.\\n\\nPart 1: Exciting Advances and Breakthroughs in AI and MT.\", metadata={'source': 'omniscien.com/resources/webinars.html'}),\n",
       " Document(page_content='As with all machine learning technologies, the right data will deliver better translation quality\\xa0results. Language Studio includes the tools and technologies to process, gather, and synthesize the data needed for training. With sufficient in-domain data\\xa0Neural MT is able to “think” more like the human brain when producing translations. Unlike SMT, this can be in excess of 50 million bilingual sentences as just the starting point. Omniscien provides much of this data, and mines and synthesizes millions of new bilingual sentences for each engine.\\n\\nBehind many of the tools design is Omniscien’s Chief Scientist, Professor Philipp Koehn who leads our team of researchers and developers. Philipp is a pioneer in the machine translation space. His books on Statistical Machine Translation and Neural Machine Translation are the leading academic textbooks globally on machine translation. Both books are available now from Amazon.com or leading book stores.', metadata={'source': 'omniscien.com/faq/what-is-neural-machine-translation/index.html'})]"
      ]
     },
     "execution_count": 15,
     "metadata": {},
     "output_type": "execute_result"
    }
   ],
   "source": [
    "query = \"Which book are Philipp writing?\"\n",
    "docs = db_gte.similarity_search(query, k = 10)\n",
    "docs"
   ]
  },
  {
   "cell_type": "code",
   "execution_count": null,
   "metadata": {},
   "outputs": [],
   "source": []
  }
 ],
 "metadata": {
  "kernelspec": {
   "display_name": "lang-lama",
   "language": "python",
   "name": "python3"
  },
  "language_info": {
   "codemirror_mode": {
    "name": "ipython",
    "version": 3
   },
   "file_extension": ".py",
   "mimetype": "text/x-python",
   "name": "python",
   "nbconvert_exporter": "python",
   "pygments_lexer": "ipython3",
   "version": "3.9.16"
  },
  "orig_nbformat": 4
 },
 "nbformat": 4,
 "nbformat_minor": 2
}
