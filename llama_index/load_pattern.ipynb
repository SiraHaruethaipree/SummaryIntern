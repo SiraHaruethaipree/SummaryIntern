{
 "cells": [
  {
   "cell_type": "markdown",
   "metadata": {},
   "source": [
    "# Import library"
   ]
  },
  {
   "cell_type": "code",
   "execution_count": 123,
   "metadata": {},
   "outputs": [],
   "source": [
    "from llama_index import(\n",
    "    GPTVectorStoreIndex,\n",
    "    ServiceContext,\n",
    "    LLMPredictor,\n",
    "    PromptHelper,\n",
    "    Document,\n",
    "    VectorStoreIndex,\n",
    "    LangchainEmbedding,\n",
    "    StorageContext,\n",
    "    load_index_from_storage,\n",
    "    )\n",
    "\n",
    "\n",
    "from langchain import OpenAI\n",
    "from langchain.docstore.document import Document as LangchainDocument\n",
    "from llama_index.node_parser import SimpleNodeParser\n",
    "\n",
    "#scrap website\n",
    "from bs4 import BeautifulSoup\n",
    "import requests\n",
    "\n",
    "# upload model \n",
    "from langchain.llms import LlamaCpp\n",
    "from langchain.callbacks.manager import CallbackManager\n",
    "from llama_index.llms import LangChainLLM\n",
    "from langchain.callbacks.streaming_stdout import StreamingStdOutCallbackHandler\n",
    "from langchain.embeddings.huggingface import HuggingFaceEmbeddings\n"
   ]
  },
  {
   "cell_type": "markdown",
   "metadata": {},
   "source": [
    "# Scrap entire website "
   ]
  },
  {
   "cell_type": "markdown",
   "metadata": {},
   "source": [
    "All of function base on : https://www.youtube.com/watch?v=XJRoDEctAwA"
   ]
  },
  {
   "cell_type": "code",
   "execution_count": 124,
   "metadata": {},
   "outputs": [],
   "source": [
    "def scrape(site):\n",
    "    urls = []\n",
    "    \n",
    "    def scrape_helper(current_site):\n",
    "        nonlocal urls\n",
    "\n",
    "        r = requests.get(current_site)\n",
    "\n",
    "        s = BeautifulSoup(r.text, \"html.parser\")\n",
    "        #print(s.find_all(\"a\"))\n",
    "        for i in s.find_all(\"a\"):\n",
    "            if \"href\" in i.attrs:\n",
    "                href = i.attrs[\"href\"]\n",
    "\n",
    "                if href.startswith(\"/\") or href.startswith('#'):\n",
    "                    full_url = site + href\n",
    "\n",
    "                    if full_url not in urls:\n",
    "                        urls.append(full_url)\n",
    "                        scrape_helper(full_url)\n",
    "    scrape_helper(site)\n",
    "    return urls"
   ]
  },
  {
   "cell_type": "markdown",
   "metadata": {},
   "source": [
    "guide process : https://gpt-index.readthedocs.io/en/latest/end_to_end_tutorials/usage_pattern.html\n",
    "\n",
    "load local model integrate with langchain : https://gpt-index.readthedocs.io/en/latest/examples/llm/langchain.html,    https://python.langchain.com/docs/modules/model_io/models/llms/integrations/llamacpp\n",
    "\n",
    "exceed context window of 512 : https://github.com/hwchase17/langchain/issues/3751\n"
   ]
  },
  {
   "cell_type": "code",
   "execution_count": 125,
   "metadata": {},
   "outputs": [],
   "source": [
    "def load_llm(model_path):\n",
    "    callback_manager = CallbackManager([StreamingStdOutCallbackHandler()])\n",
    "    llm_langchain = LlamaCpp(\n",
    "    model_path= model_path, \n",
    "    callback_manager=callback_manager, \n",
    "    verbose=True, \n",
    "    n_ctx=2048) #define n-ctx for prevent exceed token error\n",
    "    llm = LangChainLLM(llm=llm_langchain)\n",
    "    return llm"
   ]
  },
  {
   "cell_type": "markdown",
   "metadata": {},
   "source": [
    "Crate index and asking question : https://colab.research.google.com/drive/16QMQePkONNlDpgiltOi7oRQgmB8dU5fl?usp=sharing#scrollTo=5be63ef4"
   ]
  },
  {
   "cell_type": "code",
   "execution_count": 127,
   "metadata": {},
   "outputs": [],
   "source": [
    "from llama_index import download_loader\n",
    "url = \"https://anaconda.org/conda-forge/attrs\"\n",
    "urls = scrape(url)\n",
    "BeautifulSoupWebReader = download_loader(\"BeautifulSoupWebReader\")\n",
    "loader = BeautifulSoupWebReader()\n",
    "documents = loader.load_data(urls)\n",
    "parser = SimpleNodeParser()\n",
    "\n",
    "nodes = parser.get_nodes_from_documents(documents)"
   ]
  },
  {
   "cell_type": "code",
   "execution_count": 128,
   "metadata": {},
   "outputs": [
    {
     "data": {
      "text/plain": [
       "[Document(id_='9b01fdfc-4171-4911-aa0f-5072043c80ec', embedding=None, metadata={'URL': 'https://anaconda.org/conda-forge/attrs/'}, excluded_embed_metadata_keys=[], excluded_llm_metadata_keys=[], relationships={}, hash='a46355b6ba70c9057dbb1b051fa8c6a0b433d05f69ba08d3b40ab8f0c01e0795', text='\\n\\n\\n\\n\\n\\n :: Anaconda.org\\n\\n\\n\\n\\n\\n\\n\\n\\n\\n\\n\\n\\n\\n\\n\\n\\n\\n\\n\\n\\n\\nMenu\\n\\n\\n\\n\\n\\n\\n\\n\\n\\n\\n\\n\\n\\n\\n\\n\\n\\nGallery\\nAbout\\nAnaconda\\nHelp\\nDownload Anaconda\\n\\n\\nSign In\\n\\n\\n\\n\\n\\n\\n\\n\\n\\n\\n\\n\\n\\n\\n\\n\\n        conda-forge\\n      \\n      /\\n      \\n        \\n          packages\\n        \\n      \\n      /\\n      \\nattrs\\n\\n23.1.0\\n\\n\\n\\n\\n\\n\\n\\n\\n\\n\\n\\n\\n\\n\\n\\n\\n\\n\\n\\n\\n\\n\\n\\n\\n\\n\\n              3\\n            \\n\\n\\n\\n\\n\\n\\n\\n\\nattrs is the Python package that will bring back the joy of writing classes by relieving you from the drudgery of implementing object protocols (aka dunder methods).\\n\\n\\n\\n\\n\\n\\n\\n\\n            \\n            Conda\\n            \\n          \\n\\nFiles\\nLabels\\nBadges\\n\\n\\n\\n\\n\\n\\n\\n\\n\\n\\n              License: MIT\\n\\n\\n\\n              Home: https://attrs.readthedocs.io/en/stable/\\n\\n\\n\\n              Development: https://github.com/python-attrs/attrs\\n\\n\\n\\n              Documentation: https://attrs.readthedocs.io/en/stable/\\n\\n\\n\\n29557003 total downloads\\n        \\n\\n\\n          Last upload: 2 months and 6 days ago\\n        \\n\\n\\n\\n\\nInstallers\\n\\n\\n\\nInfo: This package contains files in non-standard\\n          labels.\\n        \\n\\n\\n\\n\\n\\n    \\n linux-64\\nv17.2.0\\n\\n\\n\\n\\n    \\n win-32\\nv17.2.0\\n\\n\\n\\n\\n\\n\\n    \\n noarch\\nv23.1.0\\n\\n\\n\\n\\n    \\n win-64\\nv17.2.0\\n\\n\\n\\n\\n    \\n osx-64\\nv17.2.0\\n\\n\\nconda install\\n        \\n\\n\\n\\n    \\n        To install this package run one of the following:\\nconda install -c conda-forge attrsconda install -c \"conda-forge/label/broken\" attrsconda install -c \"conda-forge/label/cf201901\" attrsconda install -c \"conda-forge/label/cf202003\" attrsconda install -c \"conda-forge/label/gcc7\" attrs\\n\\n\\n\\n\\nDescription\\nattrs is the Python package that will bring back the joy of writing\\nclasses by relieving you from the drudgery of implementing object\\nprotocols (aka dunder methods). Its main goal is to help you to write\\nconcise and correct software without slowing down your code. For that, it\\ngives you a class decorator and a way to declaratively define the\\nattributes on that class:\\n\\n\\n\\n\\n\\n\\n\\n\\n\\n\\nBy data scientists, for data scientists\\n\\n\\n\\n\\n\\n\\n\\n\\n\\n\\n\\n\\n\\n\\n\\n\\n\\n\\n\\n\\n\\n\\nANACONDA\\n\\nAbout Us\\nAnaconda Cloud\\nDownload Anaconda\\n\\n\\n\\nANACONDA.ORG\\n\\nAbout\\nGallery\\nDocumentation\\nSupport\\n\\n\\n\\nCOMMUNITY\\n\\nOpen Source\\nNumFOCUS\\nconda-forge\\nBlog\\n\\n\\n\\n\\n\\n\\n\\n\\n\\n© 2023 Anaconda, Inc. All Rights Reserved. (v2.37.6 91632187)\\n\\nLegal\\n          |\\n          Privacy Policy\\n\\n\\n\\n\\n\\n\\n\\n\\n\\n\\n\\n\\n', start_char_idx=None, end_char_idx=None, text_template='{metadata_str}\\n\\n{content}', metadata_template='{key}: {value}', metadata_seperator='\\n'),\n",
       " Document(id_='cfd3d0f3-0d0d-4afc-92c5-09584f2a3958', embedding=None, metadata={'URL': 'https://anaconda.org/conda-forge/attrs#'}, excluded_embed_metadata_keys=[], excluded_llm_metadata_keys=[], relationships={}, hash='06b90e54542e16fe8d5413816f3845a5dbd79ede9475c512ce491ca6ea9aedc7', text='\\n\\n\\n\\n\\n\\nAttrs :: Anaconda.org\\n\\n\\n\\n\\n\\n\\n\\n\\n\\n\\n\\n\\n\\n\\n\\n\\n\\n\\n\\n\\n\\nMenu\\n\\n\\n\\n\\n\\n\\n\\n\\n\\n\\n\\n\\n\\n\\n\\n\\n\\nGallery\\nAbout\\nAnaconda\\nHelp\\nDownload Anaconda\\n\\n\\nSign In\\n\\n\\n\\n\\n\\n\\n\\n\\n\\n\\n\\n\\n\\n\\n\\n\\n        conda-forge\\n      \\n      /\\n      \\n        \\n          packages\\n        \\n      \\n      /\\n      \\nattrs\\n\\n23.1.0\\n\\n\\n\\n\\n\\n\\n\\n\\n\\n\\n\\n\\n\\n\\n\\n\\n\\n\\n\\n\\n\\n\\n\\n\\n\\n\\n              3\\n            \\n\\n\\n\\n\\n\\n\\n\\n\\nattrs is the Python package that will bring back the joy of writing classes by relieving you from the drudgery of implementing object protocols (aka dunder methods).\\n\\n\\n\\n\\n\\n\\n\\n\\n            \\n            Conda\\n            \\n          \\n\\nFiles\\nLabels\\nBadges\\n\\n\\n\\n\\n\\n\\n\\n\\n\\n\\n              License: MIT\\n\\n\\n\\n              Home: https://attrs.readthedocs.io/en/stable/\\n\\n\\n\\n              Development: https://github.com/python-attrs/attrs\\n\\n\\n\\n              Documentation: https://attrs.readthedocs.io/en/stable/\\n\\n\\n\\n29557003 total downloads\\n        \\n\\n\\n          Last upload: 2 months and 6 days ago\\n        \\n\\n\\n\\n\\nInstallers\\n\\n\\n\\nInfo: This package contains files in non-standard\\n          labels.\\n        \\n\\n\\n\\n\\n\\n    \\n linux-64\\nv17.2.0\\n\\n\\n\\n\\n    \\n win-32\\nv17.2.0\\n\\n\\n\\n\\n\\n\\n    \\n noarch\\nv23.1.0\\n\\n\\n\\n\\n    \\n win-64\\nv17.2.0\\n\\n\\n\\n\\n    \\n osx-64\\nv17.2.0\\n\\n\\nconda install\\n        \\n\\n\\n\\n    \\n        To install this package run one of the following:\\nconda install -c conda-forge attrsconda install -c \"conda-forge/label/broken\" attrsconda install -c \"conda-forge/label/cf201901\" attrsconda install -c \"conda-forge/label/cf202003\" attrsconda install -c \"conda-forge/label/gcc7\" attrs\\n\\n\\n\\n\\nDescription\\nattrs is the Python package that will bring back the joy of writing\\nclasses by relieving you from the drudgery of implementing object\\nprotocols (aka dunder methods). Its main goal is to help you to write\\nconcise and correct software without slowing down your code. For that, it\\ngives you a class decorator and a way to declaratively define the\\nattributes on that class:\\n\\n\\n\\n\\n\\n\\n\\n\\n\\n\\nBy data scientists, for data scientists\\n\\n\\n\\n\\n\\n\\n\\n\\n\\n\\n\\n\\n\\n\\n\\n\\n\\n\\n\\n\\n\\n\\nANACONDA\\n\\nAbout Us\\nAnaconda Cloud\\nDownload Anaconda\\n\\n\\n\\nANACONDA.ORG\\n\\nAbout\\nGallery\\nDocumentation\\nSupport\\n\\n\\n\\nCOMMUNITY\\n\\nOpen Source\\nNumFOCUS\\nconda-forge\\nBlog\\n\\n\\n\\n\\n\\n\\n\\n\\n\\n© 2023 Anaconda, Inc. All Rights Reserved. (v2.37.6 d699528b)\\n\\nLegal\\n          |\\n          Privacy Policy\\n\\n\\n\\n\\n\\n\\n\\n\\n\\n\\n\\n\\n', start_char_idx=None, end_char_idx=None, text_template='{metadata_str}\\n\\n{content}', metadata_template='{key}: {value}', metadata_seperator='\\n'),\n",
       " Document(id_='089609c6-1698-4dda-9836-beec638bb789', embedding=None, metadata={'URL': 'https://anaconda.org/conda-forge/attrs/gallery'}, excluded_embed_metadata_keys=[], excluded_llm_metadata_keys=[], relationships={}, hash='e3c55a4053b91b590f90ec1097aad11cebd56de30b690b4840b48b4d2e9746b5', text='\\n\\n\\n\\n\\nNot Found :: Anaconda.org\\n\\n\\n\\n\\n\\n\\n\\n\\n\\n\\n\\n\\n\\n\\n\\n\\n\\n\\n\\n\\n\\nMenu\\n\\n\\n\\n\\n\\n\\n\\n\\n\\n\\n\\n\\n\\n\\n\\n\\n\\nGallery\\nAbout\\nAnaconda\\nHelp\\nDownload Anaconda\\n\\n\\nSign In\\n\\n\\n\\n\\n\\n\\n\\n\\n\\n\\n\\n\\n\\n\\n\\n\\nThe page you are looking for does not exist.\\n\\n\\n\\n\\n\\n\\n\\nLog In\\n\\n\\n\\nI forgot my password.\\n\\nRegister for an account\\n\\n\\n\\n\\n\\n\\n\\n\\n\\n\\n\\nBy data scientists, for data scientists\\n\\n\\n\\n\\n\\n\\n\\n\\n\\n\\n\\n\\n\\n\\n\\n\\n\\n\\n\\n\\n\\n\\nANACONDA\\n\\nAbout Us\\nAnaconda Cloud\\nDownload Anaconda\\n\\n\\n\\nANACONDA.ORG\\n\\nAbout\\nGallery\\nDocumentation\\nSupport\\n\\n\\n\\nCOMMUNITY\\n\\nOpen Source\\nNumFOCUS\\nconda-forge\\nBlog\\n\\n\\n\\n\\n\\n\\n\\n\\n\\n© 2023 Anaconda, Inc. All Rights Reserved. (v2.37.6 d699528b)\\n\\nLegal\\n          |\\n          Privacy Policy\\n\\n\\n\\n\\n\\n\\n\\n\\n\\n\\n\\n', start_char_idx=None, end_char_idx=None, text_template='{metadata_str}\\n\\n{content}', metadata_template='{key}: {value}', metadata_seperator='\\n'),\n",
       " Document(id_='b178c327-53a5-4843-97d3-437dd369c76d', embedding=None, metadata={'URL': 'https://anaconda.org/conda-forge/attrs/account/forgot_password'}, excluded_embed_metadata_keys=[], excluded_llm_metadata_keys=[], relationships={}, hash='4dc1a701118f626d030f442a1f87a0aedee5f348c446a47236aefa64fc9ffd26', text='\\n\\n\\n\\n\\nNot Found :: Anaconda.org\\n\\n\\n\\n\\n\\n\\n\\n\\n\\n\\n\\n\\n\\n\\n\\n\\n\\n\\n\\n\\n\\nMenu\\n\\n\\n\\n\\n\\n\\n\\n\\n\\n\\n\\n\\n\\n\\n\\n\\n\\nGallery\\nAbout\\nAnaconda\\nHelp\\nDownload Anaconda\\n\\n\\nSign In\\n\\n\\n\\n\\n\\n\\n\\n\\n\\n\\n\\n\\n\\n\\n\\n\\nThe page you are looking for does not exist.\\n\\n\\n\\n\\n\\n\\n\\nLog In\\n\\n\\n\\nI forgot my password.\\n\\nRegister for an account\\n\\n\\n\\n\\n\\n\\n\\n\\n\\n\\n\\nBy data scientists, for data scientists\\n\\n\\n\\n\\n\\n\\n\\n\\n\\n\\n\\n\\n\\n\\n\\n\\n\\n\\n\\n\\n\\n\\nANACONDA\\n\\nAbout Us\\nAnaconda Cloud\\nDownload Anaconda\\n\\n\\n\\nANACONDA.ORG\\n\\nAbout\\nGallery\\nDocumentation\\nSupport\\n\\n\\n\\nCOMMUNITY\\n\\nOpen Source\\nNumFOCUS\\nconda-forge\\nBlog\\n\\n\\n\\n\\n\\n\\n\\n\\n\\n© 2023 Anaconda, Inc. All Rights Reserved. (v2.37.6 8f699865)\\n\\nLegal\\n          |\\n          Privacy Policy\\n\\n\\n\\n\\n\\n\\n\\n\\n\\n\\n\\n', start_char_idx=None, end_char_idx=None, text_template='{metadata_str}\\n\\n{content}', metadata_template='{key}: {value}', metadata_seperator='\\n'),\n",
       " Document(id_='b78bd101-d3d3-4e42-be7f-0f8f6ce0a9e0', embedding=None, metadata={'URL': 'https://anaconda.org/conda-forge/attrs/account/register'}, excluded_embed_metadata_keys=[], excluded_llm_metadata_keys=[], relationships={}, hash='b192ce7c6a6e582e03233ddc7c906ab767ffb058f3e378b131c194cb7f1c26ba', text='\\n\\n\\n\\n\\nNot Found :: Anaconda.org\\n\\n\\n\\n\\n\\n\\n\\n\\n\\n\\n\\n\\n\\n\\n\\n\\n\\n\\n\\n\\n\\nMenu\\n\\n\\n\\n\\n\\n\\n\\n\\n\\n\\n\\n\\n\\n\\n\\n\\n\\nGallery\\nAbout\\nAnaconda\\nHelp\\nDownload Anaconda\\n\\n\\nSign In\\n\\n\\n\\n\\n\\n\\n\\n\\n\\n\\n\\n\\n\\n\\n\\n\\nThe page you are looking for does not exist.\\n\\n\\n\\n\\n\\n\\n\\nLog In\\n\\n\\n\\nI forgot my password.\\n\\nRegister for an account\\n\\n\\n\\n\\n\\n\\n\\n\\n\\n\\n\\nBy data scientists, for data scientists\\n\\n\\n\\n\\n\\n\\n\\n\\n\\n\\n\\n\\n\\n\\n\\n\\n\\n\\n\\n\\n\\n\\nANACONDA\\n\\nAbout Us\\nAnaconda Cloud\\nDownload Anaconda\\n\\n\\n\\nANACONDA.ORG\\n\\nAbout\\nGallery\\nDocumentation\\nSupport\\n\\n\\n\\nCOMMUNITY\\n\\nOpen Source\\nNumFOCUS\\nconda-forge\\nBlog\\n\\n\\n\\n\\n\\n\\n\\n\\n\\n© 2023 Anaconda, Inc. All Rights Reserved. (v2.37.6 8f699865)\\n\\nLegal\\n          |\\n          Privacy Policy\\n\\n\\n\\n\\n\\n\\n\\n\\n\\n\\n\\n', start_char_idx=None, end_char_idx=None, text_template='{metadata_str}\\n\\n{content}', metadata_template='{key}: {value}', metadata_seperator='\\n'),\n",
       " Document(id_='eeb2c83c-138a-4e57-b889-a3c595bd9eeb', embedding=None, metadata={'URL': 'https://anaconda.org/conda-forge/attrs/conda-forge'}, excluded_embed_metadata_keys=[], excluded_llm_metadata_keys=[], relationships={}, hash='88baa8a5c92ef21dd975324aa683890cda598e690ff36163dd05d5d967a13ada', text='\\n\\n\\n\\n\\nNot Found :: Anaconda.org\\n\\n\\n\\n\\n\\n\\n\\n\\n\\n\\n\\n\\n\\n\\n\\n\\n\\n\\n\\n\\n\\nMenu\\n\\n\\n\\n\\n\\n\\n\\n\\n\\n\\n\\n\\n\\n\\n\\n\\n\\nGallery\\nAbout\\nAnaconda\\nHelp\\nDownload Anaconda\\n\\n\\nSign In\\n\\n\\n\\n\\n\\n\\n\\n\\n\\n\\n\\n\\n\\n\\n\\n\\nThe page you are looking for does not exist.\\n\\n\\n\\n\\n\\n\\n\\nLog In\\n\\n\\n\\nI forgot my password.\\n\\nRegister for an account\\n\\n\\n\\n\\n\\n\\n\\n\\n\\n\\n\\nBy data scientists, for data scientists\\n\\n\\n\\n\\n\\n\\n\\n\\n\\n\\n\\n\\n\\n\\n\\n\\n\\n\\n\\n\\n\\n\\nANACONDA\\n\\nAbout Us\\nAnaconda Cloud\\nDownload Anaconda\\n\\n\\n\\nANACONDA.ORG\\n\\nAbout\\nGallery\\nDocumentation\\nSupport\\n\\n\\n\\nCOMMUNITY\\n\\nOpen Source\\nNumFOCUS\\nconda-forge\\nBlog\\n\\n\\n\\n\\n\\n\\n\\n\\n\\n© 2023 Anaconda, Inc. All Rights Reserved. (v2.37.6 8f699865)\\n\\nLegal\\n          |\\n          Privacy Policy\\n\\n\\n\\n\\n\\n\\n\\n\\n\\n\\n\\n', start_char_idx=None, end_char_idx=None, text_template='{metadata_str}\\n\\n{content}', metadata_template='{key}: {value}', metadata_seperator='\\n'),\n",
       " Document(id_='eb6687ae-3017-49e9-aa3e-0dc82a7cd8af', embedding=None, metadata={'URL': 'https://anaconda.org/conda-forge/attrs/conda-forge/repo'}, excluded_embed_metadata_keys=[], excluded_llm_metadata_keys=[], relationships={}, hash='4859eaedf4716eaa949a757a556173143319d714222bba6c04505e3f169afcbe', text='\\n\\n\\n\\n\\nNot Found :: Anaconda.org\\n\\n\\n\\n\\n\\n\\n\\n\\n\\n\\n\\n\\n\\n\\n\\n\\n\\n\\n\\n\\n\\nMenu\\n\\n\\n\\n\\n\\n\\n\\n\\n\\n\\n\\n\\n\\n\\n\\n\\n\\nGallery\\nAbout\\nAnaconda\\nHelp\\nDownload Anaconda\\n\\n\\nSign In\\n\\n\\n\\n\\n\\n\\n\\n\\n\\n\\n\\n\\n\\n\\n\\n\\nThe page you are looking for does not exist.\\n\\n\\n\\n\\n\\n\\n\\nLog In\\n\\n\\n\\nI forgot my password.\\n\\nRegister for an account\\n\\n\\n\\n\\n\\n\\n\\n\\n\\n\\n\\nBy data scientists, for data scientists\\n\\n\\n\\n\\n\\n\\n\\n\\n\\n\\n\\n\\n\\n\\n\\n\\n\\n\\n\\n\\n\\n\\nANACONDA\\n\\nAbout Us\\nAnaconda Cloud\\nDownload Anaconda\\n\\n\\n\\nANACONDA.ORG\\n\\nAbout\\nGallery\\nDocumentation\\nSupport\\n\\n\\n\\nCOMMUNITY\\n\\nOpen Source\\nNumFOCUS\\nconda-forge\\nBlog\\n\\n\\n\\n\\n\\n\\n\\n\\n\\n© 2023 Anaconda, Inc. All Rights Reserved. (v2.37.6 c870375b)\\n\\nLegal\\n          |\\n          Privacy Policy\\n\\n\\n\\n\\n\\n\\n\\n\\n\\n\\n\\n', start_char_idx=None, end_char_idx=None, text_template='{metadata_str}\\n\\n{content}', metadata_template='{key}: {value}', metadata_seperator='\\n'),\n",
       " Document(id_='d1615e22-3047-48be-8d2e-59b81cd0bc11', embedding=None, metadata={'URL': 'https://anaconda.org/conda-forge/attrs/conda-forge/attrs/favorites'}, excluded_embed_metadata_keys=[], excluded_llm_metadata_keys=[], relationships={}, hash='857094d1772864639896bece7fcccef12561c64265756dde202a44680a11a1c2', text='\\n\\n\\n\\n\\nNot Found :: Anaconda.org\\n\\n\\n\\n\\n\\n\\n\\n\\n\\n\\n\\n\\n\\n\\n\\n\\n\\n\\n\\n\\n\\nMenu\\n\\n\\n\\n\\n\\n\\n\\n\\n\\n\\n\\n\\n\\n\\n\\n\\n\\nGallery\\nAbout\\nAnaconda\\nHelp\\nDownload Anaconda\\n\\n\\nSign In\\n\\n\\n\\n\\n\\n\\n\\n\\n\\n\\n\\n\\n\\n\\n\\n\\nThe page you are looking for does not exist.\\n\\n\\n\\n\\n\\n\\n\\nLog In\\n\\n\\n\\nI forgot my password.\\n\\nRegister for an account\\n\\n\\n\\n\\n\\n\\n\\n\\n\\n\\n\\nBy data scientists, for data scientists\\n\\n\\n\\n\\n\\n\\n\\n\\n\\n\\n\\n\\n\\n\\n\\n\\n\\n\\n\\n\\n\\n\\nANACONDA\\n\\nAbout Us\\nAnaconda Cloud\\nDownload Anaconda\\n\\n\\n\\nANACONDA.ORG\\n\\nAbout\\nGallery\\nDocumentation\\nSupport\\n\\n\\n\\nCOMMUNITY\\n\\nOpen Source\\nNumFOCUS\\nconda-forge\\nBlog\\n\\n\\n\\n\\n\\n\\n\\n\\n\\n© 2023 Anaconda, Inc. All Rights Reserved. (v2.37.6 91632187)\\n\\nLegal\\n          |\\n          Privacy Policy\\n\\n\\n\\n\\n\\n\\n\\n\\n\\n\\n\\n', start_char_idx=None, end_char_idx=None, text_template='{metadata_str}\\n\\n{content}', metadata_template='{key}: {value}', metadata_seperator='\\n'),\n",
       " Document(id_='5dddc87a-4291-4938-82a4-544b21ea0c7a', embedding=None, metadata={'URL': 'https://anaconda.org/conda-forge/attrs/conda-forge/attrs'}, excluded_embed_metadata_keys=[], excluded_llm_metadata_keys=[], relationships={}, hash='f5850e9376600a6920c4e3cb3874c5055c63f55b80ce7fab8e256ac79a70d5a0', text='\\n\\n\\n\\n\\nNot Found :: Anaconda.org\\n\\n\\n\\n\\n\\n\\n\\n\\n\\n\\n\\n\\n\\n\\n\\n\\n\\n\\n\\n\\n\\nMenu\\n\\n\\n\\n\\n\\n\\n\\n\\n\\n\\n\\n\\n\\n\\n\\n\\n\\nGallery\\nAbout\\nAnaconda\\nHelp\\nDownload Anaconda\\n\\n\\nSign In\\n\\n\\n\\n\\n\\n\\n\\n\\n\\n\\n\\n\\n\\n\\n\\n\\nThe page you are looking for does not exist.\\n\\n\\n\\n\\n\\n\\n\\nLog In\\n\\n\\n\\nI forgot my password.\\n\\nRegister for an account\\n\\n\\n\\n\\n\\n\\n\\n\\n\\n\\n\\nBy data scientists, for data scientists\\n\\n\\n\\n\\n\\n\\n\\n\\n\\n\\n\\n\\n\\n\\n\\n\\n\\n\\n\\n\\n\\n\\nANACONDA\\n\\nAbout Us\\nAnaconda Cloud\\nDownload Anaconda\\n\\n\\n\\nANACONDA.ORG\\n\\nAbout\\nGallery\\nDocumentation\\nSupport\\n\\n\\n\\nCOMMUNITY\\n\\nOpen Source\\nNumFOCUS\\nconda-forge\\nBlog\\n\\n\\n\\n\\n\\n\\n\\n\\n\\n© 2023 Anaconda, Inc. All Rights Reserved. (v2.37.6 91632187)\\n\\nLegal\\n          |\\n          Privacy Policy\\n\\n\\n\\n\\n\\n\\n\\n\\n\\n\\n\\n', start_char_idx=None, end_char_idx=None, text_template='{metadata_str}\\n\\n{content}', metadata_template='{key}: {value}', metadata_seperator='\\n'),\n",
       " Document(id_='6712127d-63fb-40cf-abe6-0ab83d1d5484', embedding=None, metadata={'URL': 'https://anaconda.org/conda-forge/attrs/conda-forge/attrs/files'}, excluded_embed_metadata_keys=[], excluded_llm_metadata_keys=[], relationships={}, hash='e2edbd41a4fc6959d775806ecaa8a1c8f65a1bf2ba0f99a94ce8444cd3e03f16', text='\\n\\n\\n\\n\\nNot Found :: Anaconda.org\\n\\n\\n\\n\\n\\n\\n\\n\\n\\n\\n\\n\\n\\n\\n\\n\\n\\n\\n\\n\\n\\nMenu\\n\\n\\n\\n\\n\\n\\n\\n\\n\\n\\n\\n\\n\\n\\n\\n\\n\\nGallery\\nAbout\\nAnaconda\\nHelp\\nDownload Anaconda\\n\\n\\nSign In\\n\\n\\n\\n\\n\\n\\n\\n\\n\\n\\n\\n\\n\\n\\n\\n\\nThe page you are looking for does not exist.\\n\\n\\n\\n\\n\\n\\n\\nLog In\\n\\n\\n\\nI forgot my password.\\n\\nRegister for an account\\n\\n\\n\\n\\n\\n\\n\\n\\n\\n\\n\\nBy data scientists, for data scientists\\n\\n\\n\\n\\n\\n\\n\\n\\n\\n\\n\\n\\n\\n\\n\\n\\n\\n\\n\\n\\n\\n\\nANACONDA\\n\\nAbout Us\\nAnaconda Cloud\\nDownload Anaconda\\n\\n\\n\\nANACONDA.ORG\\n\\nAbout\\nGallery\\nDocumentation\\nSupport\\n\\n\\n\\nCOMMUNITY\\n\\nOpen Source\\nNumFOCUS\\nconda-forge\\nBlog\\n\\n\\n\\n\\n\\n\\n\\n\\n\\n© 2023 Anaconda, Inc. All Rights Reserved. (v2.37.6 d699528b)\\n\\nLegal\\n          |\\n          Privacy Policy\\n\\n\\n\\n\\n\\n\\n\\n\\n\\n\\n\\n', start_char_idx=None, end_char_idx=None, text_template='{metadata_str}\\n\\n{content}', metadata_template='{key}: {value}', metadata_seperator='\\n'),\n",
       " Document(id_='eebac1e3-0283-40c8-9676-45d05a8af4b0', embedding=None, metadata={'URL': 'https://anaconda.org/conda-forge/attrs/conda-forge/attrs/labels'}, excluded_embed_metadata_keys=[], excluded_llm_metadata_keys=[], relationships={}, hash='97953052109542e4a1e771eebdfade73988bc182e2090b78340e881e08e12e91', text='\\n\\n\\n\\n\\nNot Found :: Anaconda.org\\n\\n\\n\\n\\n\\n\\n\\n\\n\\n\\n\\n\\n\\n\\n\\n\\n\\n\\n\\n\\n\\nMenu\\n\\n\\n\\n\\n\\n\\n\\n\\n\\n\\n\\n\\n\\n\\n\\n\\n\\nGallery\\nAbout\\nAnaconda\\nHelp\\nDownload Anaconda\\n\\n\\nSign In\\n\\n\\n\\n\\n\\n\\n\\n\\n\\n\\n\\n\\n\\n\\n\\n\\nThe page you are looking for does not exist.\\n\\n\\n\\n\\n\\n\\n\\nLog In\\n\\n\\n\\nI forgot my password.\\n\\nRegister for an account\\n\\n\\n\\n\\n\\n\\n\\n\\n\\n\\n\\nBy data scientists, for data scientists\\n\\n\\n\\n\\n\\n\\n\\n\\n\\n\\n\\n\\n\\n\\n\\n\\n\\n\\n\\n\\n\\n\\nANACONDA\\n\\nAbout Us\\nAnaconda Cloud\\nDownload Anaconda\\n\\n\\n\\nANACONDA.ORG\\n\\nAbout\\nGallery\\nDocumentation\\nSupport\\n\\n\\n\\nCOMMUNITY\\n\\nOpen Source\\nNumFOCUS\\nconda-forge\\nBlog\\n\\n\\n\\n\\n\\n\\n\\n\\n\\n© 2023 Anaconda, Inc. All Rights Reserved. (v2.37.6 d699528b)\\n\\nLegal\\n          |\\n          Privacy Policy\\n\\n\\n\\n\\n\\n\\n\\n\\n\\n\\n\\n', start_char_idx=None, end_char_idx=None, text_template='{metadata_str}\\n\\n{content}', metadata_template='{key}: {value}', metadata_seperator='\\n'),\n",
       " Document(id_='def3a6a7-feb6-442a-a6d3-582c8e67553a', embedding=None, metadata={'URL': 'https://anaconda.org/conda-forge/attrs/conda-forge/attrs/badges'}, excluded_embed_metadata_keys=[], excluded_llm_metadata_keys=[], relationships={}, hash='b814f981b688bac7eb344b384d702ab4a8566fa1b3f0e3aedf73d163f29065e8', text='\\n\\n\\n\\n\\nNot Found :: Anaconda.org\\n\\n\\n\\n\\n\\n\\n\\n\\n\\n\\n\\n\\n\\n\\n\\n\\n\\n\\n\\n\\n\\nMenu\\n\\n\\n\\n\\n\\n\\n\\n\\n\\n\\n\\n\\n\\n\\n\\n\\n\\nGallery\\nAbout\\nAnaconda\\nHelp\\nDownload Anaconda\\n\\n\\nSign In\\n\\n\\n\\n\\n\\n\\n\\n\\n\\n\\n\\n\\n\\n\\n\\n\\nThe page you are looking for does not exist.\\n\\n\\n\\n\\n\\n\\n\\nLog In\\n\\n\\n\\nI forgot my password.\\n\\nRegister for an account\\n\\n\\n\\n\\n\\n\\n\\n\\n\\n\\n\\nBy data scientists, for data scientists\\n\\n\\n\\n\\n\\n\\n\\n\\n\\n\\n\\n\\n\\n\\n\\n\\n\\n\\n\\n\\n\\n\\nANACONDA\\n\\nAbout Us\\nAnaconda Cloud\\nDownload Anaconda\\n\\n\\n\\nANACONDA.ORG\\n\\nAbout\\nGallery\\nDocumentation\\nSupport\\n\\n\\n\\nCOMMUNITY\\n\\nOpen Source\\nNumFOCUS\\nconda-forge\\nBlog\\n\\n\\n\\n\\n\\n\\n\\n\\n\\n© 2023 Anaconda, Inc. All Rights Reserved. (v2.37.6 d699528b)\\n\\nLegal\\n          |\\n          Privacy Policy\\n\\n\\n\\n\\n\\n\\n\\n\\n\\n\\n\\n', start_char_idx=None, end_char_idx=None, text_template='{metadata_str}\\n\\n{content}', metadata_template='{key}: {value}', metadata_seperator='\\n')]"
      ]
     },
     "execution_count": 128,
     "metadata": {},
     "output_type": "execute_result"
    }
   ],
   "source": [
    "documents"
   ]
  },
  {
   "cell_type": "code",
   "execution_count": 129,
   "metadata": {},
   "outputs": [
    {
     "data": {
      "text/plain": [
       "list"
      ]
     },
     "execution_count": 129,
     "metadata": {},
     "output_type": "execute_result"
    }
   ],
   "source": [
    "type(documents)"
   ]
  },
  {
   "cell_type": "code",
   "execution_count": 108,
   "metadata": {},
   "outputs": [],
   "source": [
    "def load_document_to_gpt_vectorstore(url, model_path, model_emb_path):\n",
    "    from llama_index import download_loader \n",
    "\n",
    "    urls = scrape(url)\n",
    "    BeautifulSoupWebReader = download_loader(\"BeautifulSoupWebReader\")\n",
    "    loader = BeautifulSoupWebReader()\n",
    "    documents = loader.load_data(urls)\n",
    "    parser = SimpleNodeParser()\n",
    "\n",
    "    nodes = parser.get_nodes_from_documents(documents)\n",
    "\n",
    "    llm = load_llm(model_path)\n",
    "    llm_predictor = LLMPredictor(llm = llm)\n",
    "    embed_model = LangchainEmbedding(HuggingFaceEmbeddings(model_name=model_emb_path))\n",
    "\n",
    "\n",
    "    max_input_size = 4096\n",
    "    num_output = 512\n",
    "    max_chunk_overlap = 0.20\n",
    "    prompt_helper = PromptHelper(max_input_size, num_output, max_chunk_overlap)\n",
    "    service_context = ServiceContext.from_defaults(\n",
    "    llm_predictor=llm_predictor,\n",
    "    embed_model=embed_model,\n",
    "    prompt_helper=prompt_helper,\n",
    "    )\n",
    "\n",
    "    index = GPTVectorStoreIndex(nodes, service_context=service_context) \n",
    "    #index.save_to_disk(\"./gpt_index_docs_api_remotion_v2.json\") #cant use save_to_disk replace with storage_context\n",
    "    index.storage_context.persist(persist_dir=\"./llama_index_docs_api_v1\") # create json file for index\n",
    "    return index, service_context"
   ]
  },
  {
   "cell_type": "code",
   "execution_count": 88,
   "metadata": {},
   "outputs": [],
   "source": [
    "# def chat(query, index): #No need to use\n",
    "#     #index = VectorStoreIndex.load_from_disk(\"gpt_index_docs.json\")\n",
    "#     response = index.query(query)\n",
    "#     print(response)\n",
    "#     return response"
   ]
  },
  {
   "cell_type": "markdown",
   "metadata": {},
   "source": [
    "URL Doc :  https://anaconda.org/conda-forge/attrs\n",
    "\n",
    "model link : orca-mini-3b.ggmlv3.q4_0.bin (1.9GB) : https://gpt4all.io/index.html \n",
    "\n",
    "embedding model : https://huggingface.co/sentence-transformers/all-mpnet-base-v2"
   ]
  },
  {
   "cell_type": "code",
   "execution_count": 119,
   "metadata": {},
   "outputs": [
    {
     "name": "stderr",
     "output_type": "stream",
     "text": [
      "llama.cpp: loading model from orca-mini-3b.ggmlv3.q4_0.bin\n",
      "llama_model_load_internal: format     = ggjt v3 (latest)\n",
      "llama_model_load_internal: n_vocab    = 32000\n",
      "llama_model_load_internal: n_ctx      = 2048\n",
      "llama_model_load_internal: n_embd     = 3200\n",
      "llama_model_load_internal: n_mult     = 240\n",
      "llama_model_load_internal: n_head     = 32\n",
      "llama_model_load_internal: n_layer    = 26\n",
      "llama_model_load_internal: n_rot      = 100\n",
      "llama_model_load_internal: ftype      = 2 (mostly Q4_0)\n",
      "llama_model_load_internal: n_ff       = 8640\n",
      "llama_model_load_internal: model size = 3B\n",
      "llama_model_load_internal: ggml ctx size =    0.06 MB\n",
      "llama_model_load_internal: mem required  = 2862.72 MB (+  682.00 MB per state)\n",
      "llama_new_context_with_model: kv self size  =  650.00 MB\n",
      "AVX = 1 | AVX2 = 1 | AVX512 = 0 | AVX512_VBMI = 0 | AVX512_VNNI = 0 | FMA = 1 | NEON = 0 | ARM_FMA = 0 | F16C = 1 | FP16_VA = 0 | WASM_SIMD = 0 | BLAS = 0 | SSE3 = 1 | VSX = 0 | \n"
     ]
    }
   ],
   "source": [
    "url = \"https://anaconda.org/conda-forge/attrs\"\n",
    "model_path = \"orca-mini-3b.ggmlv3.q4_0.bin\"\n",
    "model_emb_path = \"sentence-transformers/all-mpnet-base-v2\"\n",
    "\n",
    "index, service_context = load_document_to_gpt_vectorstore(url= url, \n",
    "                                         model_path= model_path,\n",
    "                                         model_emb_path=model_emb_path)"
   ]
  },
  {
   "cell_type": "code",
   "execution_count": 120,
   "metadata": {},
   "outputs": [],
   "source": [
    "storage_context = StorageContext.from_defaults(persist_dir=\"./llama_index_docs_api_v1\")\n",
    "index = load_index_from_storage(storage_context, service_context=service_context)"
   ]
  },
  {
   "cell_type": "code",
   "execution_count": 121,
   "metadata": {},
   "outputs": [],
   "source": [
    "query_engine = index.as_query_engine(streaming=True, similarity_top_k=1, service_context=service_context)"
   ]
  },
  {
   "cell_type": "code",
   "execution_count": 122,
   "metadata": {},
   "outputs": [
    {
     "name": "stdout",
     "output_type": "stream",
     "text": [
      " \n",
      ":: Anaconda.org\n",
      "\n",
      "\n",
      "\n",
      "Answer: attrs is a Python package that provides functionality to write concise and correct code while relieving you from implementing object protocols (aka dunder methods)."
     ]
    },
    {
     "name": "stderr",
     "output_type": "stream",
     "text": [
      "\n",
      "llama_print_timings:        load time =  1243.67 ms\n",
      "llama_print_timings:      sample time =    33.06 ms /    46 runs   (    0.72 ms per token,  1391.49 tokens per second)\n",
      "llama_print_timings: prompt eval time = 144285.21 ms /  1160 tokens (  124.38 ms per token,     8.04 tokens per second)\n",
      "llama_print_timings:        eval time = 10546.94 ms /    45 runs   (  234.38 ms per token,     4.27 tokens per second)\n",
      "llama_print_timings:       total time = 159050.27 ms\n"
     ]
    }
   ],
   "source": [
    "response_stream = query_engine.query(\"What is attrs in python\")\n",
    "response_stream.print_response_stream()"
   ]
  },
  {
   "cell_type": "code",
   "execution_count": null,
   "metadata": {},
   "outputs": [],
   "source": []
  }
 ],
 "metadata": {
  "kernelspec": {
   "display_name": "llama_index",
   "language": "python",
   "name": "python3"
  },
  "language_info": {
   "codemirror_mode": {
    "name": "ipython",
    "version": 3
   },
   "file_extension": ".py",
   "mimetype": "text/x-python",
   "name": "python",
   "nbconvert_exporter": "python",
   "pygments_lexer": "ipython3",
   "version": "3.9.16"
  },
  "orig_nbformat": 4
 },
 "nbformat": 4,
 "nbformat_minor": 2
}
