{
 "cells": [
  {
   "cell_type": "code",
   "execution_count": 1,
   "metadata": {},
   "outputs": [],
   "source": [
    "from llama_index import(\n",
    "    ServiceContext,\n",
    "    StorageContext,\n",
    "    SimpleDirectoryReader,\n",
    "    LangchainEmbedding,\n",
    "    VectorStoreIndex,\n",
    "    load_index_from_storage,\n",
    "    load_graph_from_storage,\n",
    "    LLMPredictor,\n",
    "    PromptHelper\n",
    "    )\n",
    "\n",
    "# upload model\n",
    "from llama_index.llms import LangChainLLM\n",
    "from llama_index.graph_stores import SimpleGraphStore\n",
    "from llama_index import (KnowledgeGraphIndex)\n",
    "from llama_index.storage.storage_context import StorageContext\n",
    "from langchain.callbacks.manager import CallbackManager\n",
    "from langchain.callbacks.streaming_stdout import StreamingStdOutCallbackHandler\n",
    "from langchain.llms import LlamaCpp\n",
    "from langchain.embeddings.huggingface import HuggingFaceEmbeddings"
   ]
  },
  {
   "cell_type": "code",
   "execution_count": 2,
   "metadata": {},
   "outputs": [],
   "source": [
    "from typing import Callable, Dict, Generator, List, Optional, Type\n",
    "from pathlib import Path\n",
    "import logging\n",
    "\n",
    "\n",
    "logger = logging.getLogger(__name__)\n",
    "class DirectorySearchSource():\n",
    "    def __init__(\n",
    "    self,\n",
    "    num_files_limit: Optional[int] = None,\n",
    "    exclude_hidden: bool = True,\n",
    "    required_exts: Optional[List[str]]  = None,\n",
    "    recursive : bool = True,):\n",
    "    \n",
    "        super().__init__()\n",
    "\n",
    "        self.recursive = recursive\n",
    "        self.exclude_hidden = exclude_hidden\n",
    "        self.required_exts = required_exts\n",
    "        self.num_files_limit = num_files_limit\n",
    "\n",
    "    def add_files(self, input_dir):\n",
    "        all_files = set()\n",
    "        rejected_files = set()\n",
    "        list_files = []\n",
    "\n",
    "        file_refs: Generator[Path, None, None]\n",
    "        if self.recursive:\n",
    "            file_refs = Path(input_dir).rglob(\"*\")\n",
    "        else:\n",
    "            file_refs = Path(input_dir).glob(\"*\")\n",
    "        for ref in file_refs:\n",
    "            # Manually check if file is hidden or directory instead of\n",
    "            # in glob for backwards compatibility.\n",
    "            is_dir = ref.is_dir()\n",
    "            skip_because_hidden = self.exclude_hidden and ref.name.startswith(\".\")\n",
    "            skip_because_bad_ext = (\n",
    "                self.required_exts is not None and ref.suffix not in self.required_exts\n",
    "            )\n",
    "            skip_because_excluded = ref in rejected_files\n",
    "\n",
    "            if (\n",
    "                is_dir\n",
    "                or skip_because_hidden\n",
    "                or skip_because_bad_ext\n",
    "                or skip_because_excluded\n",
    "            ):\n",
    "                continue\n",
    "            else:\n",
    "                all_files.add(ref)\n",
    "        new_input_files = sorted(list(all_files))\n",
    "\n",
    "        if len(new_input_files) == 0:\n",
    "            raise ValueError(f\"No files found in {input_dir}.\")\n",
    "\n",
    "        if self.num_files_limit is not None and self.num_files_limit > 0:\n",
    "            new_input_files = new_input_files[0 : self.num_files_limit]\n",
    "\n",
    "        # print total number of files added\n",
    "        logger.debug(\n",
    "            f\"> [SimpleDirectoryReader] Total files added: {len(new_input_files)}\")\n",
    "\n",
    "        for f in new_input_files:\n",
    "            list_files.append(str(f))\n",
    "        return list_files"
   ]
  },
  {
   "cell_type": "code",
   "execution_count": 4,
   "metadata": {},
   "outputs": [],
   "source": [
    "from llama_index.readers.base import BaseReader\n",
    "from llama_index.schema import Document\n",
    "\n",
    "class HtmlFilesReader(BaseReader):\n",
    "    \"\"\"Simple web page reader.\n",
    "\n",
    "    Reads pages from the web.\n",
    "\n",
    "    Args:\n",
    "        html_to_text (bool): Whether to convert HTML to text.\n",
    "            Requires `html2text` package.\n",
    "\n",
    "    \"\"\"\n",
    "\n",
    "    def __init__(self, html_to_text: bool = False):\n",
    "        \"\"\"Initialize with parameters.\"\"\"\n",
    "        try:\n",
    "            import html2text  # noqa: F401\n",
    "        except ImportError:\n",
    "            raise ImportError(\n",
    "                \"`html2text` package not found, please run `pip install html2text`\"\n",
    "            )\n",
    "        self._html_to_text = html_to_text\n",
    "\n",
    "    def load_data(self, input_files):\n",
    "        \"\"\"Load data from the input directory.\n",
    "\n",
    "        Args:\n",
    "            urls (List[str]): List of URLs to scrape.\n",
    "\n",
    "        Returns:\n",
    "            List[Document]: List of documents.\n",
    "\n",
    "        \"\"\"\n",
    "        if not isinstance(input_files, list):\n",
    "            raise ValueError(\"input_files must be a list of strings.\")\n",
    "        documents = []\n",
    "        for input_file in input_files:\n",
    "            # if file_metadata is not None:\n",
    "            #     metadata = file_metadata(str(input_file))\n",
    "            #response = requests.get(url, headers=None).text\n",
    "            with open(input_file, \"r\", errors = \"ignore\", encoding='utf-8') as f:\n",
    "                response = f.read()\n",
    "            if self._html_to_text:\n",
    "                import html2text\n",
    "\n",
    "                response = html2text.html2text(response)\n",
    "\n",
    "            doc = Document(text=response)\n",
    "            doc.metadata = {'file_name': input_file}\n",
    "\n",
    "\n",
    "            documents.append(doc)\n",
    "\n",
    "        return documents"
   ]
  },
  {
   "cell_type": "code",
   "execution_count": 11,
   "metadata": {},
   "outputs": [],
   "source": [
    "def clean_duplicate(documents):\n",
    "    content_unique = []\n",
    "    index_unique = []\n",
    "    content_duplicate = []\n",
    "    index_duplicate = []\n",
    "    for index, doc in enumerate(documents):\n",
    "        if doc.text not in content_unique:\n",
    "            content_unique.append(doc.text)\n",
    "            index_unique.append(index)\n",
    "        else :\n",
    "            content_duplicate.append(doc.text)\n",
    "            index_duplicate.append(index)\n",
    "    documents_clean = [item for index, item in enumerate(documents) if index in index_unique]\n",
    "    return documents_clean"
   ]
  },
  {
   "cell_type": "code",
   "execution_count": 12,
   "metadata": {},
   "outputs": [],
   "source": [
    "input_dir = \"./omniscien.com\"\n",
    "filename_fn = lambda filename: {'file_name': filename}\n",
    "lists_files = DirectorySearchSource().add_files(input_dir)\n",
    "documents = HtmlFilesReader(html_to_text=True).load_data(input_files = lists_files)\n",
    "documents_clean = clean_duplicate(documents)"
   ]
  },
  {
   "cell_type": "code",
   "execution_count": 19,
   "metadata": {},
   "outputs": [
    {
     "data": {
      "text/plain": [
       "169"
      ]
     },
     "execution_count": 19,
     "metadata": {},
     "output_type": "execute_result"
    }
   ],
   "source": [
    "len(documents)"
   ]
  },
  {
   "cell_type": "code",
   "execution_count": 15,
   "metadata": {},
   "outputs": [
    {
     "data": {
      "text/plain": [
       "131"
      ]
     },
     "execution_count": 15,
     "metadata": {},
     "output_type": "execute_result"
    }
   ],
   "source": [
    "len(documents_clean)"
   ]
  },
  {
   "cell_type": "code",
   "execution_count": 18,
   "metadata": {},
   "outputs": [
    {
     "name": "stdout",
     "output_type": "stream",
     "text": [
      "{'file_name': 'omniscien.com/about-us/careers/index.html'}\n",
      "{'file_name': 'omniscien.com/about-us/company/index.html'}\n",
      "{'file_name': 'omniscien.com/about-us/contact-us/index.html'}\n",
      "{'file_name': 'omniscien.com/about-us/index.html'}\n",
      "{'file_name': 'omniscien.com/about-us/internships/index.html'}\n",
      "{'file_name': 'omniscien.com/about-us/legal/gdpr/index.html'}\n",
      "{'file_name': 'omniscien.com/about-us/legal/index.html'}\n",
      "{'file_name': 'omniscien.com/about-us/legal/privacy-policy/index.html'}\n",
      "{'file_name': 'omniscien.com/about-us/news/index.html'}\n",
      "{'file_name': 'omniscien.com/about-us/office-locations/index.html'}\n",
      "{'file_name': 'omniscien.com/blog/ai-in-the-age-of-cybersecurity-tackling-the-most-relevant-ai-risk/index.html'}\n",
      "{'file_name': 'omniscien.com/blog/breaking-language-barriers-39-world-leading-language-learning-organizations-using-technology-to-make-a-difference/index.html'}\n",
      "{'file_name': 'omniscien.com/blog/hype-cycle-for-ai-technologies-in-business/index.html'}\n",
      "{'file_name': 'omniscien.com/blog/localization-glossary-terminology-that-you-should-know/faq/what-is-do-it-yourself-machine-translation/index.html'}\n",
      "{'file_name': 'omniscien.com/blog/localization-glossary-terminology-that-you-should-know/index.html'}\n",
      "{'file_name': 'omniscien.com/blog/riding-machine-translation-hype-cycle/index.html'}\n",
      "{'file_name': 'omniscien.com/blog/speak-their-language-understanding-translation-localization-and-the-advantages-of-customized-machine-translation/index.html'}\n",
      "{'file_name': 'omniscien.com/blog/speech-recognition-and-speech-synthesis-glossary-terminology-that-you-should-know/index.html'}\n",
      "{'file_name': 'omniscien.com/blog/speech-recognition-speech-synthesis-glossary-h-n/index.html'}\n",
      "{'file_name': 'omniscien.com/blog/speech-recognition-speech-synthesis-glossary-o-u/index.html'}\n",
      "{'file_name': 'omniscien.com/blog/speech-recognition-speech-synthesis-glossary-v-z/index.html'}\n",
      "{'file_name': 'omniscien.com/blog/state-neural-machine-translation-nmt/index.html'}\n",
      "{'file_name': 'omniscien.com/blog/thailand-joint-foreign-chambers-of-commerce-ai-and-machine-learning-trends-and-caveats/index.html'}\n",
      "{'file_name': 'omniscien.com/blog/the-omniscien-advantage-we-wrote-the-book/index.html'}\n",
      "{'file_name': 'omniscien.com/case-studies/lexisnexis-univentio-asian-patents/index.html'}\n",
      "{'file_name': 'omniscien.com/category/blog/index.html'}\n",
      "{'file_name': 'omniscien.com/category/case-studies/index.html'}\n",
      "{'file_name': 'omniscien.com/category/faq/index.html'}\n",
      "{'file_name': 'omniscien.com/faq/can-machine-translation-handle-complex-formatting/index.html'}\n",
      "{'file_name': 'omniscien.com/faq/conference-and-webinar-nmt-questions-and-answers/index.html'}\n",
      "{'file_name': 'omniscien.com/faq/customized-machine-translation-better-generic-machine-translation/index.html'}\n",
      "{'file_name': 'omniscien.com/faq/difference-direct-language-pairs-language-pair-pivoting/index.html'}\n",
      "{'file_name': 'omniscien.com/faq/different-types-of-machine-translation/index.html'}\n",
      "{'file_name': 'omniscien.com/faq/fast-machine-translation/index.html'}\n",
      "{'file_name': 'omniscien.com/faq/human-translations-or-machine-translations-better/index.html'}\n",
      "{'file_name': 'omniscien.com/faq/index.html'}\n",
      "{'file_name': 'omniscien.com/faq/is-cloud-based-mt-secure/index.html'}\n",
      "{'file_name': 'omniscien.com/faq/machine-translation-fit-translation-workflow/index.html'}\n",
      "{'file_name': 'omniscien.com/faq/machine-translation-usage/index.html'}\n",
      "{'file_name': 'omniscien.com/faq/mt-common-misconceptions/index.html'}\n",
      "{'file_name': 'omniscien.com/faq/mt-return-on-investment/index.html'}\n",
      "{'file_name': 'omniscien.com/faq/what-is-custom-machine-translation/index.html'}\n",
      "{'file_name': 'omniscien.com/faq/what-is-do-it-yourself-machine-translation/index.html'}\n",
      "{'file_name': 'omniscien.com/faq/what-is-generic-machine-translation/index.html'}\n",
      "{'file_name': 'omniscien.com/faq/what-is-hybrid-machine-translation/index.html'}\n",
      "{'file_name': 'omniscien.com/faq/what-is-machine-translation/index.html'}\n",
      "{'file_name': 'omniscien.com/faq/what-is-neural-machine-translation/index.html'}\n",
      "{'file_name': 'omniscien.com/faq/what-is-real-time-captioning/index.html'}\n",
      "{'file_name': 'omniscien.com/faq/what-is-rules-based-machine-translation/index.html'}\n",
      "{'file_name': 'omniscien.com/faq/what-is-statistical-machine-translation/index.html'}\n",
      "{'file_name': 'omniscien.com/faq/what-is-syntax-based-machine-translation/index.html'}\n",
      "{'file_name': 'omniscien.com/faq/what-is-the-difference-between-clean-data-mt-and-dirty-data-mt/index.html'}\n",
      "{'file_name': 'omniscien.com/faq/who-uses-machine-translation/index.html'}\n",
      "{'file_name': 'omniscien.com/faq/why-do-i-need-machine-translation/index.html'}\n",
      "{'file_name': 'omniscien.com/faq/will-machine-translation-put-human-translators-out-of-work/index.html'}\n",
      "{'file_name': 'omniscien.com/index.html'}\n",
      "{'file_name': 'omniscien.com/job/artificial-intelligence-internships-available-now-bangkok-thailand/index.html'}\n",
      "{'file_name': 'omniscien.com/job/artificial-intelligence-internships-available-now-bangkok-thailand/indexa5c8.html'}\n",
      "{'file_name': 'omniscien.com/job/nlp-internships-available-in-now-bangkok-thailand/index.html'}\n",
      "{'file_name': 'omniscien.com/job/nlp-internships-available-in-now-bangkok-thailand/index0a31.html'}\n",
      "{'file_name': 'omniscien.com/lsev6/asr/automatic-speech-recognition-overview/index.html'}\n",
      "{'file_name': 'omniscien.com/lsev6/data-privacy-security-and-compliance/index.html'}\n",
      "{'file_name': 'omniscien.com/lsev6/data-privacy-security-and-compliance/secure-by-design/index.html'}\n",
      "{'file_name': 'omniscien.com/lsev6/features/Features - Omniscien Technologies.html'}\n",
      "{'file_name': 'omniscien.com/lsev6/features/amp/advanced-media-processing-overview/index.html'}\n",
      "{'file_name': 'omniscien.com/lsev6/features/amp/index.html'}\n",
      "{'file_name': 'omniscien.com/lsev6/features/asr/automated-speech-recognition-languages/index.html'}\n",
      "{'file_name': 'omniscien.com/lsev6/features/asr/automatic-speech-recognition-accuracy-and-customization/index.html'}\n",
      "{'file_name': 'omniscien.com/lsev6/features/asr/automatic-speech-recognition-languages/index.html'}\n",
      "{'file_name': 'omniscien.com/lsev6/features/asr/automatic-speech-recognition-overview/index.html'}\n",
      "{'file_name': 'omniscien.com/lsev6/features/asr/automatic-speech-recognition-technical-features/index.html'}\n",
      "{'file_name': 'omniscien.com/lsev6/features/asr/autonomous-speech-recognition-accuracy-and-customization/index.html'}\n",
      "{'file_name': 'omniscien.com/lsev6/features/convert/convert-file-formats-file-types/index.html'}\n",
      "{'file_name': 'omniscien.com/lsev6/features/convert/convert-file-formats-overview/index.html'}\n",
      "{'file_name': 'omniscien.com/lsev6/features/convert/index.html'}\n",
      "{'file_name': 'omniscien.com/lsev6/features/mt/machine-translation-customization/index.html'}\n",
      "{'file_name': 'omniscien.com/lsev6/features/mt/machine-translation-languages/index.html'}\n",
      "{'file_name': 'omniscien.com/lsev6/features/mt/machine-translation-overview/index.html'}\n",
      "{'file_name': 'omniscien.com/lsev6/features/nlp/index.html'}\n",
      "{'file_name': 'omniscien.com/lsev6/features/nlp/natural-language-processing-overview/index.html'}\n",
      "{'file_name': 'omniscien.com/lsev6/features/ocr/optical-character-recognition-languages/index.html'}\n",
      "{'file_name': 'omniscien.com/lsev6/features/ocr/optical-character-recognition-overview/index.html'}\n",
      "{'file_name': 'omniscien.com/lsev6/index.html'}\n",
      "{'file_name': 'omniscien.com/lsev6/mt/machine-translation-overview/index.html'}\n",
      "{'file_name': 'omniscien.com/lsev6/ocr/optical-character-recognition-overview/index.html'}\n",
      "{'file_name': 'omniscien.com/lsev6/platform/index.html'}\n",
      "{'file_name': 'omniscien.com/lsev6/platform/secure-document-portal/index.html'}\n",
      "{'file_name': 'omniscien.com/lsev6/platform/secure-server-platform/index.html'}\n",
      "{'file_name': 'omniscien.com/machine-translaiton/custom-mt-engines/index.html'}\n",
      "{'file_name': 'omniscien.com/machine-translation/clean-data-machine-translation/index.html'}\n",
      "{'file_name': 'omniscien.com/machine-translation/data-security-and-privacy/index.html'}\n",
      "{'file_name': 'omniscien.com/machine-translation/deployment-models/index.html'}\n",
      "{'file_name': 'omniscien.com/machine-translation/hybrid-machine-translation/index.html'}\n",
      "{'file_name': 'omniscien.com/machine-translation/index.html'}\n",
      "{'file_name': 'omniscien.com/machine-translation/industry-domains/index.html'}\n",
      "{'file_name': 'omniscien.com/machine-translation/powerful-tools-for-data-creation-preparation-and-analysis/index.html'}\n",
      "{'file_name': 'omniscien.com/machine-translation/secure-by-design/index.html'}\n",
      "{'file_name': 'omniscien.com/machine-translation/supported-document-formats/index.html'}\n",
      "{'file_name': 'omniscien.com/machine-translation/supported-languages/index.html'}\n",
      "{'file_name': 'omniscien.com/machine-translation/ways-to-translate/index.html'}\n",
      "{'file_name': 'omniscien.com/products/index.html'}\n",
      "{'file_name': 'omniscien.com/products/language-studio/data-center-platform/index.html'}\n",
      "{'file_name': 'omniscien.com/products/language-studio/enterprise-translation-server/index.html'}\n",
      "{'file_name': 'omniscien.com/products/language-studio/index.html'}\n",
      "{'file_name': 'omniscien.com/products/language-studio/language-studio-features/index.html'}\n",
      "{'file_name': 'omniscien.com/products/language-studio/secure-cloud/index.html'}\n",
      "{'file_name': 'omniscien.com/products/language-studio/what-is-new-in-language-studio-6-0/index.html'}\n",
      "{'file_name': 'omniscien.com/products/language-studio-features/index.html'}\n",
      "{'file_name': 'omniscien.com/products/media-studio/data-processing-platform/index.html'}\n",
      "{'file_name': 'omniscien.com/products/media-studio/data-processing-platform-features/index.html'}\n",
      "{'file_name': 'omniscien.com/products/media-studio/index.html'}\n",
      "{'file_name': 'omniscien.com/products/media-studio/project-management-and-editing-platform/index.html'}\n",
      "{'file_name': 'omniscien.com/products/media-studio/project-management-and-editing-platform-features/index.html'}\n",
      "{'file_name': 'omniscien.com/products/media-studio/subtitle-optimized-machine-translation/index.html'}\n",
      "{'file_name': 'omniscien.com/products/workflow-studio/index.html'}\n",
      "{'file_name': 'omniscien.com/resources/blog/index.html'}\n",
      "{'file_name': 'omniscien.com/resources/events-and-conferences/index.html'}\n",
      "{'file_name': 'omniscien.com/resources/index.html'}\n",
      "{'file_name': 'omniscien.com/resources/integrated-solution-partners/index.html'}\n",
      "{'file_name': 'omniscien.com/resources/request-a-demo/index.html'}\n",
      "{'file_name': 'omniscien.com/resources/subscribe-to-omniscien-mailing-list/index.html'}\n",
      "{'file_name': 'omniscien.com/resources/technology-partners/index.html'}\n",
      "{'file_name': 'omniscien.com/resources/webinar/index.html'}\n",
      "{'file_name': 'omniscien.com/resources/webinar-registration-complete/index.html'}\n",
      "{'file_name': 'omniscien.com/services/index.html'}\n",
      "{'file_name': 'omniscien.com/solutions/index.html'}\n",
      "{'file_name': 'omniscien.com/support/index.html'}\n",
      "{'file_name': 'omniscien.com/symposium/index.html'}\n",
      "{'file_name': 'omniscien.com/technology/index.html'}\n",
      "{'file_name': 'omniscien.com/testimonials/index.html'}\n",
      "{'file_name': 'omniscien.com/xmlrpc.php'}\n"
     ]
    }
   ],
   "source": [
    "for i in documents_clean:\n",
    "    print(i.metadata)"
   ]
  },
  {
   "cell_type": "code",
   "execution_count": 7,
   "metadata": {},
   "outputs": [
    {
     "data": {
      "text/plain": [
       "'\\n\\n[![](https://omniscien.com/wp-content/uploads/2020/10/AW_Omniscien-\\nLogo_RGB_Hi-01-croppedmin.png)![](https://omniscien.com/wp-\\ncontent/uploads/2020/10/AW_Omniscien-\\nLogo_RGB_Hi-01-croppedmin.png)![](https://omniscien.com/wp-\\ncontent/uploads/2020/07/Logo_Web.jpg)](https://omniscien.com/)\\n\\n__\\n\\n  * [ Home](https://omniscien.com/)\\n  * [Products __](/products/)\\n\\n    * [![Language Studio Logo](https://omniscien.com/wp-content/uploads/2020/10/LanguageStudio240min.png)](/lsev6/)\\n\\nPrivate and Secure Artificial Intelligence Tools for Enterprise\\n\\n[Overview](/lsev6/) | [Features](/lsev6/features/)\\n\\nEditions\\n\\n![](https://omniscien.com/wp-content/uploads/2020/08/SecureCloud45.png)\\n\\nSecure Cloud\\n\\n![](https://omniscien.com/wp-content/uploads/2020/08/Servers45.png)\\n\\nEnterprise\\n\\n[![Media Studio Logo](https://omniscien.com/wp-\\ncontent/uploads/2020/10/MediaStudio240min.png)](/products/media-studio/)\\n\\nProject Management,  \\nEditing & Subtitle Data Processing\\n\\n[Overview](/products/media-studio/) | [Features](/products/media-\\nstudio/#features)\\n\\nEditions\\n\\n![](https://omniscien.com/wp-content/uploads/2020/08/ProjectManagment45.png)\\n\\nProject Management and Editing Platform\\n\\n![](https://omniscien.com/wp-content/uploads/2020/08/LSETS45.png)\\n\\nData Processing Platform\\n\\n[![Workflow Studio Logo](https://omniscien.com/wp-\\ncontent/uploads/2020/10/WorkflowStudio240min.png)](/products/workflow-studio/)\\n\\nData Workflow Automation & Natural Language Processing\\n\\n[Overview](/products/workflow-studio/) | [Features](/products/workflow-\\nstudio/#features)\\n\\n\\n\\n![](https://omniscien.com/wp-content/uploads/2020/10/TrainMT45min.png)\\n\\nLearn about  \\nMachine Translation\\n\\n![](https://omniscien.com/wp-content/uploads/2020/08/IndustryDomains45.png)\\n\\nCustom MT Engines\\n\\n![](https://omniscien.com/wp-content/uploads/2020/08/CustomMT45.png)\\n\\nIndustry Domains\\n\\n![](https://omniscien.com/wp-content/uploads/2020/08/Language45.png)\\n\\nLanguages\\n\\n![](https://omniscien.com/wp-content/uploads/2020/08/DocumentFormats45.png)\\n\\nDocument Formats\\n\\n![](https://omniscien.com/wp-content/uploads/2020/08/DeploymentModels45.png)\\n\\nDeployment Models\\n\\n![](https://omniscien.com/wp-content/uploads/2020/08/TranslateBrowser45.png)\\n\\nWays to Translate\\n\\nHuman Language Technology Enhanced by Artificial Intelligence\\n\\n  * [Services](https://omniscien.com/services/)\\n  * [Solutions](https://omniscien.com/solutions/)\\n  * [Technology](https://omniscien.com/technology/)\\n  * [Resources __](https://omniscien.com/resources/)\\n\\n    * [About Us __](https://omniscien.com/about-us/)\\n\\n      * [Company](https://omniscien.com/about-us/company/)\\n      * [ Careers](https://omniscien.com/about-us/careers/)\\n      * [Internships](https://omniscien.com/about-us/internships/)\\n      * [News](https://omniscien.com/about-us/news/)\\n      * [Office Locations](https://omniscien.com/about-us/office-locations/)\\n      * [Legal](https://omniscien.com/about-us/legal/)\\n      * [Contact Us](https://omniscien.com/about-us/contact-us/)\\n\\n    * [Frequently Asked Questions (FAQ)](https://omniscien.com/faq/)\\n    * [Support](https://omniscien.com/support/)\\n    * [Omniscien Blog](https://omniscien.com/resources/blog/)\\n    * [Webinars](https://omniscien.com/resources/webinars/)\\n    * [Events and Conferences](https://omniscien.com/resources/events-and-conferences/)\\n    * [AI, MT and Language Processing Symposium](https://omniscien.com/symposium/)\\n    * [Case Studies](https://omniscien.com/resources/case-studies/)\\n    * [Testimonials](https://omniscien.com/testimonials/)\\n    * [Integrated Solution Partners](https://omniscien.com/resources/integrated-solution-partners/)\\n    * [Technology Partners](https://omniscien.com/resources/technology-partners/)\\n    * [Language Pairs – Machine Translation](https://omniscien.com/machine-translation/supported-languages/)\\n    * [Supported Document Formats](https://omniscien.com/machine-translation/supported-document-formats/)\\n    * [Ways to Translate](https://omniscien.com/machine-translation/ways-to-translate/)\\n    * [Data Security and Privacy](https://omniscien.com/machine-translation/data-security-and-privacy/)\\n\\n__ Search\\n\\nSTART TYPING AND PRESS ENTER TO SEARCH\\n\\n__\\n\\n__\\n\\n  * [ Home](https://omniscien.com/)\\n  * [Products __](/products/)\\n\\n    * [![Language Studio Logo](https://omniscien.com/wp-content/uploads/2020/10/LanguageStudio240min.png)](/lsev6/)\\n\\nPrivate and Secure Artificial Intelligence Tools for Enterprise\\n\\n[Overview](/lsev6/) | [Features](/lsev6/features/)\\n\\nEditions\\n\\n![](https://omniscien.com/wp-content/uploads/2020/08/SecureCloud45.png)\\n\\nSecure Cloud\\n\\n![](https://omniscien.com/wp-content/uploads/2020/08/Servers45.png)\\n\\nEnterprise\\n\\n[![Media Studio Logo](https://omniscien.com/wp-\\ncontent/uploads/2020/10/MediaStudio240min.png)](/products/media-studio/)\\n\\nProject Management,  \\nEditing & Subtitle Data Processing\\n\\n[Overview](/products/media-studio/) | [Features](/products/media-\\nstudio/#features)\\n\\nEditions\\n\\n![](https://omniscien.com/wp-content/uploads/2020/08/ProjectManagment45.png)\\n\\nProject Management and Editing Platform\\n\\n![](https://omniscien.com/wp-content/uploads/2020/08/LSETS45.png)\\n\\nData Processing Platform\\n\\n[![Workflow Studio Logo](https://omniscien.com/wp-\\ncontent/uploads/2020/10/WorkflowStudio240min.png)](/products/workflow-studio/)\\n\\nData Workflow Automation & Natural Language Processing\\n\\n[Overview](/products/workflow-studio/) | [Features](/products/workflow-\\nstudio/#features)\\n\\n\\n\\n![](https://omniscien.com/wp-content/uploads/2020/10/TrainMT45min.png)\\n\\nLearn about  \\nMachine Translation\\n\\n![](https://omniscien.com/wp-content/uploads/2020/08/IndustryDomains45.png)\\n\\nCustom MT Engines\\n\\n![](https://omniscien.com/wp-content/uploads/2020/08/CustomMT45.png)\\n\\nIndustry Domains\\n\\n![](https://omniscien.com/wp-content/uploads/2020/08/Language45.png)\\n\\nLanguages\\n\\n![](https://omniscien.com/wp-content/uploads/2020/08/DocumentFormats45.png)\\n\\nDocument Formats\\n\\n![](https://omniscien.com/wp-content/uploads/2020/08/DeploymentModels45.png)\\n\\nDeployment Models\\n\\n![](https://omniscien.com/wp-content/uploads/2020/08/TranslateBrowser45.png)\\n\\nWays to Translate\\n\\nHuman Language Technology Enhanced by Artificial Intelligence\\n\\n  * [Services](https://omniscien.com/services/)\\n  * [Solutions](https://omniscien.com/solutions/)\\n  * [Technology](https://omniscien.com/technology/)\\n  * [Resources __](https://omniscien.com/resources/)\\n\\n    * [About Us __](https://omniscien.com/about-us/)\\n\\n      * [Company](https://omniscien.com/about-us/company/)\\n      * [ Careers](https://omniscien.com/about-us/careers/)\\n      * [Internships](https://omniscien.com/about-us/internships/)\\n      * [News](https://omniscien.com/about-us/news/)\\n      * [Office Locations](https://omniscien.com/about-us/office-locations/)\\n      * [Legal](https://omniscien.com/about-us/legal/)\\n      * [Contact Us](https://omniscien.com/about-us/contact-us/)\\n\\n    * [Frequently Asked Questions (FAQ)](https://omniscien.com/faq/)\\n    * [Support](https://omniscien.com/support/)\\n    * [Omniscien Blog](https://omniscien.com/resources/blog/)\\n    * [Webinars](https://omniscien.com/resources/webinars/)\\n    * [Events and Conferences](https://omniscien.com/resources/events-and-conferences/)\\n    * [AI, MT and Language Processing Symposium](https://omniscien.com/symposium/)\\n    * [Case Studies](https://omniscien.com/resources/case-studies/)\\n    * [Testimonials](https://omniscien.com/testimonials/)\\n    * [Integrated Solution Partners](https://omniscien.com/resources/integrated-solution-partners/)\\n    * [Technology Partners](https://omniscien.com/resources/technology-partners/)\\n    * [Language Pairs – Machine Translation](https://omniscien.com/machine-translation/supported-languages/)\\n    * [Supported Document Formats](https://omniscien.com/machine-translation/supported-document-formats/)\\n    * [Ways to Translate](https://omniscien.com/machine-translation/ways-to-translate/)\\n    * [Data Security and Privacy](https://omniscien.com/machine-translation/data-security-and-privacy/)\\n\\n__ Search\\n\\n[Omniscien](https://omniscien.com/) » [About Us](https://omniscien.com/about-\\nus/) » Careers\\n\\n#  Careers at  Omniscien Technologies\\n\\n##  Join the  Omniscien Team\\n\\nAre you a creative thinker?  \\nAre you passionate about innovation?  \\nDo you enjoy a challenge?\\n\\nAt Omniscien, we are always looking for great talent. We are language\\naficionados and technology enthusiasts that thrive on a challenge and breaking\\nnew ground. Our team provides award-winning solutions based on a solid\\nfoundation of machine learning and artificial intelligence. Our employees\\ncollaborate across languages and borders, helping each other, and helping our\\ncustomers to grow from shared expertise. Explore our career opportunities\\ntoday.** **If there is one thing that has led to our success, it can simply be\\nreduced to a single word – “Team”**\\n\\n![Team](https://omniscien.com/wp-content/uploads/2020/07/Team2.jpg)\\n\\n##  Full-Time Positions\\n\\n##### [Artificial Intelligence (AI) and Natural Language Processing (NLP)\\nEngineer](https://omniscien.com/job/ai-engineer-bangkok/)\\n\\nBangkok, Full-time\\n\\nWe are looking for an AI and NLP Engineer to join in our R&D; team in Bangkok.\\n\\n[Learn More](https://omniscien.com/job/ai-engineer-bangkok/)\\n\\n##### [NLP and Machine Learning Engineer](https://omniscien.com/job/nlp-and-\\nmachine-learning-engineer/)\\n\\nBangkok, Full-time\\n\\n[Learn More](https://omniscien.com/job/nlp-and-machine-learning-engineer/)\\n\\n##  Part-Time Positions\\n\\nThere are currently no job vacancies in this category.\\n\\n##  Internships\\n\\n##### [Artificial Intelligence Internships available now! (Bangkok,\\nThailand)](https://omniscien.com/job/artificial-intelligence-internships-\\navailable-now-bangkok-thailand/)\\n\\nBangkok, Intern\\n\\nWe are currently looking for interns with Artificial Intelligence (AI) skills\\nwho can learn and apply their skills in an exciting and fast-moving, leading-\\nedge environment!\\n\\n[Learn More](https://omniscien.com/job/artificial-intelligence-internships-\\navailable-now-bangkok-thailand/)\\n\\n##### [NLP Internships available now! (Bangkok,\\nThailand)](https://omniscien.com/job/nlp-internships-available-in-now-bangkok-\\nthailand/)\\n\\nBangkok, Intern\\n\\nWe are currently looking for interns with Natural Language Processing (NLP)\\nskills who can learn and apply their skills in an exciting and fast-moving,\\nleading-edge environment!\\n\\n[Learn More](https://omniscien.com/job/nlp-internships-available-in-now-\\nbangkok-thailand/)\\n\\nSee how Omniscien can help  \\n **solve your unique  \\nlanguage and document processing challenges**\\n\\n[Request a Demo](/resources/request-a-demo/)\\n\\n[Contact Us](/about-us/contact-us/)\\n\\n[Subscribe to our Mailing List](/resources/subscribe-to-omniscien-mailing-\\nlist/)\\n\\n[Products](/products/)\\n\\n  * [Language Studio](/products/language-studio/)\\n  * [Media Studio](/products/media-studio/)[](/products/workflow-studio/)\\n\\n[Services](/services/)\\n\\n  * [Custom MT Engines](/services/#custom-mt-engines)\\n  * [Custom Workflows](/services/#custom-workflows)\\n  * [Consulting](/services/#consulting)\\n\\n[Machine Translation](/machine-translation/)\\n\\n  * [Machine Translation Overview](/machine-translation/)\\n  * [Detailed Features](/products/language-studio/language-studio-features/)\\n  * [Industry Domain MT Engines](/machine-translation/industry-domains/)\\n  * [Custom MT Engines](/machine-translation/custom-mt-engines/)\\n  * [Data Creation Tools](/machine-translation/powerful-tools-for-data-creation-preparation-and-analysis/)\\n  * [Ways to Translate](/machine-translation/ways-to-translate/)\\n  * [Hybrid NMT/SMT Engines](/machine-translation/hybrid-machine-translation/)\\n\\n[Human Language Technology (HLT)](/technology/)\\n\\n  * [Artificial Intelligence & Machine Learning](/technology/#artificial-intelligence)\\n  * [State-of-the-Art Machine Translation](/technology/#machine-translation)\\n  * [Neural Machine Translation (NMT)](/technology/#machine-translation)\\n  * [Statistical Machine Translation (SMT)](/technology/#machine-translation)\\n  * [Hybrid Deep NMT/SMT](/technology/#machine-translation)\\n  * [Machine Translation Engine Training](/technology/#machine-translation-engine-training)\\n  * [Data Synthesis, and Data Creation](/technology/#data-synthesis)\\n  * [Data Cleaning](/technology/#data-cleaning)\\n  * [Measurement](/technology/#measurement)\\n  * [Natural Language Processing (NLP)](/technology/#nlp)\\n  * [Workflow Automation](/technology/#workflow-automation)\\n  * [Subtitle, Video, Audio, and Media ](/technology/#media)\\n  * [Data Source and Integration](/technology/#integration)\\n  * [Data Conversion](/technology/#data-conversion)\\n\\n[Resources](/resources/)\\n\\n  * [Support](/support/)\\n  * [Frequently Asked Questions](/faq/)\\n  * [Blog](/resources/blog/)\\n  * [Webinars](/resources/webinars/)\\n  * [Integrated Solution Partners](/resources/integrated-solution-partners/)\\n  * [Technology Partners](/resources/technology-partners/)\\n  * [Supported Languages](/machine-translation/supported-languages/)\\n  * [Supported Document Formats](/machine-translation/supported-document-formats/)\\n  * [Data Security and Privacy](/machine-translation/data-security-and-privacy/)\\n  * [Deployment Models](/machine-translation/deployment-models/ )\\n\\n[About Us](/about-us/)\\n\\n  * [Company](/about-us/company/)\\n  * [Careers](/about-us/careers/)\\n  * [Internships](/about-us/internships/)\\n  * [News](/about-us/news/)\\n  * [Office Locations](/about-us/office-locations/)\\n  * [Legal](/about-us/legal/)\\n\\nConnect\\n\\n  * [Follow](https://www.facebook.com/omniscien \"Follow on Facebook\")\\n  * [Follow](https://twitter.com/omniscientech \"Follow on Twitter\")\\n  * [Follow](https://www.linkedin.com/company/omniscien \"Follow on LinkedIn\")\\n\\n  * [Contact Us](/about-us/contact-us/)\\n  * [Request a Demo](/resources/request-a-demo/)\\n  * [Subscribe to Mailing List](/resources/subscribe-to-omniscien-mailing-list/)\\n\\nCopyright © 2023 Omniscien Technologies. All Rights Reserved.\\n[Legal](/about-us/legal/)\\n\\nFREE WEBINAR: The Future of Language Related AI for Enterprises: Local Agents\\nand Fine-Tuned Large Language Models (LLMs)[Watch the\\nReplay](https://omniscien.com/resources/webinars)\\n\\n+ __\\n\\n'"
      ]
     },
     "execution_count": 7,
     "metadata": {},
     "output_type": "execute_result"
    }
   ],
   "source": [
    "documents[0].text"
   ]
  },
  {
   "cell_type": "code",
   "execution_count": 9,
   "metadata": {},
   "outputs": [
    {
     "data": {
      "text/plain": [
       "'\\n\\n[![](https://omniscien.com/wp-content/uploads/2020/10/AW_Omniscien-\\nLogo_RGB_Hi-01-croppedmin.png)![](https://omniscien.com/wp-\\ncontent/uploads/2020/10/AW_Omniscien-\\nLogo_RGB_Hi-01-croppedmin.png)![](https://omniscien.com/wp-\\ncontent/uploads/2020/07/Logo_Web.jpg)](https://omniscien.com/)\\n\\n__\\n\\n  * [ Home](https://omniscien.com/)\\n  * [Products __](/products/)\\n\\n    * [![Language Studio Logo](https://omniscien.com/wp-content/uploads/2020/10/LanguageStudio240min.png)](/lsev6/)\\n\\nPrivate and Secure Artificial Intelligence Tools for Enterprise\\n\\n[Overview](/lsev6/) | [Features](/lsev6/features/)\\n\\nEditions\\n\\n![](https://omniscien.com/wp-content/uploads/2020/08/SecureCloud45.png)\\n\\nSecure Cloud\\n\\n![](https://omniscien.com/wp-content/uploads/2020/08/Servers45.png)\\n\\nEnterprise\\n\\n[![Media Studio Logo](https://omniscien.com/wp-\\ncontent/uploads/2020/10/MediaStudio240min.png)](/products/media-studio/)\\n\\nProject Management,  \\nEditing & Subtitle Data Processing\\n\\n[Overview](/products/media-studio/) | [Features](/products/media-\\nstudio/#features)\\n\\nEditions\\n\\n![](https://omniscien.com/wp-content/uploads/2020/08/ProjectManagment45.png)\\n\\nProject Management and Editing Platform\\n\\n![](https://omniscien.com/wp-content/uploads/2020/08/LSETS45.png)\\n\\nData Processing Platform\\n\\n[![Workflow Studio Logo](https://omniscien.com/wp-\\ncontent/uploads/2020/10/WorkflowStudio240min.png)](/products/workflow-studio/)\\n\\nData Workflow Automation & Natural Language Processing\\n\\n[Overview](/products/workflow-studio/) | [Features](/products/workflow-\\nstudio/#features)\\n\\n\\n\\n![](https://omniscien.com/wp-content/uploads/2020/10/TrainMT45min.png)\\n\\nLearn about  \\nMachine Translation\\n\\n![](https://omniscien.com/wp-content/uploads/2020/08/IndustryDomains45.png)\\n\\nCustom MT Engines\\n\\n![](https://omniscien.com/wp-content/uploads/2020/08/CustomMT45.png)\\n\\nIndustry Domains\\n\\n![](https://omniscien.com/wp-content/uploads/2020/08/Language45.png)\\n\\nLanguages\\n\\n![](https://omniscien.com/wp-content/uploads/2020/08/DocumentFormats45.png)\\n\\nDocument Formats\\n\\n![](https://omniscien.com/wp-content/uploads/2020/08/DeploymentModels45.png)\\n\\nDeployment Models\\n\\n![](https://omniscien.com/wp-content/uploads/2020/08/TranslateBrowser45.png)\\n\\nWays to Translate\\n\\nHuman Language Technology Enhanced by Artificial Intelligence\\n\\n  * [Services](https://omniscien.com/services/)\\n  * [Solutions](https://omniscien.com/solutions/)\\n  * [Technology](https://omniscien.com/technology/)\\n  * [Resources __](https://omniscien.com/resources/)\\n\\n    * [About Us __](https://omniscien.com/about-us/)\\n\\n      * [Company](https://omniscien.com/about-us/company/)\\n      * [ Careers](https://omniscien.com/about-us/careers/)\\n      * [Internships](https://omniscien.com/about-us/internships/)\\n      * [News](https://omniscien.com/about-us/news/)\\n      * [Office Locations](https://omniscien.com/about-us/office-locations/)\\n      * [Legal](https://omniscien.com/about-us/legal/)\\n      * [Contact Us](https://omniscien.com/about-us/contact-us/)\\n\\n    * [Frequently Asked Questions (FAQ)](https://omniscien.com/faq/)\\n    * [Support](https://omniscien.com/support/)\\n    * [Omniscien Blog](https://omniscien.com/resources/blog/)\\n    * [Webinars](https://omniscien.com/resources/webinars/)\\n    * [Events and Conferences](https://omniscien.com/resources/events-and-conferences/)\\n    * [AI, MT and Language Processing Symposium](https://omniscien.com/symposium/)\\n    * [Case Studies](https://omniscien.com/resources/case-studies/)\\n    * [Testimonials](https://omniscien.com/testimonials/)\\n    * [Integrated Solution Partners](https://omniscien.com/resources/integrated-solution-partners/)\\n    * [Technology Partners](https://omniscien.com/resources/technology-partners/)\\n    * [Language Pairs – Machine Translation](https://omniscien.com/machine-translation/supported-languages/)\\n    * [Supported Document Formats](https://omniscien.com/machine-translation/supported-document-formats/)\\n    * [Ways to Translate](https://omniscien.com/machine-translation/ways-to-translate/)\\n    * [Data Security and Privacy](https://omniscien.com/machine-translation/data-security-and-privacy/)\\n\\n__ Search\\n\\nSTART TYPING AND PRESS ENTER TO SEARCH\\n\\n__\\n\\n__\\n\\n  * [ Home](https://omniscien.com/)\\n  * [Products __](/products/)\\n\\n    * [![Language Studio Logo](https://omniscien.com/wp-content/uploads/2020/10/LanguageStudio240min.png)](/lsev6/)\\n\\nPrivate and Secure Artificial Intelligence Tools for Enterprise\\n\\n[Overview](/lsev6/) | [Features](/lsev6/features/)\\n\\nEditions\\n\\n![](https://omniscien.com/wp-content/uploads/2020/08/SecureCloud45.png)\\n\\nSecure Cloud\\n\\n![](https://omniscien.com/wp-content/uploads/2020/08/Servers45.png)\\n\\nEnterprise\\n\\n[![Media Studio Logo](https://omniscien.com/wp-\\ncontent/uploads/2020/10/MediaStudio240min.png)](/products/media-studio/)\\n\\nProject Management,  \\nEditing & Subtitle Data Processing\\n\\n[Overview](/products/media-studio/) | [Features](/products/media-\\nstudio/#features)\\n\\nEditions\\n\\n![](https://omniscien.com/wp-content/uploads/2020/08/ProjectManagment45.png)\\n\\nProject Management and Editing Platform\\n\\n![](https://omniscien.com/wp-content/uploads/2020/08/LSETS45.png)\\n\\nData Processing Platform\\n\\n[![Workflow Studio Logo](https://omniscien.com/wp-\\ncontent/uploads/2020/10/WorkflowStudio240min.png)](/products/workflow-studio/)\\n\\nData Workflow Automation & Natural Language Processing\\n\\n[Overview](/products/workflow-studio/) | [Features](/products/workflow-\\nstudio/#features)\\n\\n\\n\\n![](https://omniscien.com/wp-content/uploads/2020/10/TrainMT45min.png)\\n\\nLearn about  \\nMachine Translation\\n\\n![](https://omniscien.com/wp-content/uploads/2020/08/IndustryDomains45.png)\\n\\nCustom MT Engines\\n\\n![](https://omniscien.com/wp-content/uploads/2020/08/CustomMT45.png)\\n\\nIndustry Domains\\n\\n![](https://omniscien.com/wp-content/uploads/2020/08/Language45.png)\\n\\nLanguages\\n\\n![](https://omniscien.com/wp-content/uploads/2020/08/DocumentFormats45.png)\\n\\nDocument Formats\\n\\n![](https://omniscien.com/wp-content/uploads/2020/08/DeploymentModels45.png)\\n\\nDeployment Models\\n\\n![](https://omniscien.com/wp-content/uploads/2020/08/TranslateBrowser45.png)\\n\\nWays to Translate\\n\\nHuman Language Technology Enhanced by Artificial Intelligence\\n\\n  * [Services](https://omniscien.com/services/)\\n  * [Solutions](https://omniscien.com/solutions/)\\n  * [Technology](https://omniscien.com/technology/)\\n  * [Resources __](https://omniscien.com/resources/)\\n\\n    * [About Us __](https://omniscien.com/about-us/)\\n\\n      * [Company](https://omniscien.com/about-us/company/)\\n      * [ Careers](https://omniscien.com/about-us/careers/)\\n      * [Internships](https://omniscien.com/about-us/internships/)\\n      * [News](https://omniscien.com/about-us/news/)\\n      * [Office Locations](https://omniscien.com/about-us/office-locations/)\\n      * [Legal](https://omniscien.com/about-us/legal/)\\n      * [Contact Us](https://omniscien.com/about-us/contact-us/)\\n\\n    * [Frequently Asked Questions (FAQ)](https://omniscien.com/faq/)\\n    * [Support](https://omniscien.com/support/)\\n    * [Omniscien Blog](https://omniscien.com/resources/blog/)\\n    * [Webinars](https://omniscien.com/resources/webinars/)\\n    * [Events and Conferences](https://omniscien.com/resources/events-and-conferences/)\\n    * [AI, MT and Language Processing Symposium](https://omniscien.com/symposium/)\\n    * [Case Studies](https://omniscien.com/resources/case-studies/)\\n    * [Testimonials](https://omniscien.com/testimonials/)\\n    * [Integrated Solution Partners](https://omniscien.com/resources/integrated-solution-partners/)\\n    * [Technology Partners](https://omniscien.com/resources/technology-partners/)\\n    * [Language Pairs – Machine Translation](https://omniscien.com/machine-translation/supported-languages/)\\n    * [Supported Document Formats](https://omniscien.com/machine-translation/supported-document-formats/)\\n    * [Ways to Translate](https://omniscien.com/machine-translation/ways-to-translate/)\\n    * [Data Security and Privacy](https://omniscien.com/machine-translation/data-security-and-privacy/)\\n\\n__ Search\\n\\n[Omniscien](https://omniscien.com/) » [About Us](https://omniscien.com/about-\\nus/) » Company\\n\\n#  Company Profile\\n\\n![What We Do](https://omniscien.com/wp-content/uploads/2020/07/WhatDoWeDo.png)\\n\\nWe  Process Language\\n\\n  * Text Analytics\\n  * Translation\\n  * Video and Voice Analytics\\n  * Voice Recognition and Transcription\\n  * Specialized Content (e.g. subtitles, patents, travel reviews, product descriptions)\\n\\nWe  Enable Clients to\\n\\n  * Understand data and act on data\\n  * Reach across language barriers quickly and cost-effectively\\n  * Extract new value from information hidden in data\\n  * Augment human intelligence via automation\\n\\nWe  Build Innovative Language Processing Solutions\\n\\n  * Machine Learning\\n  * Artificial Intelligence\\n  * Deep Learning\\n  * Natural Language Processing\\n  * Machine Translation\\n  * Custom Machine Translation Engines\\n\\n  * High-Performance Linguist Workflows\\n  * Data Mining and Metadata Extraction\\n  * Data Classification\\n  * Data Synthesis\\n  * Data Manufacturing\\n  * Data Cleaning\\n\\nHuman Language Technology (HLT) Powered by Artificial Intelligence\\n\\n##  Company Overview\\n\\nOmniscien Technologies is a market-leading global supplier of high-performance\\nand secure high-quality Language Processing, Machine Translation (MT),\\nArtificial Intelligence (AI) and Machine Learning (ML) technologies and\\nservices for content-intensive applications. Our wide range of solutions\\nservice clientele from various industries including the Localization Industry,\\nOnline Research Services, Publishing, E-Commerce, Media and Entertainment,\\nOnline Travel, Technology, Enterprise, Banking and Finance, Military, and\\nGovernment.\\n\\nOmniscien Technologies has gained a reputation for cutting-edge solutions with\\nits Language Studio, Media Studio, and E-Commerce Studio platforms. Depending\\nupon customers’ requirements, the platforms can be deployed in a variety of\\nways to integrate with in-house data processing and translation management\\nsystems for the localization industry as well as other systems.\\n\\nOmniscien\\'s product platforms offer unparalleled levels of customization and\\ncontrol including feature-rich pre- and post-processing, enabling customers\\nwith even the most complex data to achieve both high quality and high-volume\\noutput to satisfy every use case. Omniscien Technologies has by far the most\\ncomprehensive and feature-rich systems in the market today.\\n\\nOmniscien Technologies products and technologies are deployed globally to a\\nwide variety of customers including governments, multinationals, language\\nservice providers, e-commerce providers, media organizations and some of the\\nworld’s leading companies and best-known global brands.\\n\\nCovering nearly 600 global language pairs and with several industry-specific\\nsolutions, Omniscien Technologies remains the partner of choice for customers\\nwith complex, high-volume bespoke data processing and machine translation\\nneeds.\\n\\nFounded in 2007, Omniscien Technologies Headquarters are located in Singapore,\\nwith R&D based out of Bangkok, Thailand, and a commercial presence in several\\nlocations in Europe and North America.\\n\\n##  Team\\n\\nThe Omniscien team comes from a broad set of complementary backgrounds that\\nempower the organization and bridge the cultural and language barriers that\\ndefine the cross-border and language industries.\\n\\n![Gregory Binger](https://omniscien.com/wp-\\ncontent/uploads/2020/07/GB20Photo208a20-20Flip20Horiz-small1.jpg)\\n\\n### Gregory Binger\\n\\nChairman, Chief Operating Officer, Co-Founder\\n\\nGregory Binger has been a senior officer, board member, senior counsel or\\nadviser to many of the world’s best-known Internet brands, technology,\\ncommunications, media and entertainment companies. His positions have included\\nSenior Counsel and Management Board for at Yahoo! UK & Ireland, Executive Vice\\nPresident & General Counsel at Lycos Asia, Acting Senior Corporate Counsel at\\nnineMSN Australia, and Acting Corporate Counsel Europe at CompuServe.\\n\\nHe has taken a hands-on approach in securing successful deals on a wide range\\nof issues relating to technology and media licensing and procurement,\\nintellectual property, information technology, technology outsourcing, systems\\nintegration, electronic, online and mobile content, games and applications,\\nanimation and video postproduction, VoIP, WiFi, and online betting and gaming.\\n\\nFar from being an ivory tower academic, Greg has excelled at managing and\\nachieving successful results from multi-disciplinary teams of all sizes\\ndealing with marketing, business development and corporate governance. He has\\nsignificant experience managing companies in Asia. For example at Lycos Asia,\\nhe had oversight management of the company secretarial function for the\\nprimary holding company and 23 affiliated companies around the world.\\n\\nGreg has been a frequent speaker and publisher of articles on such diverse\\ntopics as hyper-linking risks, copyright and information distribution on\\ncomputer networks, data security, information privacy, content supply, resale\\nand distribution, intellectual property and technology convergence. He co-\\nauthored Computer Evidence: A Forensic Investigations Handbook, a book that\\ndeals with covert electronic surveillance, legal and ethical hacking and\\nevidence gathering and preservation techniques.\\n\\n![Dion Wiggins](https://omniscien.com/wp-\\ncontent/uploads/2020/07/Dion_1501.jpg)\\n\\n### Dion Wiggins\\n\\nChief Technology Officer, Co-Founder\\n\\nDion Wiggins is a highly experienced ICT industry visionary, entrepreneur,\\nanalyst, and consultant. He has an impressive knowledge in the fields of\\nsoftware development, architecture, and management, as well as an in-depth\\nunderstanding of Asian ICT markets. He is an accomplished speaker and has a\\nhigh media profile for his perceptive analysis of ICT in Asia/Pacific.\\n\\nPreviously Dion was Vice President and Research Director for Gartner based in\\nHong Kong, where he was the most senior and highly-respected analyst based in\\nall of Asia. Dion’s research reports on ICT in China helped change the way the\\nworld views this market.\\n\\nDion is also a well-known pioneer of the Asian Internet Industry, being the\\nfounder of one of Asia’s first ever ISPs (Asia Online in Hong Kong). In his\\nrole at Gartner and in various other consulting positions prior to that, Dion\\nadvised literally hundreds of enterprises on their ICT strategy.\\n\\nDion was a founder of The ActiveX Factory, where he was the recipient of the\\nChairman’s Commendation Award presented by Microsoft’s Bill Gates for the best\\nshowcase of software developed in the Philippines. The US Government has\\nrecognized Dion as being in the top 5% of his field worldwide and he is a\\nformer holder of a US O1 Extraordinary Ability Visa.\\n\\n![Philipp Koehn](https://omniscien.com/wp-\\ncontent/uploads/2020/07/Koehn-1721.jpg)\\n\\n### Philipp Koehn\\n\\nChief Scientist\\n\\nBehind many of the tools design is Omniscien’s Chief Scientist, Professor\\nPhilipp Koehn who leads our team of researchers and developers. Philipp is a\\npioneer in the machine translation space, his books on [Statistical Machine\\nTranslation](https://www.amazon.com/Statistical-Machine-Translation-Philipp-\\nKoehn/dp/0521874157 \"Statistical Machine Translation\") and [Neural Machine\\nTranslation](https://www.amazon.com/Neural-Machine-Translation-Philipp-\\nKoehn/dp/1108497322 \"Neural Machine Translation\") are the leading academic\\ntextbooks globally on machine translation. Both books are available now from\\nAmazon.com or leading book stores.\\n\\nPhilipp Koehn is a Professor of Computer Science at [Johns Hopkins\\nUniversity](https://www.jhu.edu/) and also holds the Chair for Machine\\nTranslation in the School of Informatics at the [University of\\nEdinburgh](https://www.ed.ac.uk/). Philipp Koehn is a leader in the field of\\nstatistical machine translation and neural machine translation research with\\nover 100 publications. He is the author of several textbooks and online\\ntraining courses in the field.\\n\\nUnder his leadership, the [open source Moses\\nsystem](https://www2.statmt.org/moses/) that, prior to NMT, became the de-\\nfacto standard toolkit for statistical machine translation in research and\\ncommercial deployment. Koehn led international research projects such as\\n[Euromatrix](https://www.euromatrixplus.net/) and\\n[CASMACAT](https://www.casmacat.eu/). Koehn’s research has been funded by the\\n[European Union](https://european-union.europa.eu/),\\n[DARPA](https://www.darpa.mil/), [Google](https://google.com),\\n[Facebook](https://www.meta.com/), [Amazon](https://amazon.com),\\n[Bloomberg](https://bloomberg.com), and several other funding agencies. Koehn\\nreceived his PhD in 2003 from the [University of Southern\\nCalifornia](https://www.usc.edu/) and was a postdoctoral research associate at\\n[MIT](https://www.mit.edu/). He was a finalist for the [European Patent\\nOffice’s](https://www.epo.org/) European Inventor Award in 2013 and received\\nthe Award of Honor from the International Association of Machine Translation\\nin 2015.\\n\\nAt [Omniscien](https://omniscien.com), Koehn refined machine translation\\ntechnology for use in real-world deployments and helped develop methods for\\ndata acquisition and refinement. Koehn continues to drive innovation and\\ntechnological development at Omniscien.\\n\\nSee how Omniscien can help  \\n **solve your unique  \\nlanguage and document processing challenges**\\n\\n[Request a Demo](/resources/request-a-demo/)\\n\\n[Contact Us](/about-us/contact-us/)\\n\\n[Subscribe to our Mailing List](/resources/subscribe-to-omniscien-mailing-\\nlist/)\\n\\n[Products](/products/)\\n\\n  * [Language Studio](/products/language-studio/)\\n  * [Media Studio](/products/media-studio/)[](/products/workflow-studio/)\\n\\n[Services](/services/)\\n\\n  * [Custom MT Engines](/services/#custom-mt-engines)\\n  * [Custom Workflows](/services/#custom-workflows)\\n  * [Consulting](/services/#consulting)\\n\\n[Machine Translation](/machine-translation/)\\n\\n  * [Machine Translation Overview](/machine-translation/)\\n  * [Detailed Features](/products/language-studio/language-studio-features/)\\n  * [Industry Domain MT Engines](/machine-translation/industry-domains/)\\n  * [Custom MT Engines](/machine-translation/custom-mt-engines/)\\n  * [Data Creation Tools](/machine-translation/powerful-tools-for-data-creation-preparation-and-analysis/)\\n  * [Ways to Translate](/machine-translation/ways-to-translate/)\\n  * [Hybrid NMT/SMT Engines](/machine-translation/hybrid-machine-translation/)\\n\\n[Human Language Technology (HLT)](/technology/)\\n\\n  * [Artificial Intelligence & Machine Learning](/technology/#artificial-intelligence)\\n  * [State-of-the-Art Machine Translation](/technology/#machine-translation)\\n  * [Neural Machine Translation (NMT)](/technology/#machine-translation)\\n  * [Statistical Machine Translation (SMT)](/technology/#machine-translation)\\n  * [Hybrid Deep NMT/SMT](/technology/#machine-translation)\\n  * [Machine Translation Engine Training](/technology/#machine-translation-engine-training)\\n  * [Data Synthesis, and Data Creation](/technology/#data-synthesis)\\n  * [Data Cleaning](/technology/#data-cleaning)\\n  * [Measurement](/technology/#measurement)\\n  * [Natural Language Processing (NLP)](/technology/#nlp)\\n  * [Workflow Automation](/technology/#workflow-automation)\\n  * [Subtitle, Video, Audio, and Media ](/technology/#media)\\n  * [Data Source and Integration](/technology/#integration)\\n  * [Data Conversion](/technology/#data-conversion)\\n\\n[Resources](/resources/)\\n\\n  * [Support](/support/)\\n  * [Frequently Asked Questions](/faq/)\\n  * [Blog](/resources/blog/)\\n  * [Webinars](/resources/webinars/)\\n  * [Integrated Solution Partners](/resources/integrated-solution-partners/)\\n  * [Technology Partners](/resources/technology-partners/)\\n  * [Supported Languages](/machine-translation/supported-languages/)\\n  * [Supported Document Formats](/machine-translation/supported-document-formats/)\\n  * [Data Security and Privacy](/machine-translation/data-security-and-privacy/)\\n  * [Deployment Models](/machine-translation/deployment-models/ )\\n\\n[About Us](/about-us/)\\n\\n  * [Company](/about-us/company/)\\n  * [Careers](/about-us/careers/)\\n  * [Internships](/about-us/internships/)\\n  * [News](/about-us/news/)\\n  * [Office Locations](/about-us/office-locations/)\\n  * [Legal](/about-us/legal/)\\n\\nConnect\\n\\n  * [Follow](https://www.facebook.com/omniscien \"Follow on Facebook\")\\n  * [Follow](https://twitter.com/omniscientech \"Follow on Twitter\")\\n  * [Follow](https://www.linkedin.com/company/omniscien \"Follow on LinkedIn\")\\n\\n  * [Contact Us](/about-us/contact-us/)\\n  * [Request a Demo](/resources/request-a-demo/)\\n  * [Subscribe to Mailing List](/resources/subscribe-to-omniscien-mailing-list/)\\n\\nCopyright © 2023 Omniscien Technologies. All Rights Reserved.\\n[Legal](/about-us/legal/)\\n\\nFREE WEBINAR: The Future of Language Related AI for Enterprises: Local Agents\\nand Fine-Tuned Large Language Models (LLMs)[Watch the\\nReplay](https://omniscien.com/resources/webinars)\\n\\n+ __\\n\\n'"
      ]
     },
     "execution_count": 9,
     "metadata": {},
     "output_type": "execute_result"
    }
   ],
   "source": [
    "documents[1].text"
   ]
  },
  {
   "cell_type": "code",
   "execution_count": 10,
   "metadata": {},
   "outputs": [
    {
     "data": {
      "text/plain": [
       "'\\n\\n[![](https://omniscien.com/wp-content/uploads/2020/10/AW_Omniscien-\\nLogo_RGB_Hi-01-croppedmin.png)![](https://omniscien.com/wp-\\ncontent/uploads/2020/10/AW_Omniscien-\\nLogo_RGB_Hi-01-croppedmin.png)![](https://omniscien.com/wp-\\ncontent/uploads/2020/07/Logo_Web.jpg)](https://omniscien.com/)\\n\\n__\\n\\n  * [ Home](https://omniscien.com/)\\n  * [Products __](/products/)\\n\\n    * [![Language Studio Logo](https://omniscien.com/wp-content/uploads/2020/10/LanguageStudio240min.png)](/lsev6/)\\n\\nPrivate and Secure Artificial Intelligence Tools for Enterprise\\n\\n[Overview](/lsev6/) | [Features](/lsev6/features/)\\n\\nEditions\\n\\n![](https://omniscien.com/wp-content/uploads/2020/08/SecureCloud45.png)\\n\\nSecure Cloud\\n\\n![](https://omniscien.com/wp-content/uploads/2020/08/Servers45.png)\\n\\nEnterprise\\n\\n[![Media Studio Logo](https://omniscien.com/wp-\\ncontent/uploads/2020/10/MediaStudio240min.png)](/products/media-studio/)\\n\\nProject Management,  \\nEditing & Subtitle Data Processing\\n\\n[Overview](/products/media-studio/) | [Features](/products/media-\\nstudio/#features)\\n\\nEditions\\n\\n![](https://omniscien.com/wp-content/uploads/2020/08/ProjectManagment45.png)\\n\\nProject Management and Editing Platform\\n\\n![](https://omniscien.com/wp-content/uploads/2020/08/LSETS45.png)\\n\\nData Processing Platform\\n\\n[![Workflow Studio Logo](https://omniscien.com/wp-\\ncontent/uploads/2020/10/WorkflowStudio240min.png)](/products/workflow-studio/)\\n\\nData Workflow Automation & Natural Language Processing\\n\\n[Overview](/products/workflow-studio/) | [Features](/products/workflow-\\nstudio/#features)\\n\\n\\n\\n![](https://omniscien.com/wp-content/uploads/2020/10/TrainMT45min.png)\\n\\nLearn about  \\nMachine Translation\\n\\n![](https://omniscien.com/wp-content/uploads/2020/08/IndustryDomains45.png)\\n\\nCustom MT Engines\\n\\n![](https://omniscien.com/wp-content/uploads/2020/08/CustomMT45.png)\\n\\nIndustry Domains\\n\\n![](https://omniscien.com/wp-content/uploads/2020/08/Language45.png)\\n\\nLanguages\\n\\n![](https://omniscien.com/wp-content/uploads/2020/08/DocumentFormats45.png)\\n\\nDocument Formats\\n\\n![](https://omniscien.com/wp-content/uploads/2020/08/DeploymentModels45.png)\\n\\nDeployment Models\\n\\n![](https://omniscien.com/wp-content/uploads/2020/08/TranslateBrowser45.png)\\n\\nWays to Translate\\n\\nHuman Language Technology Enhanced by Artificial Intelligence\\n\\n  * [Services](https://omniscien.com/services/)\\n  * [Solutions](https://omniscien.com/solutions/)\\n  * [Technology](https://omniscien.com/technology/)\\n  * [Resources __](https://omniscien.com/resources/)\\n\\n    * [About Us __](https://omniscien.com/about-us/)\\n\\n      * [Company](https://omniscien.com/about-us/company/)\\n      * [ Careers](https://omniscien.com/about-us/careers/)\\n      * [Internships](https://omniscien.com/about-us/internships/)\\n      * [News](https://omniscien.com/about-us/news/)\\n      * [Office Locations](https://omniscien.com/about-us/office-locations/)\\n      * [Legal](https://omniscien.com/about-us/legal/)\\n      * [Contact Us](https://omniscien.com/about-us/contact-us/)\\n\\n    * [Frequently Asked Questions (FAQ)](https://omniscien.com/faq/)\\n    * [Support](https://omniscien.com/support/)\\n    * [Omniscien Blog](https://omniscien.com/resources/blog/)\\n    * [Webinars](https://omniscien.com/resources/webinars/)\\n    * [Events and Conferences](https://omniscien.com/resources/events-and-conferences/)\\n    * [AI, MT and Language Processing Symposium](https://omniscien.com/symposium/)\\n    * [Case Studies](https://omniscien.com/resources/case-studies/)\\n    * [Testimonials](https://omniscien.com/testimonials/)\\n    * [Integrated Solution Partners](https://omniscien.com/resources/integrated-solution-partners/)\\n    * [Technology Partners](https://omniscien.com/resources/technology-partners/)\\n    * [Language Pairs – Machine Translation](https://omniscien.com/machine-translation/supported-languages/)\\n    * [Supported Document Formats](https://omniscien.com/machine-translation/supported-document-formats/)\\n    * [Ways to Translate](https://omniscien.com/machine-translation/ways-to-translate/)\\n    * [Data Security and Privacy](https://omniscien.com/machine-translation/data-security-and-privacy/)\\n\\n__ Search\\n\\nSTART TYPING AND PRESS ENTER TO SEARCH\\n\\n__\\n\\n__\\n\\n  * [ Home](https://omniscien.com/)\\n  * [Products __](/products/)\\n\\n    * [![Language Studio Logo](https://omniscien.com/wp-content/uploads/2020/10/LanguageStudio240min.png)](/lsev6/)\\n\\nPrivate and Secure Artificial Intelligence Tools for Enterprise\\n\\n[Overview](/lsev6/) | [Features](/lsev6/features/)\\n\\nEditions\\n\\n![](https://omniscien.com/wp-content/uploads/2020/08/SecureCloud45.png)\\n\\nSecure Cloud\\n\\n![](https://omniscien.com/wp-content/uploads/2020/08/Servers45.png)\\n\\nEnterprise\\n\\n[![Media Studio Logo](https://omniscien.com/wp-\\ncontent/uploads/2020/10/MediaStudio240min.png)](/products/media-studio/)\\n\\nProject Management,  \\nEditing & Subtitle Data Processing\\n\\n[Overview](/products/media-studio/) | [Features](/products/media-\\nstudio/#features)\\n\\nEditions\\n\\n![](https://omniscien.com/wp-content/uploads/2020/08/ProjectManagment45.png)\\n\\nProject Management and Editing Platform\\n\\n![](https://omniscien.com/wp-content/uploads/2020/08/LSETS45.png)\\n\\nData Processing Platform\\n\\n[![Workflow Studio Logo](https://omniscien.com/wp-\\ncontent/uploads/2020/10/WorkflowStudio240min.png)](/products/workflow-studio/)\\n\\nData Workflow Automation & Natural Language Processing\\n\\n[Overview](/products/workflow-studio/) | [Features](/products/workflow-\\nstudio/#features)\\n\\n\\n\\n![](https://omniscien.com/wp-content/uploads/2020/10/TrainMT45min.png)\\n\\nLearn about  \\nMachine Translation\\n\\n![](https://omniscien.com/wp-content/uploads/2020/08/IndustryDomains45.png)\\n\\nCustom MT Engines\\n\\n![](https://omniscien.com/wp-content/uploads/2020/08/CustomMT45.png)\\n\\nIndustry Domains\\n\\n![](https://omniscien.com/wp-content/uploads/2020/08/Language45.png)\\n\\nLanguages\\n\\n![](https://omniscien.com/wp-content/uploads/2020/08/DocumentFormats45.png)\\n\\nDocument Formats\\n\\n![](https://omniscien.com/wp-content/uploads/2020/08/DeploymentModels45.png)\\n\\nDeployment Models\\n\\n![](https://omniscien.com/wp-content/uploads/2020/08/TranslateBrowser45.png)\\n\\nWays to Translate\\n\\nHuman Language Technology Enhanced by Artificial Intelligence\\n\\n  * [Services](https://omniscien.com/services/)\\n  * [Solutions](https://omniscien.com/solutions/)\\n  * [Technology](https://omniscien.com/technology/)\\n  * [Resources __](https://omniscien.com/resources/)\\n\\n    * [About Us __](https://omniscien.com/about-us/)\\n\\n      * [Company](https://omniscien.com/about-us/company/)\\n      * [ Careers](https://omniscien.com/about-us/careers/)\\n      * [Internships](https://omniscien.com/about-us/internships/)\\n      * [News](https://omniscien.com/about-us/news/)\\n      * [Office Locations](https://omniscien.com/about-us/office-locations/)\\n      * [Legal](https://omniscien.com/about-us/legal/)\\n      * [Contact Us](https://omniscien.com/about-us/contact-us/)\\n\\n    * [Frequently Asked Questions (FAQ)](https://omniscien.com/faq/)\\n    * [Support](https://omniscien.com/support/)\\n    * [Omniscien Blog](https://omniscien.com/resources/blog/)\\n    * [Webinars](https://omniscien.com/resources/webinars/)\\n    * [Events and Conferences](https://omniscien.com/resources/events-and-conferences/)\\n    * [AI, MT and Language Processing Symposium](https://omniscien.com/symposium/)\\n    * [Case Studies](https://omniscien.com/resources/case-studies/)\\n    * [Testimonials](https://omniscien.com/testimonials/)\\n    * [Integrated Solution Partners](https://omniscien.com/resources/integrated-solution-partners/)\\n    * [Technology Partners](https://omniscien.com/resources/technology-partners/)\\n    * [Language Pairs – Machine Translation](https://omniscien.com/machine-translation/supported-languages/)\\n    * [Supported Document Formats](https://omniscien.com/machine-translation/supported-document-formats/)\\n    * [Ways to Translate](https://omniscien.com/machine-translation/ways-to-translate/)\\n    * [Data Security and Privacy](https://omniscien.com/machine-translation/data-security-and-privacy/)\\n\\n__ Search\\n\\n[Omniscien](https://omniscien.com/) » [About Us](https://omniscien.com/about-\\nus/) » Company\\n\\n#  Company Profile\\n\\n![What We Do](https://omniscien.com/wp-content/uploads/2020/07/WhatDoWeDo.png)\\n\\nWe  Process Language\\n\\n  * Text Analytics\\n  * Translation\\n  * Video and Voice Analytics\\n  * Voice Recognition and Transcription\\n  * Specialized Content (e.g. subtitles, patents, travel reviews, product descriptions)\\n\\nWe  Enable Clients to\\n\\n  * Understand data and act on data\\n  * Reach across language barriers quickly and cost-effectively\\n  * Extract new value from information hidden in data\\n  * Augment human intelligence via automation\\n\\nWe  Build Innovative Language Processing Solutions\\n\\n  * Machine Learning\\n  * Artificial Intelligence\\n  * Deep Learning\\n  * Natural Language Processing\\n  * Machine Translation\\n  * Custom Machine Translation Engines\\n\\n  * High-Performance Linguist Workflows\\n  * Data Mining and Metadata Extraction\\n  * Data Classification\\n  * Data Synthesis\\n  * Data Manufacturing\\n  * Data Cleaning\\n\\nHuman Language Technology (HLT) Powered by Artificial Intelligence\\n\\n##  Company Overview\\n\\nOmniscien Technologies is a market-leading global supplier of high-performance\\nand secure high-quality Language Processing, Machine Translation (MT),\\nArtificial Intelligence (AI) and Machine Learning (ML) technologies and\\nservices for content-intensive applications. Our wide range of solutions\\nservice clientele from various industries including the Localization Industry,\\nOnline Research Services, Publishing, E-Commerce, Media and Entertainment,\\nOnline Travel, Technology, Enterprise, Banking and Finance, Military, and\\nGovernment.\\n\\nOmniscien Technologies has gained a reputation for cutting-edge solutions with\\nits Language Studio, Media Studio, and E-Commerce Studio platforms. Depending\\nupon customers’ requirements, the platforms can be deployed in a variety of\\nways to integrate with in-house data processing and translation management\\nsystems for the localization industry as well as other systems.\\n\\nOmniscien\\'s product platforms offer unparalleled levels of customization and\\ncontrol including feature-rich pre- and post-processing, enabling customers\\nwith even the most complex data to achieve both high quality and high-volume\\noutput to satisfy every use case. Omniscien Technologies has by far the most\\ncomprehensive and feature-rich systems in the market today.\\n\\nOmniscien Technologies products and technologies are deployed globally to a\\nwide variety of customers including governments, multinationals, language\\nservice providers, e-commerce providers, media organizations and some of the\\nworld’s leading companies and best-known global brands.\\n\\nCovering nearly 600 global language pairs and with several industry-specific\\nsolutions, Omniscien Technologies remains the partner of choice for customers\\nwith complex, high-volume bespoke data processing and machine translation\\nneeds.\\n\\nFounded in 2007, Omniscien Technologies Headquarters are located in Singapore,\\nwith R&D based out of Bangkok, Thailand, and a commercial presence in several\\nlocations in Europe and North America.\\n\\n##  Team\\n\\nThe Omniscien team comes from a broad set of complementary backgrounds that\\nempower the organization and bridge the cultural and language barriers that\\ndefine the cross-border and language industries.\\n\\n![Gregory Binger](https://omniscien.com/wp-\\ncontent/uploads/2020/07/GB20Photo208a20-20Flip20Horiz-small1.jpg)\\n\\n### Gregory Binger\\n\\nChairman, Chief Operating Officer, Co-Founder\\n\\nGregory Binger has been a senior officer, board member, senior counsel or\\nadviser to many of the world’s best-known Internet brands, technology,\\ncommunications, media and entertainment companies. His positions have included\\nSenior Counsel and Management Board for at Yahoo! UK & Ireland, Executive Vice\\nPresident & General Counsel at Lycos Asia, Acting Senior Corporate Counsel at\\nnineMSN Australia, and Acting Corporate Counsel Europe at CompuServe.\\n\\nHe has taken a hands-on approach in securing successful deals on a wide range\\nof issues relating to technology and media licensing and procurement,\\nintellectual property, information technology, technology outsourcing, systems\\nintegration, electronic, online and mobile content, games and applications,\\nanimation and video postproduction, VoIP, WiFi, and online betting and gaming.\\n\\nFar from being an ivory tower academic, Greg has excelled at managing and\\nachieving successful results from multi-disciplinary teams of all sizes\\ndealing with marketing, business development and corporate governance. He has\\nsignificant experience managing companies in Asia. For example at Lycos Asia,\\nhe had oversight management of the company secretarial function for the\\nprimary holding company and 23 affiliated companies around the world.\\n\\nGreg has been a frequent speaker and publisher of articles on such diverse\\ntopics as hyper-linking risks, copyright and information distribution on\\ncomputer networks, data security, information privacy, content supply, resale\\nand distribution, intellectual property and technology convergence. He co-\\nauthored Computer Evidence: A Forensic Investigations Handbook, a book that\\ndeals with covert electronic surveillance, legal and ethical hacking and\\nevidence gathering and preservation techniques.\\n\\n![Dion Wiggins](https://omniscien.com/wp-\\ncontent/uploads/2020/07/Dion_1501.jpg)\\n\\n### Dion Wiggins\\n\\nChief Technology Officer, Co-Founder\\n\\nDion Wiggins is a highly experienced ICT industry visionary, entrepreneur,\\nanalyst, and consultant. He has an impressive knowledge in the fields of\\nsoftware development, architecture, and management, as well as an in-depth\\nunderstanding of Asian ICT markets. He is an accomplished speaker and has a\\nhigh media profile for his perceptive analysis of ICT in Asia/Pacific.\\n\\nPreviously Dion was Vice President and Research Director for Gartner based in\\nHong Kong, where he was the most senior and highly-respected analyst based in\\nall of Asia. Dion’s research reports on ICT in China helped change the way the\\nworld views this market.\\n\\nDion is also a well-known pioneer of the Asian Internet Industry, being the\\nfounder of one of Asia’s first ever ISPs (Asia Online in Hong Kong). In his\\nrole at Gartner and in various other consulting positions prior to that, Dion\\nadvised literally hundreds of enterprises on their ICT strategy.\\n\\nDion was a founder of The ActiveX Factory, where he was the recipient of the\\nChairman’s Commendation Award presented by Microsoft’s Bill Gates for the best\\nshowcase of software developed in the Philippines. The US Government has\\nrecognized Dion as being in the top 5% of his field worldwide and he is a\\nformer holder of a US O1 Extraordinary Ability Visa.\\n\\n![Philipp Koehn](https://omniscien.com/wp-\\ncontent/uploads/2020/07/Koehn-1721.jpg)\\n\\n### Philipp Koehn\\n\\nChief Scientist\\n\\nBehind many of the tools design is Omniscien’s Chief Scientist, Professor\\nPhilipp Koehn who leads our team of researchers and developers. Philipp is a\\npioneer in the machine translation space, his books on [Statistical Machine\\nTranslation](https://www.amazon.com/Statistical-Machine-Translation-Philipp-\\nKoehn/dp/0521874157 \"Statistical Machine Translation\") and [Neural Machine\\nTranslation](https://www.amazon.com/Neural-Machine-Translation-Philipp-\\nKoehn/dp/1108497322 \"Neural Machine Translation\") are the leading academic\\ntextbooks globally on machine translation. Both books are available now from\\nAmazon.com or leading book stores.\\n\\nPhilipp Koehn is a Professor of Computer Science at [Johns Hopkins\\nUniversity](https://www.jhu.edu/) and also holds the Chair for Machine\\nTranslation in the School of Informatics at the [University of\\nEdinburgh](https://www.ed.ac.uk/). Philipp Koehn is a leader in the field of\\nstatistical machine translation and neural machine translation research with\\nover 100 publications. He is the author of several textbooks and online\\ntraining courses in the field.\\n\\nUnder his leadership, the [open source Moses\\nsystem](https://www2.statmt.org/moses/) that, prior to NMT, became the de-\\nfacto standard toolkit for statistical machine translation in research and\\ncommercial deployment. Koehn led international research projects such as\\n[Euromatrix](https://www.euromatrixplus.net/) and\\n[CASMACAT](https://www.casmacat.eu/). Koehn’s research has been funded by the\\n[European Union](https://european-union.europa.eu/),\\n[DARPA](https://www.darpa.mil/), [Google](https://google.com),\\n[Facebook](https://www.meta.com/), [Amazon](https://amazon.com),\\n[Bloomberg](https://bloomberg.com), and several other funding agencies. Koehn\\nreceived his PhD in 2003 from the [University of Southern\\nCalifornia](https://www.usc.edu/) and was a postdoctoral research associate at\\n[MIT](https://www.mit.edu/). He was a finalist for the [European Patent\\nOffice’s](https://www.epo.org/) European Inventor Award in 2013 and received\\nthe Award of Honor from the International Association of Machine Translation\\nin 2015.\\n\\nAt [Omniscien](https://omniscien.com), Koehn refined machine translation\\ntechnology for use in real-world deployments and helped develop methods for\\ndata acquisition and refinement. Koehn continues to drive innovation and\\ntechnological development at Omniscien.\\n\\nSee how Omniscien can help  \\n **solve your unique  \\nlanguage and document processing challenges**\\n\\n[Request a Demo](/resources/request-a-demo/)\\n\\n[Contact Us](/about-us/contact-us/)\\n\\n[Subscribe to our Mailing List](/resources/subscribe-to-omniscien-mailing-\\nlist/)\\n\\n[Products](/products/)\\n\\n  * [Language Studio](/products/language-studio/)\\n  * [Media Studio](/products/media-studio/)[](/products/workflow-studio/)\\n\\n[Services](/services/)\\n\\n  * [Custom MT Engines](/services/#custom-mt-engines)\\n  * [Custom Workflows](/services/#custom-workflows)\\n  * [Consulting](/services/#consulting)\\n\\n[Machine Translation](/machine-translation/)\\n\\n  * [Machine Translation Overview](/machine-translation/)\\n  * [Detailed Features](/products/language-studio/language-studio-features/)\\n  * [Industry Domain MT Engines](/machine-translation/industry-domains/)\\n  * [Custom MT Engines](/machine-translation/custom-mt-engines/)\\n  * [Data Creation Tools](/machine-translation/powerful-tools-for-data-creation-preparation-and-analysis/)\\n  * [Ways to Translate](/machine-translation/ways-to-translate/)\\n  * [Hybrid NMT/SMT Engines](/machine-translation/hybrid-machine-translation/)\\n\\n[Human Language Technology (HLT)](/technology/)\\n\\n  * [Artificial Intelligence & Machine Learning](/technology/#artificial-intelligence)\\n  * [State-of-the-Art Machine Translation](/technology/#machine-translation)\\n  * [Neural Machine Translation (NMT)](/technology/#machine-translation)\\n  * [Statistical Machine Translation (SMT)](/technology/#machine-translation)\\n  * [Hybrid Deep NMT/SMT](/technology/#machine-translation)\\n  * [Machine Translation Engine Training](/technology/#machine-translation-engine-training)\\n  * [Data Synthesis, and Data Creation](/technology/#data-synthesis)\\n  * [Data Cleaning](/technology/#data-cleaning)\\n  * [Measurement](/technology/#measurement)\\n  * [Natural Language Processing (NLP)](/technology/#nlp)\\n  * [Workflow Automation](/technology/#workflow-automation)\\n  * [Subtitle, Video, Audio, and Media ](/technology/#media)\\n  * [Data Source and Integration](/technology/#integration)\\n  * [Data Conversion](/technology/#data-conversion)\\n\\n[Resources](/resources/)\\n\\n  * [Support](/support/)\\n  * [Frequently Asked Questions](/faq/)\\n  * [Blog](/resources/blog/)\\n  * [Webinars](/resources/webinars/)\\n  * [Integrated Solution Partners](/resources/integrated-solution-partners/)\\n  * [Technology Partners](/resources/technology-partners/)\\n  * [Supported Languages](/machine-translation/supported-languages/)\\n  * [Supported Document Formats](/machine-translation/supported-document-formats/)\\n  * [Data Security and Privacy](/machine-translation/data-security-and-privacy/)\\n  * [Deployment Models](/machine-translation/deployment-models/ )\\n\\n[About Us](/about-us/)\\n\\n  * [Company](/about-us/company/)\\n  * [Careers](/about-us/careers/)\\n  * [Internships](/about-us/internships/)\\n  * [News](/about-us/news/)\\n  * [Office Locations](/about-us/office-locations/)\\n  * [Legal](/about-us/legal/)\\n\\nConnect\\n\\n  * [Follow](https://www.facebook.com/omniscien \"Follow on Facebook\")\\n  * [Follow](https://twitter.com/omniscientech \"Follow on Twitter\")\\n  * [Follow](https://www.linkedin.com/company/omniscien \"Follow on LinkedIn\")\\n\\n  * [Contact Us](/about-us/contact-us/)\\n  * [Request a Demo](/resources/request-a-demo/)\\n  * [Subscribe to Mailing List](/resources/subscribe-to-omniscien-mailing-list/)\\n\\nCopyright © 2023 Omniscien Technologies. All Rights Reserved.\\n[Legal](/about-us/legal/)\\n\\nFREE WEBINAR: The Future of Language Related AI for Enterprises: Local Agents\\nand Fine-Tuned Large Language Models (LLMs)[Watch the\\nReplay](https://omniscien.com/resources/webinars)\\n\\n+ __\\n\\n'"
      ]
     },
     "execution_count": 10,
     "metadata": {},
     "output_type": "execute_result"
    }
   ],
   "source": [
    "documents[10].text"
   ]
  },
  {
   "cell_type": "code",
   "execution_count": 20,
   "metadata": {},
   "outputs": [
    {
     "data": {
      "text/plain": [
       "'\\n\\n'"
      ]
     },
     "execution_count": 20,
     "metadata": {},
     "output_type": "execute_result"
    }
   ],
   "source": [
    "documents[-1].text"
   ]
  },
  {
   "cell_type": "code",
   "execution_count": null,
   "metadata": {},
   "outputs": [],
   "source": []
  }
 ],
 "metadata": {
  "kernelspec": {
   "display_name": "lang-lama",
   "language": "python",
   "name": "python3"
  },
  "language_info": {
   "codemirror_mode": {
    "name": "ipython",
    "version": 3
   },
   "file_extension": ".py",
   "mimetype": "text/x-python",
   "name": "python",
   "nbconvert_exporter": "python",
   "pygments_lexer": "ipython3",
   "version": "3.9.16"
  },
  "orig_nbformat": 4
 },
 "nbformat": 4,
 "nbformat_minor": 2
}
